{
 "cells": [
  {
   "cell_type": "code",
   "execution_count": 1,
   "id": "254c4681-5ddd-4e35-a7d6-1ad1f207c398",
   "metadata": {},
   "outputs": [],
   "source": [
    "import pandas as pd\n",
    "import numpy as np\n",
    "import pickle"
   ]
  },
  {
   "cell_type": "code",
   "execution_count": 2,
   "id": "300baad2-f8ce-4557-9e01-087f5fa7da5f",
   "metadata": {
    "tags": []
   },
   "outputs": [],
   "source": [
    "with open('country_list_neu.pkl', 'rb') as file:\n",
    "    loaded_list = pickle.load(file)\n"
   ]
  },
  {
   "cell_type": "code",
   "execution_count": 3,
   "id": "815ceee1-25df-494d-bdf5-4353d48596a6",
   "metadata": {
    "tags": []
   },
   "outputs": [],
   "source": [
    "df = pd.read_csv(\"merged_data.csv\")"
   ]
  },
  {
   "cell_type": "code",
   "execution_count": 4,
   "id": "382db507-3854-4d09-a933-c3b15eb5de16",
   "metadata": {
    "tags": []
   },
   "outputs": [
    {
     "data": {
      "text/plain": [
       "Year                             0\n",
       "Country                          0\n",
       "Region                           0\n",
       "Happiness_Rank                   0\n",
       "Happiness                        0\n",
       "Explained_by_Trust               0\n",
       "Explained_by_GDP                 0\n",
       "Explained_by_Freedom             0\n",
       "Explained_by_Generosity          0\n",
       "Explained_by_Health              0\n",
       "Explained_by_Social_support      0\n",
       "Dystopia_Residual                0\n",
       "iso_a3                           0\n",
       "Life_Expectancy                151\n",
       "Total_Population                41\n",
       "dtype: int64"
      ]
     },
     "execution_count": 4,
     "metadata": {},
     "output_type": "execute_result"
    }
   ],
   "source": [
    "# 151 NaNs in the Life Expectancy column to be filled if possible\n",
    "df.isna().sum()"
   ]
  },
  {
   "cell_type": "code",
   "execution_count": 5,
   "id": "24b70e86-6b32-41a8-92ba-a2b2e5ab5c7e",
   "metadata": {
    "tags": []
   },
   "outputs": [],
   "source": [
    "nan_LE = df['Life_Expectancy'].isnull() == True\n",
    "#df.loc[nan_LE,:]"
   ]
  },
  {
   "cell_type": "code",
   "execution_count": 6,
   "id": "c91b4fcc-4f1f-4da7-be2a-6ba167522628",
   "metadata": {
    "tags": []
   },
   "outputs": [
    {
     "data": {
      "text/plain": [
       "array(['United States', 'Taiwan Province of China', 'Kosovo',\n",
       "       'South Korea', 'Moldova', 'Vietnam', 'Bolivia', 'Russia',\n",
       "       'Hong Kong S.A.R. of China', 'Venezuela', 'Laos', 'Ivory Coast',\n",
       "       'Iran', 'Turkiye', 'Tanzania', 'Congo (Kinshasa)', 'Swaziland',\n",
       "       'Syria'], dtype=object)"
      ]
     },
     "execution_count": 6,
     "metadata": {},
     "output_type": "execute_result"
    }
   ],
   "source": [
    "df.loc[nan_LE,'Country'].unique()"
   ]
  },
  {
   "cell_type": "code",
   "execution_count": 7,
   "id": "4e2eba0f-41a8-4a0f-91fb-2961304657bb",
   "metadata": {
    "tags": []
   },
   "outputs": [],
   "source": [
    "# Load the life expectancy data\n",
    "life_expectancy_data = pd.read_csv('life_expectancy.csv')\n",
    "\n",
    "# Define a mapping dictionary for country name in order to fill in NaNs\n",
    "country_mapping = {\n",
    "    'United States': 'United States of America',\n",
    "    'Kosovo': 'Kosovo (under UNSC res. 1244)',\n",
    "    'Syria': 'Syrian Arab Republic',\n",
    "    'Palestinian Territories': 'State of Palestine',\n",
    "    'Macedonia': 'North Macedonia',\n",
    "    'South Korea': 'Republic of Korea',\n",
    "    'Moldova': 'Republic of Moldova',\n",
    "    'Russia': 'Russian Federation',\n",
    "    'Turkiye': 'TÃ¼rkiye',\n",
    "    'Trinidad & Tobago': 'Trinidad and Tobago',\n",
    "    'Ivory Coast': \"CÃ´te d'Ivoire\",\n",
    "    'Somaliland Region': 'Somalia',\n",
    "    'Swaziland': 'Eswatini',\n",
    "    'Congo (Kinshasa)': 'Democratic Republic of the Congo',\n",
    "    'Tanzania': 'United Republic of Tanzania',\n",
    "    'Iran': 'Iran (Islamic Republic of)',\n",
    "    'Laos': \"Lao People's Democratic Republic\",\n",
    "    'Venezuela': 'Venezuela (Bolivarian Republic of)',\n",
    "    'Vietnam': 'Viet Nam',\n",
    "    'Bolivia': 'Bolivia (Plurinational State of)',\n",
    "    'Hong Kong S.A.R. of China': 'China, Hong Kong SAR',\n",
    "    'Czechia': 'Czech Republic'\n",
    "}\n",
    "\n",
    "# Iterate through the rows of and fill NaN values\n",
    "for index, row in df.iterrows():\n",
    "    country = row['Country']\n",
    "\n",
    "    # Check if the country name needs correction\n",
    "    if country in country_mapping:\n",
    "        corrected_country = country_mapping[country]\n",
    "        matching_row = life_expectancy_data[\n",
    "            (life_expectancy_data['Country or Area'] == corrected_country)\n",
    "            & (life_expectancy_data['Year(s)'] == row['Year'])\n",
    "        ]\n",
    "\n",
    "        if not matching_row.empty:\n",
    "            df.at[index, 'Life_Expectancy'] = matching_row.iloc[0]['Value']\n",
    "\n",
    "# Define the list of years to iterate through\n",
    "years = [str(year) + ' [YR' + str(year) + ']' for year in range(2015, 2024)]\n",
    "\n",
    "\n",
    "df.to_csv('merged_data-test-1.csv', index=False)"
   ]
  },
  {
   "cell_type": "code",
   "execution_count": 8,
   "id": "56900499-8e89-479d-9cc0-9d49c5821998",
   "metadata": {
    "tags": []
   },
   "outputs": [
    {
     "data": {
      "text/plain": [
       "array(['Taiwan Province of China'], dtype=object)"
      ]
     },
     "execution_count": 8,
     "metadata": {},
     "output_type": "execute_result"
    }
   ],
   "source": [
    "nan_LE = df['Life_Expectancy'].isnull() == True\n",
    "df.loc[nan_LE,'Country'].unique()"
   ]
  },
  {
   "cell_type": "code",
   "execution_count": 9,
   "id": "52d7e1d2-b899-4e5b-aa9a-12b1aa74ae66",
   "metadata": {
    "tags": []
   },
   "outputs": [
    {
     "data": {
      "text/plain": [
       "Year                            0\n",
       "Country                         0\n",
       "Region                          0\n",
       "Happiness_Rank                  0\n",
       "Happiness                       0\n",
       "Explained_by_Trust              0\n",
       "Explained_by_GDP                0\n",
       "Explained_by_Freedom            0\n",
       "Explained_by_Generosity         0\n",
       "Explained_by_Health             0\n",
       "Explained_by_Social_support     0\n",
       "Dystopia_Residual               0\n",
       "iso_a3                          0\n",
       "Life_Expectancy                 9\n",
       "Total_Population               41\n",
       "dtype: int64"
      ]
     },
     "execution_count": 9,
     "metadata": {},
     "output_type": "execute_result"
    }
   ],
   "source": [
    "df.isna().sum()"
   ]
  },
  {
   "cell_type": "code",
   "execution_count": 10,
   "id": "3344a593-aab8-4cf4-88fe-df285a7c7a9f",
   "metadata": {},
   "outputs": [],
   "source": [
    "# Create a dictionary to map current country names in df and replacethem with the desired country names\n",
    "mapping = {\n",
    "    'United States': 'United States of America',\n",
    "    'Swaziland': 'eSwatini',\n",
    "    'Taiwan Province of China': 'Taiwan',\n",
    "    'Congo (Brazzaville)': 'Republic of the Congo',\n",
    "    'Congo (Kinshasa)': 'Democratic Republic of the Congo',\n",
    "    'State of Palestine': 'Palestine',\n",
    "    'Serbia': 'Republic of Serbia',\n",
    "    'Tanzania': 'United Republic of Tanzania',\n",
    "    'Turkiye': 'Turkey'    \n",
    "}\n",
    "\n",
    "# Replace the country names in the 'Country' column using the mapping\n",
    "df['Country'] = df['Country'].replace(mapping)\n"
   ]
  },
  {
   "cell_type": "code",
   "execution_count": 11,
   "id": "580bad8a-0429-478a-863c-a4b63be7c0e9",
   "metadata": {
    "tags": []
   },
   "outputs": [],
   "source": [
    "df.to_csv('merged_data-test2.csv', index=False)"
   ]
  },
  {
   "cell_type": "code",
   "execution_count": 12,
   "id": "c583cee4-b4b9-47ae-8643-b6a2aef3a692",
   "metadata": {
    "tags": []
   },
   "outputs": [
    {
     "data": {
      "text/plain": [
       "Year                            0\n",
       "Country                         0\n",
       "Region                          0\n",
       "Happiness_Rank                  0\n",
       "Happiness                       0\n",
       "Explained_by_Trust              0\n",
       "Explained_by_GDP                0\n",
       "Explained_by_Freedom            0\n",
       "Explained_by_Generosity         0\n",
       "Explained_by_Health             0\n",
       "Explained_by_Social_support     0\n",
       "Dystopia_Residual               0\n",
       "iso_a3                          0\n",
       "Life_Expectancy                 9\n",
       "Total_Population               41\n",
       "dtype: int64"
      ]
     },
     "execution_count": 12,
     "metadata": {},
     "output_type": "execute_result"
    }
   ],
   "source": [
    "df.isna().sum()"
   ]
  }
 ],
 "metadata": {
  "kernelspec": {
   "display_name": "Python 3 (ipykernel)",
   "language": "python",
   "name": "python3"
  },
  "language_info": {
   "codemirror_mode": {
    "name": "ipython",
    "version": 3
   },
   "file_extension": ".py",
   "mimetype": "text/x-python",
   "name": "python",
   "nbconvert_exporter": "python",
   "pygments_lexer": "ipython3",
   "version": "3.10.9"
  }
 },
 "nbformat": 4,
 "nbformat_minor": 5
}
