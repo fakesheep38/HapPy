{
 "cells": [
  {
   "cell_type": "code",
   "execution_count": 1,
   "id": "a4c51a61-bdf9-40b1-82fc-eeffc66df1f8",
   "metadata": {
    "tags": []
   },
   "outputs": [],
   "source": [
    "import pandas as pd\n",
    "import numpy as np"
   ]
  },
  {
   "cell_type": "code",
   "execution_count": 2,
   "id": "b247b135-3a2f-4b60-8f1c-2c24de4a2c27",
   "metadata": {
    "tags": []
   },
   "outputs": [],
   "source": [
    "merged_data_life = pd.read_csv('merged_data_life.csv')\n",
    "population_data = pd.read_csv('New_source1_databank_worldbank_org.csv')"
   ]
  },
  {
   "cell_type": "code",
   "execution_count": 3,
   "id": "6b71c0c0-2d09-401d-a9ee-38f911dec2a8",
   "metadata": {
    "tags": []
   },
   "outputs": [],
   "source": [
    "# Extract the columns with population data\n",
    "population_data = population_data[['Country Name', '2015 [YR2015]', '2016 [YR2016]', '2017 [YR2017]', '2018 [YR2018]', '2019 [YR2019]', '2020 [YR2020]', '2021 [YR2021]', '2022 [YR2022]', '2023 [YR2023]']]\n",
    "\n",
    "# Melt the DataFrame to reshape it\n",
    "population_data = population_data.melt(id_vars=['Country Name'], var_name='Year', value_name='Total_Population')\n",
    "\n",
    "# Rename 'Country Name' to match the column in the merged_data_life DataFrame\n",
    "population_data = population_data.rename(columns={'Country Name': 'Country'})\n",
    "\n",
    "# Convert the 'Year' column to integers\n",
    "population_data['Year'] = population_data['Year'].str.extract('(\\d+)').astype(int)"
   ]
  },
  {
   "cell_type": "code",
   "execution_count": 4,
   "id": "332c13e3-53e4-4cc5-844f-dcf45b18c1bd",
   "metadata": {
    "tags": []
   },
   "outputs": [],
   "source": [
    "# Merge the DataFrames\n",
    "merged_data = merged_data_life.merge(population_data, on=['Country', 'Year'], how='left')\n"
   ]
  },
  {
   "cell_type": "code",
   "execution_count": 5,
   "id": "b7f6d96b-607b-4c45-be7c-2261a083b880",
   "metadata": {
    "tags": []
   },
   "outputs": [],
   "source": [
    "merged_data.to_csv('merged_data_combined_test.csv', index=False)"
   ]
  },
  {
   "cell_type": "code",
   "execution_count": null,
   "id": "90d32d03-f855-4770-a189-198d51a692b1",
   "metadata": {},
   "outputs": [],
   "source": []
  }
 ],
 "metadata": {
  "kernelspec": {
   "display_name": "Python 3 (ipykernel)",
   "language": "python",
   "name": "python3"
  },
  "language_info": {
   "codemirror_mode": {
    "name": "ipython",
    "version": 3
   },
   "file_extension": ".py",
   "mimetype": "text/x-python",
   "name": "python",
   "nbconvert_exporter": "python",
   "pygments_lexer": "ipython3",
   "version": "3.11.5"
  }
 },
 "nbformat": 4,
 "nbformat_minor": 5
}
