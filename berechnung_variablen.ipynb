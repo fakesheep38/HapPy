{
 "cells": [
  {
   "cell_type": "code",
   "execution_count": 95,
   "id": "1b8dd197",
   "metadata": {},
   "outputs": [],
   "source": [
    "########Modell trainieren\n",
    "#pip install scikit-learn\n",
    "####Pakete importieren\n",
    "import pandas as pd\n",
    "import os\n",
    "import sklearn\n",
    "from sklearn.linear_model import LinearRegression\n",
    "import seaborn as sns\n",
    "import matplotlib.pyplot as plt\n",
    "from sklearn.metrics import mean_squared_error\n",
    "import numpy as np\n",
    "from sklearn.metrics import r2_score\n",
    "import pandas as pd\n",
    "import seaborn as sns\n",
    "import matplotlib.pyplot as plt\n",
    "import pycountry"
   ]
  },
  {
   "cell_type": "code",
   "execution_count": null,
   "id": "285b9ba0",
   "metadata": {},
   "outputs": [],
   "source": []
  },
  {
   "cell_type": "code",
   "execution_count": 96,
   "id": "b37b9dd6",
   "metadata": {},
   "outputs": [
    {
     "name": "stdout",
     "output_type": "stream",
     "text": [
      "True\n",
      "True\n"
     ]
    },
    {
     "data": {
      "text/html": [
       "<div>\n",
       "<style scoped>\n",
       "    .dataframe tbody tr th:only-of-type {\n",
       "        vertical-align: middle;\n",
       "    }\n",
       "\n",
       "    .dataframe tbody tr th {\n",
       "        vertical-align: top;\n",
       "    }\n",
       "\n",
       "    .dataframe thead th {\n",
       "        text-align: right;\n",
       "    }\n",
       "</style>\n",
       "<table border=\"1\" class=\"dataframe\">\n",
       "  <thead>\n",
       "    <tr style=\"text-align: right;\">\n",
       "      <th></th>\n",
       "      <th>Unnamed: 0</th>\n",
       "      <th>Year</th>\n",
       "      <th>Country</th>\n",
       "      <th>Region</th>\n",
       "      <th>Happiness_Rank</th>\n",
       "      <th>Happiness</th>\n",
       "      <th>Explained_by_Trust</th>\n",
       "      <th>Explained_by_GDP</th>\n",
       "      <th>Explained_by_Freedom</th>\n",
       "      <th>Explained_by_Generosity</th>\n",
       "      <th>Explained_by_Health</th>\n",
       "      <th>Explained_by_Social_support</th>\n",
       "      <th>Dystopia_Residual</th>\n",
       "      <th>ISO_Code</th>\n",
       "    </tr>\n",
       "  </thead>\n",
       "  <tbody>\n",
       "    <tr>\n",
       "      <th>0</th>\n",
       "      <td>0</td>\n",
       "      <td>2023</td>\n",
       "      <td>Finland</td>\n",
       "      <td>Western Europe</td>\n",
       "      <td>1</td>\n",
       "      <td>7.804</td>\n",
       "      <td>0.535</td>\n",
       "      <td>1.888</td>\n",
       "      <td>0.772</td>\n",
       "      <td>0.126</td>\n",
       "      <td>0.535</td>\n",
       "      <td>1.585</td>\n",
       "      <td>2.363</td>\n",
       "      <td>FI</td>\n",
       "    </tr>\n",
       "    <tr>\n",
       "      <th>1</th>\n",
       "      <td>1</td>\n",
       "      <td>2023</td>\n",
       "      <td>Denmark</td>\n",
       "      <td>Western Europe</td>\n",
       "      <td>2</td>\n",
       "      <td>7.586</td>\n",
       "      <td>0.525</td>\n",
       "      <td>1.949</td>\n",
       "      <td>0.734</td>\n",
       "      <td>0.208</td>\n",
       "      <td>0.537</td>\n",
       "      <td>1.548</td>\n",
       "      <td>2.084</td>\n",
       "      <td>DK</td>\n",
       "    </tr>\n",
       "    <tr>\n",
       "      <th>2</th>\n",
       "      <td>2</td>\n",
       "      <td>2023</td>\n",
       "      <td>Iceland</td>\n",
       "      <td>Western Europe</td>\n",
       "      <td>3</td>\n",
       "      <td>7.530</td>\n",
       "      <td>0.187</td>\n",
       "      <td>1.926</td>\n",
       "      <td>0.738</td>\n",
       "      <td>0.250</td>\n",
       "      <td>0.559</td>\n",
       "      <td>1.620</td>\n",
       "      <td>2.250</td>\n",
       "      <td>IS</td>\n",
       "    </tr>\n",
       "    <tr>\n",
       "      <th>3</th>\n",
       "      <td>3</td>\n",
       "      <td>2023</td>\n",
       "      <td>Israel</td>\n",
       "      <td>Middle East and Northern Africa</td>\n",
       "      <td>4</td>\n",
       "      <td>7.473</td>\n",
       "      <td>0.158</td>\n",
       "      <td>1.833</td>\n",
       "      <td>0.569</td>\n",
       "      <td>0.124</td>\n",
       "      <td>0.577</td>\n",
       "      <td>1.521</td>\n",
       "      <td>2.691</td>\n",
       "      <td>IL</td>\n",
       "    </tr>\n",
       "    <tr>\n",
       "      <th>4</th>\n",
       "      <td>4</td>\n",
       "      <td>2023</td>\n",
       "      <td>Netherlands</td>\n",
       "      <td>Western Europe</td>\n",
       "      <td>5</td>\n",
       "      <td>7.403</td>\n",
       "      <td>0.394</td>\n",
       "      <td>1.942</td>\n",
       "      <td>0.672</td>\n",
       "      <td>0.251</td>\n",
       "      <td>0.545</td>\n",
       "      <td>1.488</td>\n",
       "      <td>2.110</td>\n",
       "      <td>NL</td>\n",
       "    </tr>\n",
       "  </tbody>\n",
       "</table>\n",
       "</div>"
      ],
      "text/plain": [
       "   Unnamed: 0  Year      Country                           Region  \\\n",
       "0           0  2023      Finland                   Western Europe   \n",
       "1           1  2023      Denmark                   Western Europe   \n",
       "2           2  2023      Iceland                   Western Europe   \n",
       "3           3  2023       Israel  Middle East and Northern Africa   \n",
       "4           4  2023  Netherlands                   Western Europe   \n",
       "\n",
       "   Happiness_Rank  Happiness  Explained_by_Trust  Explained_by_GDP  \\\n",
       "0               1      7.804               0.535             1.888   \n",
       "1               2      7.586               0.525             1.949   \n",
       "2               3      7.530               0.187             1.926   \n",
       "3               4      7.473               0.158             1.833   \n",
       "4               5      7.403               0.394             1.942   \n",
       "\n",
       "   Explained_by_Freedom  Explained_by_Generosity  Explained_by_Health  \\\n",
       "0                 0.772                    0.126                0.535   \n",
       "1                 0.734                    0.208                0.537   \n",
       "2                 0.738                    0.250                0.559   \n",
       "3                 0.569                    0.124                0.577   \n",
       "4                 0.672                    0.251                0.545   \n",
       "\n",
       "   Explained_by_Social_support  Dystopia_Residual ISO_Code  \n",
       "0                        1.585              2.363       FI  \n",
       "1                        1.548              2.084       DK  \n",
       "2                        1.620              2.250       IS  \n",
       "3                        1.521              2.691       IL  \n",
       "4                        1.488              2.110       NL  "
      ]
     },
     "execution_count": 96,
     "metadata": {},
     "output_type": "execute_result"
    }
   ],
   "source": [
    "print(\"2020.csv\" in os.listdir())\n",
    "df_20 = pd.read_csv(\"2020.csv\")\n",
    "df_20.head()\n",
    "print(\"merged_data_1.csv\" in os.listdir())\n",
    "df = pd.read_csv(\"merged_data_1.csv\")\n",
    "df.head()"
   ]
  },
  {
   "cell_type": "code",
   "execution_count": 97,
   "id": "8d8f809e",
   "metadata": {},
   "outputs": [
    {
     "name": "stdout",
     "output_type": "stream",
     "text": [
      "True\n"
     ]
    },
    {
     "data": {
      "text/html": [
       "<div>\n",
       "<style scoped>\n",
       "    .dataframe tbody tr th:only-of-type {\n",
       "        vertical-align: middle;\n",
       "    }\n",
       "\n",
       "    .dataframe tbody tr th {\n",
       "        vertical-align: top;\n",
       "    }\n",
       "\n",
       "    .dataframe thead th {\n",
       "        text-align: right;\n",
       "    }\n",
       "</style>\n",
       "<table border=\"1\" class=\"dataframe\">\n",
       "  <thead>\n",
       "    <tr style=\"text-align: right;\">\n",
       "      <th></th>\n",
       "      <th>Country name</th>\n",
       "      <th>Ladder score</th>\n",
       "      <th>Standard error of ladder score</th>\n",
       "      <th>upperwhisker</th>\n",
       "      <th>lowerwhisker</th>\n",
       "      <th>Logged GDP per capita</th>\n",
       "      <th>Social support</th>\n",
       "      <th>Healthy life expectancy</th>\n",
       "      <th>Freedom to make life choices</th>\n",
       "      <th>Generosity</th>\n",
       "      <th>Perceptions of corruption</th>\n",
       "      <th>Ladder score in Dystopia</th>\n",
       "      <th>Explained by: Log GDP per capita</th>\n",
       "      <th>Explained by: Social support</th>\n",
       "      <th>Explained by: Healthy life expectancy</th>\n",
       "      <th>Explained by: Freedom to make life choices</th>\n",
       "      <th>Explained by: Generosity</th>\n",
       "      <th>Explained by: Perceptions of corruption</th>\n",
       "      <th>Dystopia + residual</th>\n",
       "    </tr>\n",
       "  </thead>\n",
       "  <tbody>\n",
       "    <tr>\n",
       "      <th>0</th>\n",
       "      <td>Finland</td>\n",
       "      <td>7.804</td>\n",
       "      <td>0.036</td>\n",
       "      <td>7.875</td>\n",
       "      <td>7.733</td>\n",
       "      <td>10.792</td>\n",
       "      <td>0.969</td>\n",
       "      <td>71.150</td>\n",
       "      <td>0.961</td>\n",
       "      <td>-0.019</td>\n",
       "      <td>0.182</td>\n",
       "      <td>1.778</td>\n",
       "      <td>1.888</td>\n",
       "      <td>1.585</td>\n",
       "      <td>0.535</td>\n",
       "      <td>0.772</td>\n",
       "      <td>0.126</td>\n",
       "      <td>0.535</td>\n",
       "      <td>2.363</td>\n",
       "    </tr>\n",
       "    <tr>\n",
       "      <th>1</th>\n",
       "      <td>Denmark</td>\n",
       "      <td>7.586</td>\n",
       "      <td>0.041</td>\n",
       "      <td>7.667</td>\n",
       "      <td>7.506</td>\n",
       "      <td>10.962</td>\n",
       "      <td>0.954</td>\n",
       "      <td>71.250</td>\n",
       "      <td>0.934</td>\n",
       "      <td>0.134</td>\n",
       "      <td>0.196</td>\n",
       "      <td>1.778</td>\n",
       "      <td>1.949</td>\n",
       "      <td>1.548</td>\n",
       "      <td>0.537</td>\n",
       "      <td>0.734</td>\n",
       "      <td>0.208</td>\n",
       "      <td>0.525</td>\n",
       "      <td>2.084</td>\n",
       "    </tr>\n",
       "    <tr>\n",
       "      <th>2</th>\n",
       "      <td>Iceland</td>\n",
       "      <td>7.530</td>\n",
       "      <td>0.049</td>\n",
       "      <td>7.625</td>\n",
       "      <td>7.434</td>\n",
       "      <td>10.896</td>\n",
       "      <td>0.983</td>\n",
       "      <td>72.050</td>\n",
       "      <td>0.936</td>\n",
       "      <td>0.211</td>\n",
       "      <td>0.668</td>\n",
       "      <td>1.778</td>\n",
       "      <td>1.926</td>\n",
       "      <td>1.620</td>\n",
       "      <td>0.559</td>\n",
       "      <td>0.738</td>\n",
       "      <td>0.250</td>\n",
       "      <td>0.187</td>\n",
       "      <td>2.250</td>\n",
       "    </tr>\n",
       "    <tr>\n",
       "      <th>3</th>\n",
       "      <td>Israel</td>\n",
       "      <td>7.473</td>\n",
       "      <td>0.032</td>\n",
       "      <td>7.535</td>\n",
       "      <td>7.411</td>\n",
       "      <td>10.639</td>\n",
       "      <td>0.943</td>\n",
       "      <td>72.697</td>\n",
       "      <td>0.809</td>\n",
       "      <td>-0.023</td>\n",
       "      <td>0.708</td>\n",
       "      <td>1.778</td>\n",
       "      <td>1.833</td>\n",
       "      <td>1.521</td>\n",
       "      <td>0.577</td>\n",
       "      <td>0.569</td>\n",
       "      <td>0.124</td>\n",
       "      <td>0.158</td>\n",
       "      <td>2.691</td>\n",
       "    </tr>\n",
       "    <tr>\n",
       "      <th>4</th>\n",
       "      <td>Netherlands</td>\n",
       "      <td>7.403</td>\n",
       "      <td>0.029</td>\n",
       "      <td>7.460</td>\n",
       "      <td>7.346</td>\n",
       "      <td>10.942</td>\n",
       "      <td>0.930</td>\n",
       "      <td>71.550</td>\n",
       "      <td>0.887</td>\n",
       "      <td>0.213</td>\n",
       "      <td>0.379</td>\n",
       "      <td>1.778</td>\n",
       "      <td>1.942</td>\n",
       "      <td>1.488</td>\n",
       "      <td>0.545</td>\n",
       "      <td>0.672</td>\n",
       "      <td>0.251</td>\n",
       "      <td>0.394</td>\n",
       "      <td>2.110</td>\n",
       "    </tr>\n",
       "  </tbody>\n",
       "</table>\n",
       "</div>"
      ],
      "text/plain": [
       "  Country name  Ladder score  Standard error of ladder score  upperwhisker  \\\n",
       "0      Finland         7.804                           0.036         7.875   \n",
       "1      Denmark         7.586                           0.041         7.667   \n",
       "2      Iceland         7.530                           0.049         7.625   \n",
       "3       Israel         7.473                           0.032         7.535   \n",
       "4  Netherlands         7.403                           0.029         7.460   \n",
       "\n",
       "   lowerwhisker  Logged GDP per capita  Social support  \\\n",
       "0         7.733                 10.792           0.969   \n",
       "1         7.506                 10.962           0.954   \n",
       "2         7.434                 10.896           0.983   \n",
       "3         7.411                 10.639           0.943   \n",
       "4         7.346                 10.942           0.930   \n",
       "\n",
       "   Healthy life expectancy  Freedom to make life choices  Generosity  \\\n",
       "0                   71.150                         0.961      -0.019   \n",
       "1                   71.250                         0.934       0.134   \n",
       "2                   72.050                         0.936       0.211   \n",
       "3                   72.697                         0.809      -0.023   \n",
       "4                   71.550                         0.887       0.213   \n",
       "\n",
       "   Perceptions of corruption  Ladder score in Dystopia  \\\n",
       "0                      0.182                     1.778   \n",
       "1                      0.196                     1.778   \n",
       "2                      0.668                     1.778   \n",
       "3                      0.708                     1.778   \n",
       "4                      0.379                     1.778   \n",
       "\n",
       "   Explained by: Log GDP per capita  Explained by: Social support  \\\n",
       "0                             1.888                         1.585   \n",
       "1                             1.949                         1.548   \n",
       "2                             1.926                         1.620   \n",
       "3                             1.833                         1.521   \n",
       "4                             1.942                         1.488   \n",
       "\n",
       "   Explained by: Healthy life expectancy  \\\n",
       "0                                  0.535   \n",
       "1                                  0.537   \n",
       "2                                  0.559   \n",
       "3                                  0.577   \n",
       "4                                  0.545   \n",
       "\n",
       "   Explained by: Freedom to make life choices  Explained by: Generosity  \\\n",
       "0                                       0.772                     0.126   \n",
       "1                                       0.734                     0.208   \n",
       "2                                       0.738                     0.250   \n",
       "3                                       0.569                     0.124   \n",
       "4                                       0.672                     0.251   \n",
       "\n",
       "   Explained by: Perceptions of corruption  Dystopia + residual  \n",
       "0                                    0.535                2.363  \n",
       "1                                    0.525                2.084  \n",
       "2                                    0.187                2.250  \n",
       "3                                    0.158                2.691  \n",
       "4                                    0.394                2.110  "
      ]
     },
     "execution_count": 97,
     "metadata": {},
     "output_type": "execute_result"
    }
   ],
   "source": [
    "print(\"2023.csv\" in os.listdir())\n",
    "df_23 = pd.read_csv(\"2023.csv\")\n",
    "df_23.head()"
   ]
  },
  {
   "cell_type": "code",
   "execution_count": 98,
   "id": "ef2c884e",
   "metadata": {},
   "outputs": [],
   "source": [
    "df_20 = df_20.rename(columns={'Logged GDP per capita': 'Logged_GDP_per_capita'})\n",
    "df_20 = df_20.rename(columns={'Social support': 'Social_support'})\n",
    "df_20 = df_20.rename(columns={'Healthy life expectancy': 'Healthy_life_expectancy'})\n",
    "df_20 = df_20.rename(columns={'Freedom to make life choices': 'Freedom_to_make_life_choices'})\n",
    "df_20 = df_20.rename(columns={'Perceptions of corruption': 'Perceptions_of_corruption'})\n",
    "df_20 = df_20.rename(columns={'Explained by: Log GDP per capita': 'Explained_by_GDP'})\n",
    "df_20 = df_20.rename(columns={'Explained by: Freedom to make life choices': 'Explained_by_Freedom'})\n",
    "df_20 = df_20.rename(columns={'Explained by: Generosity': 'Explained_by_Generosity'})\n",
    "df_20 = df_20.rename(columns={'Explained by: Perceptions of corruption': 'Explained_by_Trust'})\n",
    "df_20 = df_20.rename(columns={'Explained by: Healthy life expectancy': 'Explained_by_Health'})\n",
    "df_20 = df_20.rename(columns={'Explained by: Social support': 'Explained_by_Social_support'})\n",
    "\n",
    "df_20= df_20.dropna()"
   ]
  },
  {
   "cell_type": "code",
   "execution_count": 99,
   "id": "a0494f3e",
   "metadata": {},
   "outputs": [],
   "source": [
    "df_23 = df_23.rename(columns={'Logged GDP per capita': 'Logged_GDP_per_capita'})\n",
    "df_23 = df_23.rename(columns={'Social support': 'Social_support'})\n",
    "df_23 = df_23.rename(columns={'Healthy life expectancy': 'Healthy_life_expectancy'})\n",
    "df_23 = df_23.rename(columns={'Freedom to make life choices': 'Freedom_to_make_life_choices'})\n",
    "df_23 = df_23.rename(columns={'Perceptions of corruption': 'Perceptions_of_corruption'})\n",
    "df_23 = df_23.rename(columns={'Explained by: Log GDP per capita': 'Explained_by_GDP'})\n",
    "df_23 = df_23.rename(columns={'Explained by: Freedom to make life choices': 'Explained_by_Freedom'})\n",
    "df_23 = df_23.rename(columns={'Explained by: Generosity': 'Explained_by_Generosity'})\n",
    "df_23 = df_23.rename(columns={'Explained by: Perceptions of corruption': 'Explained_by_Trust'})\n",
    "df_23 = df_23.rename(columns={'Explained by: Healthy life expectancy': 'Explained_by_Health'})\n",
    "df_23 = df_23.rename(columns={'Explained by: Social support': 'Explained_by_Social_support'})\n",
    "\n",
    "df_23 = df_23.dropna()"
   ]
  },
  {
   "cell_type": "code",
   "execution_count": 100,
   "id": "5c6f314c",
   "metadata": {},
   "outputs": [
    {
     "data": {
      "text/html": [
       "<div>\n",
       "<style scoped>\n",
       "    .dataframe tbody tr th:only-of-type {\n",
       "        vertical-align: middle;\n",
       "    }\n",
       "\n",
       "    .dataframe tbody tr th {\n",
       "        vertical-align: top;\n",
       "    }\n",
       "\n",
       "    .dataframe thead th {\n",
       "        text-align: right;\n",
       "    }\n",
       "</style>\n",
       "<table border=\"1\" class=\"dataframe\">\n",
       "  <thead>\n",
       "    <tr style=\"text-align: right;\">\n",
       "      <th></th>\n",
       "      <th>Country name</th>\n",
       "      <th>Regional indicator</th>\n",
       "      <th>Ladder score</th>\n",
       "      <th>Standard error of ladder score</th>\n",
       "      <th>upperwhisker</th>\n",
       "      <th>lowerwhisker</th>\n",
       "      <th>Logged_GDP_per_capita</th>\n",
       "      <th>Social_support</th>\n",
       "      <th>Healthy_life_expectancy</th>\n",
       "      <th>Freedom_to_make_life_choices</th>\n",
       "      <th>Generosity</th>\n",
       "      <th>Perceptions_of_corruption</th>\n",
       "      <th>Ladder score in Dystopia</th>\n",
       "      <th>Explained_by_GDP</th>\n",
       "      <th>Explained_by_Social_support</th>\n",
       "      <th>Explained_by_Health</th>\n",
       "      <th>Explained_by_Freedom</th>\n",
       "      <th>Explained_by_Generosity</th>\n",
       "      <th>Explained_by_Trust</th>\n",
       "      <th>Dystopia + residual</th>\n",
       "    </tr>\n",
       "  </thead>\n",
       "  <tbody>\n",
       "    <tr>\n",
       "      <th>0</th>\n",
       "      <td>Finland</td>\n",
       "      <td>Western Europe</td>\n",
       "      <td>7.8087</td>\n",
       "      <td>0.031156</td>\n",
       "      <td>7.869766</td>\n",
       "      <td>7.747634</td>\n",
       "      <td>10.639267</td>\n",
       "      <td>0.954330</td>\n",
       "      <td>71.900825</td>\n",
       "      <td>0.949172</td>\n",
       "      <td>-0.059482</td>\n",
       "      <td>0.195445</td>\n",
       "      <td>1.972317</td>\n",
       "      <td>1.285190</td>\n",
       "      <td>1.499526</td>\n",
       "      <td>0.961271</td>\n",
       "      <td>0.662317</td>\n",
       "      <td>0.159670</td>\n",
       "      <td>0.477857</td>\n",
       "      <td>2.762835</td>\n",
       "    </tr>\n",
       "    <tr>\n",
       "      <th>1</th>\n",
       "      <td>Denmark</td>\n",
       "      <td>Western Europe</td>\n",
       "      <td>7.6456</td>\n",
       "      <td>0.033492</td>\n",
       "      <td>7.711245</td>\n",
       "      <td>7.579955</td>\n",
       "      <td>10.774001</td>\n",
       "      <td>0.955991</td>\n",
       "      <td>72.402504</td>\n",
       "      <td>0.951444</td>\n",
       "      <td>0.066202</td>\n",
       "      <td>0.168489</td>\n",
       "      <td>1.972317</td>\n",
       "      <td>1.326949</td>\n",
       "      <td>1.503449</td>\n",
       "      <td>0.979333</td>\n",
       "      <td>0.665040</td>\n",
       "      <td>0.242793</td>\n",
       "      <td>0.495260</td>\n",
       "      <td>2.432741</td>\n",
       "    </tr>\n",
       "    <tr>\n",
       "      <th>2</th>\n",
       "      <td>Switzerland</td>\n",
       "      <td>Western Europe</td>\n",
       "      <td>7.5599</td>\n",
       "      <td>0.035014</td>\n",
       "      <td>7.628528</td>\n",
       "      <td>7.491272</td>\n",
       "      <td>10.979933</td>\n",
       "      <td>0.942847</td>\n",
       "      <td>74.102448</td>\n",
       "      <td>0.921337</td>\n",
       "      <td>0.105911</td>\n",
       "      <td>0.303728</td>\n",
       "      <td>1.972317</td>\n",
       "      <td>1.390774</td>\n",
       "      <td>1.472403</td>\n",
       "      <td>1.040533</td>\n",
       "      <td>0.628954</td>\n",
       "      <td>0.269056</td>\n",
       "      <td>0.407946</td>\n",
       "      <td>2.350267</td>\n",
       "    </tr>\n",
       "    <tr>\n",
       "      <th>3</th>\n",
       "      <td>Iceland</td>\n",
       "      <td>Western Europe</td>\n",
       "      <td>7.5045</td>\n",
       "      <td>0.059616</td>\n",
       "      <td>7.621347</td>\n",
       "      <td>7.387653</td>\n",
       "      <td>10.772559</td>\n",
       "      <td>0.974670</td>\n",
       "      <td>73.000000</td>\n",
       "      <td>0.948892</td>\n",
       "      <td>0.246944</td>\n",
       "      <td>0.711710</td>\n",
       "      <td>1.972317</td>\n",
       "      <td>1.326502</td>\n",
       "      <td>1.547567</td>\n",
       "      <td>1.000843</td>\n",
       "      <td>0.661981</td>\n",
       "      <td>0.362330</td>\n",
       "      <td>0.144541</td>\n",
       "      <td>2.460688</td>\n",
       "    </tr>\n",
       "    <tr>\n",
       "      <th>4</th>\n",
       "      <td>Norway</td>\n",
       "      <td>Western Europe</td>\n",
       "      <td>7.4880</td>\n",
       "      <td>0.034837</td>\n",
       "      <td>7.556281</td>\n",
       "      <td>7.419719</td>\n",
       "      <td>11.087804</td>\n",
       "      <td>0.952487</td>\n",
       "      <td>73.200783</td>\n",
       "      <td>0.955750</td>\n",
       "      <td>0.134533</td>\n",
       "      <td>0.263218</td>\n",
       "      <td>1.972317</td>\n",
       "      <td>1.424207</td>\n",
       "      <td>1.495173</td>\n",
       "      <td>1.008072</td>\n",
       "      <td>0.670201</td>\n",
       "      <td>0.287985</td>\n",
       "      <td>0.434101</td>\n",
       "      <td>2.168266</td>\n",
       "    </tr>\n",
       "  </tbody>\n",
       "</table>\n",
       "</div>"
      ],
      "text/plain": [
       "  Country name Regional indicator  Ladder score  \\\n",
       "0      Finland     Western Europe        7.8087   \n",
       "1      Denmark     Western Europe        7.6456   \n",
       "2  Switzerland     Western Europe        7.5599   \n",
       "3      Iceland     Western Europe        7.5045   \n",
       "4       Norway     Western Europe        7.4880   \n",
       "\n",
       "   Standard error of ladder score  upperwhisker  lowerwhisker  \\\n",
       "0                        0.031156      7.869766      7.747634   \n",
       "1                        0.033492      7.711245      7.579955   \n",
       "2                        0.035014      7.628528      7.491272   \n",
       "3                        0.059616      7.621347      7.387653   \n",
       "4                        0.034837      7.556281      7.419719   \n",
       "\n",
       "   Logged_GDP_per_capita  Social_support  Healthy_life_expectancy  \\\n",
       "0              10.639267        0.954330                71.900825   \n",
       "1              10.774001        0.955991                72.402504   \n",
       "2              10.979933        0.942847                74.102448   \n",
       "3              10.772559        0.974670                73.000000   \n",
       "4              11.087804        0.952487                73.200783   \n",
       "\n",
       "   Freedom_to_make_life_choices  Generosity  Perceptions_of_corruption  \\\n",
       "0                      0.949172   -0.059482                   0.195445   \n",
       "1                      0.951444    0.066202                   0.168489   \n",
       "2                      0.921337    0.105911                   0.303728   \n",
       "3                      0.948892    0.246944                   0.711710   \n",
       "4                      0.955750    0.134533                   0.263218   \n",
       "\n",
       "   Ladder score in Dystopia  Explained_by_GDP  Explained_by_Social_support  \\\n",
       "0                  1.972317          1.285190                     1.499526   \n",
       "1                  1.972317          1.326949                     1.503449   \n",
       "2                  1.972317          1.390774                     1.472403   \n",
       "3                  1.972317          1.326502                     1.547567   \n",
       "4                  1.972317          1.424207                     1.495173   \n",
       "\n",
       "   Explained_by_Health  Explained_by_Freedom  Explained_by_Generosity  \\\n",
       "0             0.961271              0.662317                 0.159670   \n",
       "1             0.979333              0.665040                 0.242793   \n",
       "2             1.040533              0.628954                 0.269056   \n",
       "3             1.000843              0.661981                 0.362330   \n",
       "4             1.008072              0.670201                 0.287985   \n",
       "\n",
       "   Explained_by_Trust  Dystopia + residual  \n",
       "0            0.477857             2.762835  \n",
       "1            0.495260             2.432741  \n",
       "2            0.407946             2.350267  \n",
       "3            0.144541             2.460688  \n",
       "4            0.434101             2.168266  "
      ]
     },
     "execution_count": 100,
     "metadata": {},
     "output_type": "execute_result"
    }
   ],
   "source": [
    "df_20.head()"
   ]
  },
  {
   "cell_type": "code",
   "execution_count": 143,
   "id": "b13f9780",
   "metadata": {},
   "outputs": [],
   "source": [
    "df_20['Happiness_10'] = 10/df_20['Ladder score']\n",
    "df_23['Happiness_10'] = 10/df_23['Ladder score']\n",
    "df['Happiness_10'] = 10/df['Happiness']"
   ]
  },
  {
   "cell_type": "code",
   "execution_count": 102,
   "id": "c52c445e",
   "metadata": {},
   "outputs": [],
   "source": [
    "df_20['Test'] =( (df_20['Happiness_10']  * df_20['Explained_by_GDP'] ) \n",
    "                +(df_20['Happiness_10'] * df_20['Explained_by_Social_support'] ) \n",
    "                +(df_20['Happiness_10'] * df_20['Explained_by_Health'] )\n",
    "                +(df_20['Happiness_10'] * df_20['Explained_by_Freedom'] )\n",
    "                +(df_20['Happiness_10'] * df_20['Explained_by_Generosity'] )\n",
    "                +(df_20['Happiness_10'] * df_20['Explained_by_Trust'] )\n",
    "                +(df_20['Happiness_10'] * df_20['Dystopia + residual'] ) ) "
   ]
  },
  {
   "cell_type": "code",
   "execution_count": 104,
   "id": "96344b61",
   "metadata": {},
   "outputs": [],
   "source": [
    "df_20['Explained_by_GDP_10']   = (df_20['Happiness_10'] * df_20['Explained_by_GDP'] )\n",
    "df_20['Explained_by_Social_support_10']   = df_20['Happiness_10'] * df_20['Explained_by_Social_support'] \n",
    "df_20['Explained_by_Health_10']  = df_20['Happiness_10'] * df_20['Explained_by_Health'] \n",
    "df_20['Explained_by_Freedom_10']  = df_20['Happiness_10'] * df_20['Explained_by_Freedom'] \n",
    "df_20['Explained_by_Generosity_10']  = df_20['Happiness_10'] * df_20['Explained_by_Generosity'] \n",
    "df_20['Explained_by_Trust_10']  = df_20['Happiness_10'] * df_20['Explained_by_Trust'] \n",
    "df_20['Dystopia + residual_10']  = df_20['Happiness_10'] * df_20['Dystopia + residual'] "
   ]
  },
  {
   "cell_type": "code",
   "execution_count": 144,
   "id": "4cd8c14d",
   "metadata": {},
   "outputs": [],
   "source": [
    "df_23['Explained_by_Health_10']  = df_23['Happiness_10'] * df_23['Explained_by_Health'] "
   ]
  },
  {
   "cell_type": "code",
   "execution_count": 120,
   "id": "22006eb1",
   "metadata": {},
   "outputs": [],
   "source": [
    "df['Explained_by_GDP_10']   = (df['Happiness_10'] * df['Explained_by_GDP'] )\n",
    "df['Explained_by_Social_support_10']   = df['Happiness_10'] * df['Explained_by_Social_support'] \n",
    "df['Explained_by_Health_10']  = df['Happiness_10'] * df['Explained_by_Health'] \n",
    "df['Explained_by_Freedom_10']  = df['Happiness_10'] * df['Explained_by_Freedom'] \n",
    "df['Explained_by_Generosity_10']  = df['Happiness_10'] * df['Explained_by_Generosity'] \n",
    "df['Explained_by_Trust_10']  = df['Happiness_10'] * df['Explained_by_Trust'] \n",
    "df['Dystopia_Residual_10']  = df['Happiness_10'] * df['Dystopia_Residual'] "
   ]
  },
  {
   "cell_type": "code",
   "execution_count": 123,
   "id": "a5eba086",
   "metadata": {},
   "outputs": [
    {
     "name": "stdout",
     "output_type": "stream",
     "text": [
      "0.8901161358203906\n"
     ]
    }
   ],
   "source": [
    "correlation = df_20['Logged_GDP_per_capita'].corr(df_20['Explained_by_GDP_10'])\n",
    "print(correlation)"
   ]
  },
  {
   "cell_type": "code",
   "execution_count": 124,
   "id": "94c34daa",
   "metadata": {},
   "outputs": [
    {
     "data": {
      "image/png": "[encoded data removed]",
      "text/plain": [
       "<Figure size 500x500 with 6 Axes>"
      ]
     },
     "metadata": {},
     "output_type": "display_data"
    }
   ],
   "source": [
    "selected_columns = df_20[['Logged_GDP_per_capita', 'Explained_by_GDP_10']]\n",
    "\n",
    "# Erstellen Sie den Pairplot\n",
    "sns.pairplot(selected_columns)\n",
    "plt.show()"
   ]
  },
  {
   "cell_type": "code",
   "execution_count": null,
   "id": "7a77a50f",
   "metadata": {},
   "outputs": [],
   "source": []
  },
  {
   "cell_type": "code",
   "execution_count": 125,
   "id": "f88e2eb0",
   "metadata": {},
   "outputs": [
    {
     "name": "stdout",
     "output_type": "stream",
     "text": [
      "<class 'pandas.core.frame.DataFrame'>\n",
      "(153, 1)\n",
      "<class 'pandas.core.series.Series'>\n",
      "153\n"
     ]
    }
   ],
   "source": [
    "####GDP\n",
    "model = LinearRegression(fit_intercept=True) ###False setzt intercept = 0\n",
    "\n",
    "####Feature-Matrix(Dataframe) und Ziel-Vektor organisieren\n",
    "features= df_20.loc[:, ['Explained_by_GDP_10']] ###doppelte Klammern für Dataframe\n",
    "print(type(features))\n",
    "print(features.shape) #sollte 317, 1 sein\n",
    "target = df_20.loc[:,'Logged_GDP_per_capita']\n",
    "print(type(target))\n",
    "print(len(target))\n"
   ]
  },
  {
   "cell_type": "code",
   "execution_count": 126,
   "id": "db8bba76",
   "metadata": {},
   "outputs": [
    {
     "data": {
      "text/plain": [
       "<Axes: xlabel='Explained_by_GDP_10', ylabel='Logged_GDP_per_capita'>"
      ]
     },
     "execution_count": 126,
     "metadata": {},
     "output_type": "execute_result"
    },
    {
     "data": {
      "image/png": "[encoded data removed]",
      "text/plain": [
       "<Figure size 640x480 with 1 Axes>"
      ]
     },
     "metadata": {},
     "output_type": "display_data"
    }
   ],
   "source": [
    "###Visualisieren\n",
    "sns.regplot(x=features.iloc[:, 0],\n",
    "            y=target,\n",
    "            scatter_kws={'color':'#17415f',  # dark blue dots\n",
    "                        'alpha':1},  # no transparency for dots\n",
    "            fit_reg=False)  # no regression line\n",
    "\n"
   ]
  },
  {
   "cell_type": "code",
   "execution_count": 127,
   "id": "336a54b8",
   "metadata": {},
   "outputs": [
    {
     "name": "stdout",
     "output_type": "stream",
     "text": [
      "[2.00521925]\n",
      "6.204930341711602\n"
     ]
    },
    {
     "data": {
      "image/png": "[encoded data removed]",
      "text/plain": [
       "<Figure size 640x480 with 1 Axes>"
      ]
     },
     "metadata": {},
     "output_type": "display_data"
    }
   ],
   "source": [
    "###Model Fitting (auf die Daten anpassen)\n",
    "model.fit(features, target)\n",
    "\n",
    "###Visualisieren\n",
    "sns.regplot(x=features.iloc[:, 0], \n",
    "            y=target,\n",
    "            scatter_kws={'color':'#17415f',  # dark blue dots\n",
    "                        'alpha':1},  # no transparency for dots\n",
    "            line_kws={'color':'#70b8e5'},  # light blue regression line\n",
    "            ci=None)  # no confidence intervals around line\n",
    "\n",
    "slope_GDP = model.coef_\n",
    "intercept_GDP = model.intercept_\n",
    "print(model.coef_)  \n",
    "print(model.intercept_)"
   ]
  },
  {
   "cell_type": "code",
   "execution_count": 128,
   "id": "399d6fd2",
   "metadata": {},
   "outputs": [
    {
     "data": {
      "text/plain": [
       "<Axes: xlabel='Explained_by_GDP_10', ylabel='Logged_GDP_per_capita'>"
      ]
     },
     "execution_count": 128,
     "metadata": {},
     "output_type": "execute_result"
    },
    {
     "data": {
      "image/png": "[encoded data removed]",
      "text/plain": [
       "<Figure size 640x480 with 1 Axes>"
      ]
     },
     "metadata": {},
     "output_type": "display_data"
    }
   ],
   "source": [
    "###Visualisieren\n",
    "sns.regplot(x=features.iloc[:, 0],\n",
    "            y=target,\n",
    "            scatter_kws={'color':'#17415f',  # dark blue dots\n",
    "                        'alpha':1},  # no transparency for dots\n",
    "            fit_reg=False)  # no regression line\n"
   ]
  },
  {
   "cell_type": "code",
   "execution_count": 129,
   "id": "3d3203a0",
   "metadata": {},
   "outputs": [],
   "source": [
    "####Mit trainiertem Modell eine Vorgersage tätigen\n",
    "\n",
    "slope_GDP = model.coef_\n",
    "intercept_GDP = model.intercept_\n",
    "\n",
    "df.loc[:, 'Logged_GDP_per_capita'] = intercept_GDP + (slope_GDP * df.loc[:, 'Explained_by_GDP'])"
   ]
  },
  {
   "cell_type": "code",
   "execution_count": 130,
   "id": "1c2edaa3",
   "metadata": {},
   "outputs": [],
   "source": [
    "####Social\n",
    "model = LinearRegression(fit_intercept=True) ###False setzt intercept = 0\n",
    "####Feature-Matrix(Dataframe) und Ziel-Vektor organisieren\n",
    "features= df_20.loc[:, ['Explained_by_Social_support_10']] ###doppelte Klammern für Dataframe\n",
    "target = df_20.loc[:,'Social_support']\n",
    "###Model Fitting (auf die Daten anpassen)\n",
    "model.fit(features, target)\n",
    "slope_social = model.coef_\n",
    "intercept_social = model.intercept_\n",
    "df.loc[:, 'Social_support'] = intercept_social + (slope_social * df.loc[:, 'Explained_by_Social_support_10'])"
   ]
  },
  {
   "cell_type": "code",
   "execution_count": 131,
   "id": "bd085d0e",
   "metadata": {},
   "outputs": [],
   "source": [
    "####Freedom_to_make_life_choices\n",
    "model = LinearRegression(fit_intercept=True) ###False setzt intercept = 0\n",
    "####Feature-Matrix(Dataframe) und Ziel-Vektor organisieren\n",
    "features= df_20.loc[:, ['Explained_by_Freedom_10']] ###doppelte Klammern für Dataframe\n",
    "target = df_20.loc[:,'Freedom_to_make_life_choices']\n",
    "###Model Fitting (auf die Daten anpassen)\n",
    "model.fit(features, target)\n",
    "slope_freedom = model.coef_\n",
    "intercept_freedom = model.intercept_\n",
    "df.loc[:, 'Freedom_to_make_life_choices'] = intercept_social + (intercept_freedom * df.loc[:, 'Explained_by_Freedom_10'])"
   ]
  },
  {
   "cell_type": "code",
   "execution_count": 132,
   "id": "ea7bb35f",
   "metadata": {},
   "outputs": [],
   "source": [
    "####Genrerosity\n",
    "model = LinearRegression(fit_intercept=True) ###False setzt intercept = 0\n",
    "####Feature-Matrix(Dataframe) und Ziel-Vektor organisieren\n",
    "features= df_20.loc[:, ['Explained_by_Generosity_10']] ###doppelte Klammern für Dataframe\n",
    "target = df_20.loc[:,'Generosity']\n",
    "###Model Fitting (auf die Daten anpassen)\n",
    "model.fit(features, target)\n",
    "slope_generosity = model.coef_\n",
    "intercept_generosity = model.intercept_\n",
    "df.loc[:, 'Generosity'] = intercept_generosity + (slope_generosity * df.loc[:, 'Explained_by_Generosity_10'])"
   ]
  },
  {
   "cell_type": "code",
   "execution_count": 135,
   "id": "5bd4a214",
   "metadata": {},
   "outputs": [],
   "source": [
    "####Corruption\n",
    "model = LinearRegression(fit_intercept=True) ###False setzt intercept = 0\n",
    "####Feature-Matrix(Dataframe) und Ziel-Vektor organisieren\n",
    "features= df_20.loc[:, ['Explained_by_Trust_10']] ###doppelte Klammern für Dataframe\n",
    "target = df_20.loc[:,'Perceptions_of_corruption']\n",
    "###Model Fitting (auf die Daten anpassen)\n",
    "model.fit(features, target)\n",
    "slope_corruption = model.coef_\n",
    "intercept_corruption = model.intercept_\n",
    "df.loc[:, 'Perceptions_of_corruption'] = intercept_corruption + (slope_corruption * df.loc[:, 'Explained_by_Trust_10'])"
   ]
  },
  {
   "cell_type": "code",
   "execution_count": 136,
   "id": "5e3cb332",
   "metadata": {},
   "outputs": [],
   "source": [
    "####Health\n",
    "model = LinearRegression(fit_intercept=True) ###False setzt intercept = 0\n",
    "####Feature-Matrix(Dataframe) und Ziel-Vektor organisieren\n",
    "features= df_20.loc[:, ['Explained_by_Health_10']] ###doppelte Klammern für Dataframe\n",
    "target = df_20.loc[:,'Healthy_life_expectancy']\n",
    "###Model Fitting (auf die Daten anpassen)\n",
    "model.fit(features, target)\n",
    "slope_health = model.coef_\n",
    "intercept_health = model.intercept_\n",
    "df.loc[:, 'Healthy_life_expectancy'] = intercept_health  + (slope_health  * df.loc[:, 'Explained_by_Health_10'])"
   ]
  },
  {
   "cell_type": "code",
   "execution_count": 137,
   "id": "69d591ee",
   "metadata": {},
   "outputs": [
    {
     "data": {
      "text/html": [
       "<div>\n",
       "<style scoped>\n",
       "    .dataframe tbody tr th:only-of-type {\n",
       "        vertical-align: middle;\n",
       "    }\n",
       "\n",
       "    .dataframe tbody tr th {\n",
       "        vertical-align: top;\n",
       "    }\n",
       "\n",
       "    .dataframe thead th {\n",
       "        text-align: right;\n",
       "    }\n",
       "</style>\n",
       "<table border=\"1\" class=\"dataframe\">\n",
       "  <thead>\n",
       "    <tr style=\"text-align: right;\">\n",
       "      <th></th>\n",
       "      <th>Unnamed: 0</th>\n",
       "      <th>Year</th>\n",
       "      <th>Country</th>\n",
       "      <th>Region</th>\n",
       "      <th>Happiness_Rank</th>\n",
       "      <th>Happiness</th>\n",
       "      <th>Explained_by_Trust</th>\n",
       "      <th>Explained_by_GDP</th>\n",
       "      <th>Explained_by_Freedom</th>\n",
       "      <th>Explained_by_Generosity</th>\n",
       "      <th>...</th>\n",
       "      <th>Explained_by_Health_10</th>\n",
       "      <th>Explained_by_Freedom_10</th>\n",
       "      <th>Explained_by_Generosity_10</th>\n",
       "      <th>Explained_by_Trust_10</th>\n",
       "      <th>Dystopia_Residual_10</th>\n",
       "      <th>Social_support</th>\n",
       "      <th>Freedom_to_make_life_choices</th>\n",
       "      <th>Generosity</th>\n",
       "      <th>Perceptions_of_corruption</th>\n",
       "      <th>Healthy_life_expectancy</th>\n",
       "    </tr>\n",
       "  </thead>\n",
       "  <tbody>\n",
       "    <tr>\n",
       "      <th>0</th>\n",
       "      <td>0</td>\n",
       "      <td>2023</td>\n",
       "      <td>Finland</td>\n",
       "      <td>Western Europe</td>\n",
       "      <td>1</td>\n",
       "      <td>7.804</td>\n",
       "      <td>0.535</td>\n",
       "      <td>1.888</td>\n",
       "      <td>0.772</td>\n",
       "      <td>0.126</td>\n",
       "      <td>...</td>\n",
       "      <td>0.685546</td>\n",
       "      <td>0.989236</td>\n",
       "      <td>0.161456</td>\n",
       "      <td>0.685546</td>\n",
       "      <td>3.027934</td>\n",
       "      <td>0.793985</td>\n",
       "      <td>0.926158</td>\n",
       "      <td>-0.139699</td>\n",
       "      <td>0.358396</td>\n",
       "      <td>55.081747</td>\n",
       "    </tr>\n",
       "    <tr>\n",
       "      <th>1</th>\n",
       "      <td>1</td>\n",
       "      <td>2023</td>\n",
       "      <td>Denmark</td>\n",
       "      <td>Western Europe</td>\n",
       "      <td>2</td>\n",
       "      <td>7.586</td>\n",
       "      <td>0.525</td>\n",
       "      <td>1.949</td>\n",
       "      <td>0.734</td>\n",
       "      <td>0.208</td>\n",
       "      <td>...</td>\n",
       "      <td>0.707883</td>\n",
       "      <td>0.967572</td>\n",
       "      <td>0.274189</td>\n",
       "      <td>0.692064</td>\n",
       "      <td>2.747166</td>\n",
       "      <td>0.795688</td>\n",
       "      <td>0.915365</td>\n",
       "      <td>-0.069147</td>\n",
       "      <td>0.352969</td>\n",
       "      <td>55.457305</td>\n",
       "    </tr>\n",
       "    <tr>\n",
       "      <th>2</th>\n",
       "      <td>2</td>\n",
       "      <td>2023</td>\n",
       "      <td>Iceland</td>\n",
       "      <td>Western Europe</td>\n",
       "      <td>3</td>\n",
       "      <td>7.530</td>\n",
       "      <td>0.187</td>\n",
       "      <td>1.926</td>\n",
       "      <td>0.738</td>\n",
       "      <td>0.250</td>\n",
       "      <td>...</td>\n",
       "      <td>0.742364</td>\n",
       "      <td>0.980080</td>\n",
       "      <td>0.332005</td>\n",
       "      <td>0.248340</td>\n",
       "      <td>2.988048</td>\n",
       "      <td>0.815364</td>\n",
       "      <td>0.921596</td>\n",
       "      <td>-0.032964</td>\n",
       "      <td>0.722412</td>\n",
       "      <td>56.037041</td>\n",
       "    </tr>\n",
       "    <tr>\n",
       "      <th>3</th>\n",
       "      <td>3</td>\n",
       "      <td>2023</td>\n",
       "      <td>Israel</td>\n",
       "      <td>Middle East and Northern Africa</td>\n",
       "      <td>4</td>\n",
       "      <td>7.473</td>\n",
       "      <td>0.158</td>\n",
       "      <td>1.833</td>\n",
       "      <td>0.569</td>\n",
       "      <td>0.124</td>\n",
       "      <td>...</td>\n",
       "      <td>0.772113</td>\n",
       "      <td>0.761408</td>\n",
       "      <td>0.165931</td>\n",
       "      <td>0.211428</td>\n",
       "      <td>3.600963</td>\n",
       "      <td>0.794752</td>\n",
       "      <td>0.812650</td>\n",
       "      <td>-0.136899</td>\n",
       "      <td>0.753145</td>\n",
       "      <td>56.537219</td>\n",
       "    </tr>\n",
       "    <tr>\n",
       "      <th>4</th>\n",
       "      <td>4</td>\n",
       "      <td>2023</td>\n",
       "      <td>Netherlands</td>\n",
       "      <td>Western Europe</td>\n",
       "      <td>5</td>\n",
       "      <td>7.403</td>\n",
       "      <td>0.394</td>\n",
       "      <td>1.942</td>\n",
       "      <td>0.672</td>\n",
       "      <td>0.251</td>\n",
       "      <td>...</td>\n",
       "      <td>0.736188</td>\n",
       "      <td>0.907740</td>\n",
       "      <td>0.339052</td>\n",
       "      <td>0.532217</td>\n",
       "      <td>2.850196</td>\n",
       "      <td>0.790253</td>\n",
       "      <td>0.885556</td>\n",
       "      <td>-0.028554</td>\n",
       "      <td>0.486057</td>\n",
       "      <td>55.933205</td>\n",
       "    </tr>\n",
       "  </tbody>\n",
       "</table>\n",
       "<p>5 rows × 28 columns</p>\n",
       "</div>"
      ],
      "text/plain": [
       "   Unnamed: 0  Year      Country                           Region  \\\n",
       "0           0  2023      Finland                   Western Europe   \n",
       "1           1  2023      Denmark                   Western Europe   \n",
       "2           2  2023      Iceland                   Western Europe   \n",
       "3           3  2023       Israel  Middle East and Northern Africa   \n",
       "4           4  2023  Netherlands                   Western Europe   \n",
       "\n",
       "   Happiness_Rank  Happiness  Explained_by_Trust  Explained_by_GDP  \\\n",
       "0               1      7.804               0.535             1.888   \n",
       "1               2      7.586               0.525             1.949   \n",
       "2               3      7.530               0.187             1.926   \n",
       "3               4      7.473               0.158             1.833   \n",
       "4               5      7.403               0.394             1.942   \n",
       "\n",
       "   Explained_by_Freedom  Explained_by_Generosity  ...  Explained_by_Health_10  \\\n",
       "0                 0.772                    0.126  ...                0.685546   \n",
       "1                 0.734                    0.208  ...                0.707883   \n",
       "2                 0.738                    0.250  ...                0.742364   \n",
       "3                 0.569                    0.124  ...                0.772113   \n",
       "4                 0.672                    0.251  ...                0.736188   \n",
       "\n",
       "   Explained_by_Freedom_10  Explained_by_Generosity_10 Explained_by_Trust_10  \\\n",
       "0                 0.989236                    0.161456              0.685546   \n",
       "1                 0.967572                    0.274189              0.692064   \n",
       "2                 0.980080                    0.332005              0.248340   \n",
       "3                 0.761408                    0.165931              0.211428   \n",
       "4                 0.907740                    0.339052              0.532217   \n",
       "\n",
       "   Dystopia_Residual_10  Social_support  Freedom_to_make_life_choices  \\\n",
       "0              3.027934        0.793985                      0.926158   \n",
       "1              2.747166        0.795688                      0.915365   \n",
       "2              2.988048        0.815364                      0.921596   \n",
       "3              3.600963        0.794752                      0.812650   \n",
       "4              2.850196        0.790253                      0.885556   \n",
       "\n",
       "   Generosity  Perceptions_of_corruption  Healthy_life_expectancy  \n",
       "0   -0.139699                   0.358396                55.081747  \n",
       "1   -0.069147                   0.352969                55.457305  \n",
       "2   -0.032964                   0.722412                56.037041  \n",
       "3   -0.136899                   0.753145                56.537219  \n",
       "4   -0.028554                   0.486057                55.933205  \n",
       "\n",
       "[5 rows x 28 columns]"
      ]
     },
     "execution_count": 137,
     "metadata": {},
     "output_type": "execute_result"
    }
   ],
   "source": [
    "df.head()"
   ]
  },
  {
   "cell_type": "code",
   "execution_count": 31,
   "id": "23306835",
   "metadata": {},
   "outputs": [],
   "source": [
    "df.to_csv(\"merged_data_2\")"
   ]
  },
  {
   "cell_type": "code",
   "execution_count": 147,
   "id": "83530876",
   "metadata": {},
   "outputs": [],
   "source": [
    "####Health\n",
    "model = LinearRegression(fit_intercept=True) ###False setzt intercept = 0\n",
    "####Feature-Matrix(Dataframe) und Ziel-Vektor organisieren\n",
    "features= df_20.loc[:, ['Explained_by_Health_10']] ###doppelte Klammern für Dataframe\n",
    "target = df_20.loc[:,'Healthy_life_expectancy']\n",
    "###Model Fitting (auf die Daten anpassen)\n",
    "model.fit(features, target)\n",
    "slope_health = model.coef_\n",
    "intercept_health = model.intercept_\n",
    "\n",
    "########Daten, für die eine Vorhersage gemacht werden soll\n",
    "###Daten importieren\n",
    "features_aim = df_23.loc[:,['Explained_by_Health_10']]\n",
    "target_aim = df_23.loc[:,'Healthy_life_expectancy']\n",
    "target_aim_pred= model.predict(features_aim)\n",
    "\n"
   ]
  },
  {
   "cell_type": "code",
   "execution_count": 148,
   "id": "8a6a0773",
   "metadata": {},
   "outputs": [
    {
     "data": {
      "text/plain": [
       "<Axes: xlabel='Explained_by_Health_10', ylabel='Healthy_life_expectancy'>"
      ]
     },
     "execution_count": 148,
     "metadata": {},
     "output_type": "execute_result"
    },
    {
     "data": {
      "image/png": "[encoded data removed]",
      "text/plain": [
       "<Figure size 640x480 with 1 Axes>"
      ]
     },
     "metadata": {},
     "output_type": "display_data"
    }
   ],
   "source": [
    "####Visualisierung\n",
    "\n",
    "fig, ax = plt.subplots()\n",
    "\n",
    "sns.regplot(x=features.iloc[:, 0],  # metro distances in training data set\n",
    "            y=target,  # prices in training data set\n",
    "            scatter_kws={'color':'#17415f',  # dark blue dots\n",
    "                         'alpha':1},  # no transparency for dots\n",
    "            line_kws={'color':'#70b8e5'},  # light blue regression line\n",
    "            ci=None,  # no confidence intervals around line\n",
    "            ax=ax)  # plot on current Axes\n",
    "\n",
    "sns.regplot(x=features_aim.iloc[:, 0],  # x-values of houses with estimated prices\n",
    "            y=target_aim_pred,  # estimated prices\n",
    "            scatter_kws={'color':'#ff9e1c',  # orange dots\n",
    "                         'alpha':1,  # no transparency for dots\n",
    "                         's':70},  # dot size\n",
    "            fit_reg=False,  # no additional regression line\n",
    "            ci=None,  # no confidence intervals around line\n",
    "            ax=ax)  # plot on current Axes\n"
   ]
  },
  {
   "cell_type": "code",
   "execution_count": 149,
   "id": "a1d8e17e",
   "metadata": {},
   "outputs": [
    {
     "ename": "ValueError",
     "evalue": "operands could not be broadcast together with shapes (153,) (136,) ",
     "output_type": "error",
     "traceback": [
      "\u001b[1;31m---------------------------------------------------------------------------\u001b[0m",
      "\u001b[1;31mValueError\u001b[0m                                Traceback (most recent call last)",
      "Cell \u001b[1;32mIn[149], line 1\u001b[0m\n\u001b[1;32m----> 1\u001b[0m residuals \u001b[38;5;241m=\u001b[39m target \u001b[38;5;241m-\u001b[39m target_aim_pred\n",
      "File \u001b[1;32mC:\\ProgramData\\anaconda3\\Lib\\site-packages\\pandas\\core\\ops\\common.py:72\u001b[0m, in \u001b[0;36m_unpack_zerodim_and_defer.<locals>.new_method\u001b[1;34m(self, other)\u001b[0m\n\u001b[0;32m     68\u001b[0m             \u001b[38;5;28;01mreturn\u001b[39;00m \u001b[38;5;28mNotImplemented\u001b[39m\n\u001b[0;32m     70\u001b[0m other \u001b[38;5;241m=\u001b[39m item_from_zerodim(other)\n\u001b[1;32m---> 72\u001b[0m \u001b[38;5;28;01mreturn\u001b[39;00m method(\u001b[38;5;28mself\u001b[39m, other)\n",
      "File \u001b[1;32mC:\\ProgramData\\anaconda3\\Lib\\site-packages\\pandas\\core\\arraylike.py:110\u001b[0m, in \u001b[0;36mOpsMixin.__sub__\u001b[1;34m(self, other)\u001b[0m\n\u001b[0;32m    108\u001b[0m \u001b[38;5;129m@unpack_zerodim_and_defer\u001b[39m(\u001b[38;5;124m\"\u001b[39m\u001b[38;5;124m__sub__\u001b[39m\u001b[38;5;124m\"\u001b[39m)\n\u001b[0;32m    109\u001b[0m \u001b[38;5;28;01mdef\u001b[39;00m \u001b[38;5;21m__sub__\u001b[39m(\u001b[38;5;28mself\u001b[39m, other):\n\u001b[1;32m--> 110\u001b[0m     \u001b[38;5;28;01mreturn\u001b[39;00m \u001b[38;5;28mself\u001b[39m\u001b[38;5;241m.\u001b[39m_arith_method(other, operator\u001b[38;5;241m.\u001b[39msub)\n",
      "File \u001b[1;32mC:\\ProgramData\\anaconda3\\Lib\\site-packages\\pandas\\core\\series.py:6259\u001b[0m, in \u001b[0;36mSeries._arith_method\u001b[1;34m(self, other, op)\u001b[0m\n\u001b[0;32m   6257\u001b[0m \u001b[38;5;28;01mdef\u001b[39;00m \u001b[38;5;21m_arith_method\u001b[39m(\u001b[38;5;28mself\u001b[39m, other, op):\n\u001b[0;32m   6258\u001b[0m     \u001b[38;5;28mself\u001b[39m, other \u001b[38;5;241m=\u001b[39m ops\u001b[38;5;241m.\u001b[39malign_method_SERIES(\u001b[38;5;28mself\u001b[39m, other)\n\u001b[1;32m-> 6259\u001b[0m     \u001b[38;5;28;01mreturn\u001b[39;00m base\u001b[38;5;241m.\u001b[39mIndexOpsMixin\u001b[38;5;241m.\u001b[39m_arith_method(\u001b[38;5;28mself\u001b[39m, other, op)\n",
      "File \u001b[1;32mC:\\ProgramData\\anaconda3\\Lib\\site-packages\\pandas\\core\\base.py:1325\u001b[0m, in \u001b[0;36mIndexOpsMixin._arith_method\u001b[1;34m(self, other, op)\u001b[0m\n\u001b[0;32m   1322\u001b[0m rvalues \u001b[38;5;241m=\u001b[39m ensure_wrapped_if_datetimelike(rvalues)\n\u001b[0;32m   1324\u001b[0m \u001b[38;5;28;01mwith\u001b[39;00m np\u001b[38;5;241m.\u001b[39merrstate(\u001b[38;5;28mall\u001b[39m\u001b[38;5;241m=\u001b[39m\u001b[38;5;124m\"\u001b[39m\u001b[38;5;124mignore\u001b[39m\u001b[38;5;124m\"\u001b[39m):\n\u001b[1;32m-> 1325\u001b[0m     result \u001b[38;5;241m=\u001b[39m ops\u001b[38;5;241m.\u001b[39marithmetic_op(lvalues, rvalues, op)\n\u001b[0;32m   1327\u001b[0m \u001b[38;5;28;01mreturn\u001b[39;00m \u001b[38;5;28mself\u001b[39m\u001b[38;5;241m.\u001b[39m_construct_result(result, name\u001b[38;5;241m=\u001b[39mres_name)\n",
      "File \u001b[1;32mC:\\ProgramData\\anaconda3\\Lib\\site-packages\\pandas\\core\\ops\\array_ops.py:226\u001b[0m, in \u001b[0;36marithmetic_op\u001b[1;34m(left, right, op)\u001b[0m\n\u001b[0;32m    222\u001b[0m     _bool_arith_check(op, left, right)\n\u001b[0;32m    224\u001b[0m     \u001b[38;5;66;03m# error: Argument 1 to \"_na_arithmetic_op\" has incompatible type\u001b[39;00m\n\u001b[0;32m    225\u001b[0m     \u001b[38;5;66;03m# \"Union[ExtensionArray, ndarray[Any, Any]]\"; expected \"ndarray[Any, Any]\"\u001b[39;00m\n\u001b[1;32m--> 226\u001b[0m     res_values \u001b[38;5;241m=\u001b[39m _na_arithmetic_op(left, right, op)  \u001b[38;5;66;03m# type: ignore[arg-type]\u001b[39;00m\n\u001b[0;32m    228\u001b[0m \u001b[38;5;28;01mreturn\u001b[39;00m res_values\n",
      "File \u001b[1;32mC:\\ProgramData\\anaconda3\\Lib\\site-packages\\pandas\\core\\ops\\array_ops.py:165\u001b[0m, in \u001b[0;36m_na_arithmetic_op\u001b[1;34m(left, right, op, is_cmp)\u001b[0m\n\u001b[0;32m    162\u001b[0m     func \u001b[38;5;241m=\u001b[39m partial(expressions\u001b[38;5;241m.\u001b[39mevaluate, op)\n\u001b[0;32m    164\u001b[0m \u001b[38;5;28;01mtry\u001b[39;00m:\n\u001b[1;32m--> 165\u001b[0m     result \u001b[38;5;241m=\u001b[39m func(left, right)\n\u001b[0;32m    166\u001b[0m \u001b[38;5;28;01mexcept\u001b[39;00m \u001b[38;5;167;01mTypeError\u001b[39;00m:\n\u001b[0;32m    167\u001b[0m     \u001b[38;5;28;01mif\u001b[39;00m \u001b[38;5;129;01mnot\u001b[39;00m is_cmp \u001b[38;5;129;01mand\u001b[39;00m (is_object_dtype(left\u001b[38;5;241m.\u001b[39mdtype) \u001b[38;5;129;01mor\u001b[39;00m is_object_dtype(right)):\n\u001b[0;32m    168\u001b[0m         \u001b[38;5;66;03m# For object dtype, fallback to a masked operation (only operating\u001b[39;00m\n\u001b[0;32m    169\u001b[0m         \u001b[38;5;66;03m#  on the non-missing values)\u001b[39;00m\n\u001b[0;32m    170\u001b[0m         \u001b[38;5;66;03m# Don't do this for comparisons, as that will handle complex numbers\u001b[39;00m\n\u001b[0;32m    171\u001b[0m         \u001b[38;5;66;03m#  incorrectly, see GH#32047\u001b[39;00m\n",
      "File \u001b[1;32mC:\\ProgramData\\anaconda3\\Lib\\site-packages\\pandas\\core\\computation\\expressions.py:241\u001b[0m, in \u001b[0;36mevaluate\u001b[1;34m(op, a, b, use_numexpr)\u001b[0m\n\u001b[0;32m    238\u001b[0m \u001b[38;5;28;01mif\u001b[39;00m op_str \u001b[38;5;129;01mis\u001b[39;00m \u001b[38;5;129;01mnot\u001b[39;00m \u001b[38;5;28;01mNone\u001b[39;00m:\n\u001b[0;32m    239\u001b[0m     \u001b[38;5;28;01mif\u001b[39;00m use_numexpr:\n\u001b[0;32m    240\u001b[0m         \u001b[38;5;66;03m# error: \"None\" not callable\u001b[39;00m\n\u001b[1;32m--> 241\u001b[0m         \u001b[38;5;28;01mreturn\u001b[39;00m _evaluate(op, op_str, a, b)  \u001b[38;5;66;03m# type: ignore[misc]\u001b[39;00m\n\u001b[0;32m    242\u001b[0m \u001b[38;5;28;01mreturn\u001b[39;00m _evaluate_standard(op, op_str, a, b)\n",
      "File \u001b[1;32mC:\\ProgramData\\anaconda3\\Lib\\site-packages\\pandas\\core\\computation\\expressions.py:129\u001b[0m, in \u001b[0;36m_evaluate_numexpr\u001b[1;34m(op, op_str, a, b)\u001b[0m\n\u001b[0;32m    126\u001b[0m     _store_test_result(result \u001b[38;5;129;01mis\u001b[39;00m \u001b[38;5;129;01mnot\u001b[39;00m \u001b[38;5;28;01mNone\u001b[39;00m)\n\u001b[0;32m    128\u001b[0m \u001b[38;5;28;01mif\u001b[39;00m result \u001b[38;5;129;01mis\u001b[39;00m \u001b[38;5;28;01mNone\u001b[39;00m:\n\u001b[1;32m--> 129\u001b[0m     result \u001b[38;5;241m=\u001b[39m _evaluate_standard(op, op_str, a, b)\n\u001b[0;32m    131\u001b[0m \u001b[38;5;28;01mreturn\u001b[39;00m result\n",
      "File \u001b[1;32mC:\\ProgramData\\anaconda3\\Lib\\site-packages\\pandas\\core\\computation\\expressions.py:70\u001b[0m, in \u001b[0;36m_evaluate_standard\u001b[1;34m(op, op_str, a, b)\u001b[0m\n\u001b[0;32m     68\u001b[0m \u001b[38;5;28;01mif\u001b[39;00m _TEST_MODE:\n\u001b[0;32m     69\u001b[0m     _store_test_result(\u001b[38;5;28;01mFalse\u001b[39;00m)\n\u001b[1;32m---> 70\u001b[0m \u001b[38;5;28;01mreturn\u001b[39;00m op(a, b)\n",
      "\u001b[1;31mValueError\u001b[0m: operands could not be broadcast together with shapes (153,) (136,) "
     ]
    }
   ],
   "source": [
    "residuals = target - target_aim_pred"
   ]
  },
  {
   "cell_type": "code",
   "execution_count": 63,
   "id": "97a486be",
   "metadata": {},
   "outputs": [
    {
     "name": "stdout",
     "output_type": "stream",
     "text": [
      "5.944409815509335e-15\n"
     ]
    }
   ],
   "source": [
    "print(residuals.mean() )"
   ]
  },
  {
   "cell_type": "code",
   "execution_count": 66,
   "id": "2490e229",
   "metadata": {},
   "outputs": [
    {
     "data": {
      "image/png": "[encoded data removed]",
      "text/plain": [
       "<Figure size 640x480 with 1 Axes>"
      ]
     },
     "metadata": {},
     "output_type": "display_data"
    }
   ],
   "source": [
    "plt.scatter(target_aim_pred, residuals)\n",
    "plt.xlabel(\"Vorhergesagte Werte\")\n",
    "plt.ylabel(\"Residuen\")\n",
    "plt.title(\"Streudiagramm der Residuen\")\n",
    "plt.show()"
   ]
  },
  {
   "cell_type": "code",
   "execution_count": 43,
   "id": "1c58f3fc",
   "metadata": {},
   "outputs": [
    {
     "data": {
      "text/plain": [
       "60.060467349924544"
      ]
     },
     "execution_count": 43,
     "metadata": {},
     "output_type": "execute_result"
    }
   ],
   "source": [
    " 45.20000078422454  + (27.77657302  * 0.535)"
   ]
  },
  {
   "cell_type": "code",
   "execution_count": 78,
   "id": "0ca7e6ba",
   "metadata": {},
   "outputs": [
    {
     "data": {
      "text/plain": [
       "64.22139798832055"
      ]
     },
     "execution_count": 78,
     "metadata": {},
     "output_type": "execute_result"
    }
   ],
   "source": [
    " 45.20000078422454  + (27.77657302  *( 1.28 * 0.535))"
   ]
  },
  {
   "cell_type": "code",
   "execution_count": null,
   "id": "86a36cc9",
   "metadata": {},
   "outputs": [],
   "source": [
    "7.804"
   ]
  },
  {
   "cell_type": "code",
   "execution_count": 67,
   "id": "4978ffaa",
   "metadata": {},
   "outputs": [
    {
     "data": {
      "text/plain": [
       "<matplotlib.collections.PathCollection at 0x2de77aa4a90>"
      ]
     },
     "execution_count": 67,
     "metadata": {},
     "output_type": "execute_result"
    },
    {
     "data": {
      "image/png": "[encoded data removed]",
      "text/plain": [
       "<Figure size 640x480 with 1 Axes>"
      ]
     },
     "metadata": {},
     "output_type": "display_data"
    }
   ],
   "source": [
    "plt.scatter(df_20.loc[:,'Explained_by_Health'], df_20.loc[:,'Healthy_life_expectancy'])"
   ]
  },
  {
   "cell_type": "code",
   "execution_count": null,
   "id": "f6fbe041",
   "metadata": {},
   "outputs": [],
   "source": [
    "0.961271"
   ]
  }
 ],
 "metadata": {
  "kernelspec": {
   "display_name": "Python 3 (ipykernel)",
   "language": "python",
   "name": "python3"
  },
  "language_info": {
   "codemirror_mode": {
    "name": "ipython",
    "version": 3
   },
   "file_extension": ".py",
   "mimetype": "text/x-python",
   "name": "python",
   "nbconvert_exporter": "python",
   "pygments_lexer": "ipython3",
   "version": "3.11.5"
  }
 },
 "nbformat": 4,
 "nbformat_minor": 5
}
