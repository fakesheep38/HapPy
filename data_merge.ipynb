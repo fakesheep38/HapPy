{
 "cells": [
  {
   "cell_type": "code",
   "execution_count": 55,
   "id": "34607900",
   "metadata": {},
   "outputs": [],
   "source": [
    "########### Merge Data from the World Happiness Report 2015 to 2023"
   ]
  },
  {
   "cell_type": "code",
   "execution_count": 56,
   "id": "6bcc5365",
   "metadata": {},
   "outputs": [],
   "source": [
    "## import packages\n",
    "import pandas as pd\n",
    "import plotly.graph_objects as go\n",
    "import pickle\n",
    "import pycountry"
   ]
  },
  {
   "cell_type": "code",
   "execution_count": 57,
   "id": "50cac131",
   "metadata": {},
   "outputs": [],
   "source": [
    "## import data\n",
    "df_15 = pd.read_csv(\"2015.csv\")\n",
    "df_16 = pd.read_csv(\"2016.csv\")\n",
    "df_17 = pd.read_csv(\"2017.csv\")\n",
    "df_18 = pd.read_csv(\"2018.csv\")\n",
    "df_19 = pd.read_csv(\"2019.csv\")\n",
    "df_20 = pd.read_csv(\"2020.csv\")\n",
    "df_21 = pd.read_csv(\"2021.csv\")\n",
    "df_22 = pd.read_csv(\"2022.csv\")\n",
    "df_23 = pd.read_csv(\"2023.csv\")"
   ]
  },
  {
   "cell_type": "code",
   "execution_count": 58,
   "id": "805de9d8",
   "metadata": {},
   "outputs": [],
   "source": [
    "## naming the dataframes\n",
    "df_23.name = 2023\n",
    "df_22.name = 2022\n",
    "df_21.name = 2021\n",
    "df_20.name = 2020\n",
    "df_19.name = 2019\n",
    "df_18.name = 2018\n",
    "df_17.name = 2017\n",
    "df_16.name = 2016\n",
    "df_15.name = 2015"
   ]
  },
  {
   "cell_type": "code",
   "execution_count": 59,
   "id": "8d37ddaa",
   "metadata": {},
   "outputs": [],
   "source": [
    "## creating two sets of dataframes\n",
    "dataframes = [df_23, df_22,df_21, df_20, df_19, df_18,df_17, df_16, df_15 ]\n",
    "dataframes_1 =[df_23, df_21, df_20]\n",
    "dataframes_2 =[df_23, df_22, df_21, df_20]\n",
    "dataframes_3 = [df_19, df_18 ]\n",
    "dataframes_4 =[df_16, df_15]"
   ]
  },
  {
   "cell_type": "code",
   "execution_count": 60,
   "id": "89c57662",
   "metadata": {},
   "outputs": [],
   "source": [
    "## deleting unwanted columns\n",
    "columns_to_delete= ['Perceptions of corruption','Freedom to make life choices','Social support','Generosity','Healthy life expectancy']\n",
    "for df in dataframes_1:\n",
    "    df.drop(columns=columns_to_delete, inplace=True)"
   ]
  },
  {
   "cell_type": "code",
   "execution_count": 61,
   "id": "d894c04c",
   "metadata": {},
   "outputs": [
    {
     "name": "stdout",
     "output_type": "stream",
     "text": [
      "Column 'Year' was successfully created in all DataFrames.\n"
     ]
    }
   ],
   "source": [
    "##adding column year and insert name of the dataframe\n",
    "for df in dataframes:\n",
    "    df['Year'] = df.name\n",
    "\n",
    "column_to_check = 'Year'\n",
    "\n",
    "if all(column_to_check in df.columns for df in dataframes):\n",
    "    print(f\"Column '{column_to_check}' was successfully created in all DataFrames.\")\n",
    "else:\n",
    "    print(f\"Column '{column_to_check}' was not successfully created in all DataFrames.\")"
   ]
  },
  {
   "cell_type": "code",
   "execution_count": 62,
   "id": "d6a2bb46",
   "metadata": {},
   "outputs": [],
   "source": [
    "## renaming Country\n",
    "df_18 = df_18.rename(columns= {\"Country or region\" : \"Country\"})\n",
    "df_19 = df_19.rename(columns= {\"Country or region\" : \"Country\"})\n",
    "df_20 = df_20.rename(columns= {\"Country name\" : \"Country\"})\n",
    "df_21 = df_21.rename(columns= {\"Country name\" : \"Country\"})\n",
    "df_23 = df_23.rename(columns= {\"Country name\" : \"Country\"})"
   ]
  },
  {
   "cell_type": "code",
   "execution_count": 63,
   "id": "78bdb6c3",
   "metadata": {},
   "outputs": [
    {
     "name": "stdout",
     "output_type": "stream",
     "text": [
      "Column 'Dystopia_Residual' was successfully created in all DataFrames.\n"
     ]
    }
   ],
   "source": [
    "# creating Dystopia_Residual for 2018 and 2019\n",
    "for df in dataframes_3:\n",
    "    df.loc[:, 'Dystopia_Residual'] = df.loc[:, 'Score'] - df.loc[:, 'GDP per capita'] - df.loc[:, 'Social support'] - df.loc[:, 'Healthy life expectancy'] - df.loc[:, 'Freedom to make life choices'] - df.loc[:, 'Generosity'] - df.loc[:, 'Perceptions of corruption']\n",
    "\n",
    "## renaming Dystopia Residual to Dystopia_Residual\n",
    "new_column_name = 'Dystopia_Residual'\n",
    "\n",
    "columns_to_rename = ['Dystopia Residual', 'Dystopia.Residual', 'Dystopia + residual', 'Dystopia (1.83) + residual']\n",
    "# Loop to rename columns\n",
    "for idx, dataframe in enumerate(dataframes):\n",
    "    for old_column_name in columns_to_rename:\n",
    "        if old_column_name in dataframe.columns:\n",
    "            dataframe.rename(columns={old_column_name: new_column_name}, inplace=True)\n",
    "\n",
    "# Loop through the DataFrames and check if the column exists\n",
    "column_to_check = 'Dystopia_Residual'\n",
    "if all(column_to_check in df.columns for df in dataframes):\n",
    "    print(f\"Column '{column_to_check}' was successfully created in all DataFrames.\")\n",
    "else:\n",
    "    print(f\"Column '{column_to_check}' was not successfully created in all DataFrames.\")\n"
   ]
  },
  {
   "cell_type": "code",
   "execution_count": 64,
   "id": "2c422808",
   "metadata": {},
   "outputs": [
    {
     "name": "stdout",
     "output_type": "stream",
     "text": [
      "Column 'Country' was successfully created in all DataFrames.\n"
     ]
    }
   ],
   "source": [
    "## renaming Country Column Names\n",
    "string_to_replace = 'Country'\n",
    "\n",
    "# Loop to check and replace column names\n",
    "for idx, dataframe in enumerate(dataframes):\n",
    "    for col in dataframe.columns:\n",
    "        if string_to_replace in col:\n",
    "            new_col_name = 'Country'\n",
    "            dataframe.rename(columns={col: new_col_name}, inplace=True)\n",
    "\n",
    "\n",
    "\n",
    "# Loop through the DataFrames and check if the column exists\n",
    "column_to_check = 'Country'\n",
    "if all(column_to_check in df.columns for df in dataframes):\n",
    "    print(f\"Column '{column_to_check}' was successfully created in all DataFrames.\")\n",
    "else:\n",
    "    print(f\"Column '{column_to_check}' was not successfully created in all DataFrames.\")\n"
   ]
  },
  {
   "cell_type": "code",
   "execution_count": 65,
   "id": "c9035b33",
   "metadata": {},
   "outputs": [
    {
     "name": "stdout",
     "output_type": "stream",
     "text": [
      "Column 'Happiness' was successfully created in all DataFrames.\n"
     ]
    }
   ],
   "source": [
    "###### renaming Ladder Score and  Happiness Score in Happiness\n",
    "columns_to_rename = ['Ladder score', 'Happiness Score', 'Happiness.Score', 'Score', 'Happiness score']\n",
    "\n",
    "# New column name\n",
    "new_column_name = 'Happiness'\n",
    "\n",
    "# Loop to rename columns\n",
    "for idx, dataframe in enumerate(dataframes):\n",
    "    for old_column_name in columns_to_rename:\n",
    "        if old_column_name in dataframe.columns:\n",
    "            dataframe.rename(columns={old_column_name: new_column_name}, inplace=True)\n",
    "\n",
    "\n",
    "\n",
    "# Loop through the DataFrames and check if the column exists\n",
    "column_to_check = 'Happiness'\n",
    "if all(column_to_check in df.columns for df in dataframes):\n",
    "    print(f\"Column '{column_to_check}' was successfully created in all DataFrames.\")\n",
    "else:\n",
    "    print(f\"Column '{column_to_check}' was not successfully created in all DataFrames.\")"
   ]
  },
  {
   "cell_type": "code",
   "execution_count": 66,
   "id": "6771a2a7",
   "metadata": {},
   "outputs": [],
   "source": [
    "## creating the Happiness_Rank column\n",
    "columns_to_rename = ['RANK', 'Happiness.Rank', 'Overall rank', 'Happiness Rank']\n",
    "\n",
    "# New column name\n",
    "new_column_name = 'Happiness_Rank'\n",
    "\n",
    "# Loop to rename columns\n",
    "for idx, dataframe in enumerate(dataframes):\n",
    "    for old_column_name in columns_to_rename:\n",
    "        if old_column_name in dataframe.columns:\n",
    "            dataframe.rename(columns={old_column_name: new_column_name}, inplace=True)"
   ]
  },
  {
   "cell_type": "code",
   "execution_count": 67,
   "id": "99efee36",
   "metadata": {},
   "outputs": [
    {
     "name": "stdout",
     "output_type": "stream",
     "text": [
      "Column 'Happiness_Rank' was successfully created in all DataFrames.\n"
     ]
    }
   ],
   "source": [
    "new_column_name = 'Happiness_Rank'\n",
    "for idx, dataframe in enumerate(dataframes):\n",
    "    if 'Happiness_Rank' not in dataframe.columns:\n",
    "        dataframe[new_column_name] = dataframe.apply(lambda row: row.name + 1, axis=1)\n",
    "\n",
    "# Loop through the DataFrames and check if the column exists\n",
    "column_to_check = 'Happiness_Rank'\n",
    "if all(column_to_check in df.columns for df in dataframes):\n",
    "    print(f\"Column '{column_to_check}' was successfully created in all DataFrames.\")\n",
    "else:\n",
    "    print(f\"Column '{column_to_check}' was not successfully created in all DataFrames.\")"
   ]
  },
  {
   "cell_type": "code",
   "execution_count": 68,
   "id": "5716ed3c",
   "metadata": {},
   "outputs": [
    {
     "name": "stdout",
     "output_type": "stream",
     "text": [
      "Column 'Explained_by_Social_support' was successfully created in all DataFrames.\n"
     ]
    }
   ],
   "source": [
    "## creating Explained_by_Social_support\n",
    "new_column_name = 'Explained_by_Social_support'\n",
    "\n",
    "columns_to_rename = ['Social support', 'Explained by: Social support', 'Family']\n",
    "\n",
    "# Loop to rename columns\n",
    "for idx, dataframe in enumerate(dataframes):\n",
    "    for old_column_name in columns_to_rename:\n",
    "        if old_column_name in dataframe.columns:\n",
    "            dataframe.rename(columns={old_column_name: new_column_name}, inplace=True)\n",
    "\n",
    "\n",
    "\n",
    "# Loop through the DataFrames and check if the column exists\n",
    "column_to_check = 'Explained_by_Social_support'\n",
    "if all(column_to_check in df.columns for df in dataframes):\n",
    "    print(f\"Column '{column_to_check}' was successfully created in all DataFrames.\")\n",
    "else:\n",
    "    print(f\"Column '{column_to_check}' was not successfully created in all DataFrames.\")\n"
   ]
  },
  {
   "cell_type": "code",
   "execution_count": 69,
   "id": "eed63b35",
   "metadata": {},
   "outputs": [
    {
     "name": "stdout",
     "output_type": "stream",
     "text": [
      "Column 'Explained_by_Health' was successfully created in all DataFrames.\n"
     ]
    }
   ],
   "source": [
    "## creating Social support column\n",
    "new_column_name = 'Explained_by_Health'\n",
    "\n",
    "columns_to_rename = ['Health (Life Expectancy)', 'Health..Life.Expectancy.', 'Healthy life expectancy', 'Explained by: Healthy life expectancy']\n",
    "\n",
    "# Loop to rename columns\n",
    "for idx, dataframe in enumerate(dataframes):\n",
    "    for old_column_name in columns_to_rename:\n",
    "        if old_column_name in dataframe.columns:\n",
    "            dataframe.rename(columns={old_column_name: new_column_name}, inplace=True)\n",
    "\n",
    "# Loop through the DataFrames and check if the column exists\n",
    "column_to_check = 'Explained_by_Health'\n",
    "\n",
    "if all(column_to_check in df.columns for df in dataframes):\n",
    "    print(f\"Column '{column_to_check}' was successfully created in all DataFrames.\")\n",
    "else:\n",
    "    print(f\"Column '{column_to_check}' was not successfully created in all DataFrames.\")"
   ]
  },
  {
   "cell_type": "code",
   "execution_count": 70,
   "id": "0626841c",
   "metadata": {},
   "outputs": [
    {
     "name": "stdout",
     "output_type": "stream",
     "text": [
      "Column 'Explained_by_Generosity' was successfully created in all DataFrames.\n"
     ]
    }
   ],
   "source": [
    "## creating Explained_by_Generosity column\n",
    "neuer_spaltenname = 'Explained_by_Generosity'\n",
    "\n",
    "spalten_zu_umbenennen = ['Generosity', 'Explained by: Generosity']\n",
    "\n",
    "# Schleife zum Umbenennen der Spalten\n",
    "for idx, dataframe in enumerate(dataframes):\n",
    "    for alter_spaltenname in spalten_zu_umbenennen:\n",
    "        if alter_spaltenname in dataframe.columns:\n",
    "            dataframe.rename(columns={alter_spaltenname: neuer_spaltenname}, inplace=True)\n",
    "\n",
    "# Schleife durch die DataFrames und überprüfe, ob die Spalte vorhanden ist\n",
    "column_to_check = 'Explained_by_Generosity'  \n",
    "\n",
    "if all(column_to_check in df.columns for df in dataframes):\n",
    "    print(f\"Column '{column_to_check}' was successfully created in all DataFrames.\")\n",
    "else:\n",
    "    print(f\"Column '{column_to_check}' was not successfully created in all DataFrames.\")"
   ]
  },
  {
   "cell_type": "code",
   "execution_count": 71,
   "id": "1eee0109",
   "metadata": {},
   "outputs": [
    {
     "name": "stdout",
     "output_type": "stream",
     "text": [
      "Column 'Explained_by_Freedom' was successfully created in all DataFrames.\n"
     ]
    }
   ],
   "source": [
    "## creating Explained_by_Freedom column\n",
    "new_column_name = 'Explained_by_Freedom'\n",
    "\n",
    "columns_to_rename = ['Explained by: Freedom to make life choices', 'Freedom', 'Freedom to make life choices', 'Explained by: Freedom to make life choices']\n",
    "\n",
    "# Loop to rename columns\n",
    "for idx, dataframe in enumerate(dataframes):\n",
    "    for old_column_name in columns_to_rename:\n",
    "        if old_column_name in dataframe.columns:\n",
    "            dataframe.rename(columns={old_column_name: new_column_name}, inplace=True)\n",
    "\n",
    "             \n",
    "\n",
    "# Loop through the DataFrames and check if the column exists\n",
    "column_to_check = 'Explained_by_Freedom' \n",
    "if all(column_to_check in df.columns for df in dataframes):\n",
    "    print(f\"Column '{column_to_check}' was successfully created in all DataFrames.\")\n",
    "else:\n",
    "    print(f\"Column '{column_to_check}' was not successfully created in all DataFrames.\")\n"
   ]
  },
  {
   "cell_type": "code",
   "execution_count": 72,
   "id": "b08d7ef2",
   "metadata": {},
   "outputs": [
    {
     "name": "stdout",
     "output_type": "stream",
     "text": [
      "Column 'Explained_by_GDP' was successfully created in all DataFrames.\n"
     ]
    }
   ],
   "source": [
    "## creating Explained_by_GDP column\n",
    "new_column_name = 'Explained_by_GDP'\n",
    "\n",
    "columns_to_rename = ['Explained by: GDP per capita', 'Economy (GDP per Capita)', 'Freedom', 'Economy..GDP.per.Capita.', 'GDP per capita', 'Explained by: Log GDP per capita']\n",
    "\n",
    "# Loop to rename columns\n",
    "for idx, dataframe in enumerate(dataframes):\n",
    "    for old_column_name in columns_to_rename:\n",
    "        if old_column_name in dataframe.columns:\n",
    "            dataframe.rename(columns={old_column_name: new_column_name}, inplace=True)\n",
    "          \n",
    "# Loop through the DataFrames and check if the column exists\n",
    "\n",
    "column_to_check = 'Explained_by_GDP'  \n",
    "if all(column_to_check in df.columns for df in dataframes):\n",
    "    print(f\"Column '{column_to_check}' was successfully created in all DataFrames.\")\n",
    "else:\n",
    "    print(f\"Column '{column_to_check}' was not successfully created in all DataFrames.\")\n"
   ]
  },
  {
   "cell_type": "code",
   "execution_count": 73,
   "id": "c9469ebb",
   "metadata": {},
   "outputs": [
    {
     "name": "stdout",
     "output_type": "stream",
     "text": [
      "Column 'Explained_by_Trust' was successfully created in all DataFrames.\n"
     ]
    }
   ],
   "source": [
    "## renaming Explained_by_Trust\n",
    "\n",
    "for df in dataframes_2:\n",
    "    new_column_name = 'Explained_by_Trust'\n",
    "    df.rename(columns={'Explained by: Perceptions of corruption': new_column_name}, inplace=True)\n",
    "for df in dataframes_3:\n",
    "    new_column_name = 'Explained_by_Trust'\n",
    "    df.rename(columns={'Perceptions of corruption': new_column_name}, inplace=True)\n",
    "for df in dataframes_4:\n",
    "    new_column_name = 'Explained_by_Trust'\n",
    "    df.rename(columns={'Trust (Government Corruption)': new_column_name}, inplace=True)\n",
    "new_column_name = 'Explained_by_Trust'\n",
    "df_17.rename(columns={'Trust..Government.Corruption.': new_column_name}, inplace=True)\n",
    "\n",
    "# Loop through the DataFrames and check if the column exists\n",
    "\n",
    "column_to_check = 'Explained_by_Trust'    \n",
    "if all(column_to_check in df.columns for df in dataframes):\n",
    "    print(f\"Column '{column_to_check}' was successfully created in all DataFrames.\")\n",
    "else:\n",
    "    print(f\"Column '{column_to_check}' was not successfully created in all DataFrames.\")\n"
   ]
  },
  {
   "cell_type": "code",
   "execution_count": 74,
   "id": "5e92cca4",
   "metadata": {},
   "outputs": [
    {
     "name": "stdout",
     "output_type": "stream",
     "text": [
      "Column 'Region' was successfully created in all DataFrames.\n"
     ]
    }
   ],
   "source": [
    "## Get regions for all Countries\n",
    "\n",
    "#get regions from dictionary\n",
    "with open(\"regions.pkl\", 'rb') as data:\n",
    "    regions = pickle.load(data)  \n",
    "for df in dataframes:\n",
    "    # Use the \"map\" function to update the \"Region\" column\n",
    "    df['Region'] = df['Country'].map(regions)    \n",
    "\n",
    "for df in dataframes:\n",
    "    # Check if \"Region\" is in the DataFrame's columns\n",
    "    if \"Region\" not in df.columns:\n",
    "        # If not, add \"Region\" and fill it with values from the dictionary\n",
    "        df[\"Region\"] = df[\"Country\"].map(region_dict)\n",
    "        \n",
    "# Loop through the DataFrames and check if the column exists\n",
    "\n",
    "column_to_check = \"Region\"    \n",
    "if all(column_to_check in df.columns for df in dataframes):\n",
    "    print(f\"Column '{column_to_check}' was successfully created in all DataFrames.\")\n",
    "else:\n",
    "    print(f\"Column '{column_to_check}' was not successfully created in all DataFrames.\")"
   ]
  },
  {
   "cell_type": "code",
   "execution_count": 75,
   "id": "508b4f35",
   "metadata": {},
   "outputs": [
    {
     "name": "stdout",
     "output_type": "stream",
     "text": [
      "There are no duplicated column names in the dataframes.\n"
     ]
    }
   ],
   "source": [
    "# Find duplicate column names\n",
    "def find_duplicate_columns(df):\n",
    "    duplicated_columns = df.columns[df.columns.duplicated()].tolist()\n",
    "    return duplicated_columns\n",
    "\n",
    "duplicated = any(find_duplicate_columns(df) for df in dataframes)\n",
    "\n",
    "if duplicated:\n",
    "    print(\"There are duplicated column names in the dataframes.\")\n",
    "else:\n",
    "    print(\"There are no duplicated column names in the dataframes.\")"
   ]
  },
  {
   "cell_type": "code",
   "execution_count": 76,
   "id": "5bd46201",
   "metadata": {},
   "outputs": [],
   "source": [
    "#unify decimal seperators\n",
    "def unify_decimal_separator(df, column):\n",
    "    # Check if the column is not of string type (e.g., float)\n",
    "    if df[column].dtype != 'string':\n",
    "        # Convert the column to string type\n",
    "        df[column] = df[column].astype(str)\n",
    "    \n",
    "    # Replace ',' with '.' and convert to float\n",
    "    df[column] = df[column].str.replace(',', '.', regex=True).astype(float)\n",
    "\n",
    "columns_to_process = ['Happiness', 'Explained_by_Trust', 'Explained_by_GDP', 'Explained_by_Freedom', 'Explained_by_Generosity', 'Explained_by_Health', 'Explained_by_Social_support', 'Dystopia_Residual']\n",
    "\n",
    "for column in columns_to_process:\n",
    "    unify_decimal_separator(df_22, column)"
   ]
  },
  {
   "cell_type": "code",
   "execution_count": 77,
   "id": "a802e55f",
   "metadata": {},
   "outputs": [],
   "source": [
    "## unified column to merge dataframe\n",
    "selected_columns = ['Year', 'Country', 'Region', 'Happiness_Rank', 'Happiness',\n",
    "                    'Explained_by_Trust', 'Explained_by_GDP', 'Explained_by_Freedom',\n",
    "                    'Explained_by_Generosity', 'Explained_by_Health', 'Explained_by_Social_support', \n",
    "                    'Dystopia_Residual']\n",
    "selected_dataframes = []\n",
    "\n",
    "# Loop through the DataFrames and select the desired columns\n",
    "for df in dataframes:\n",
    "    df = df[selected_columns]  # Select the columns\n",
    "    selected_dataframes.append(df)\n",
    "\n",
    "# Reset the index of the DataFrames\n",
    "for df in selected_dataframes:\n",
    "    df.reset_index(drop=True, inplace=True)\n",
    "\n",
    "# Use pd.concat() to combine the DataFrames row-wise\n",
    "df = pd.concat(selected_dataframes, axis=0, ignore_index=True)"
   ]
  },
  {
   "cell_type": "code",
   "execution_count": 78,
   "id": "3246c1a1",
   "metadata": {},
   "outputs": [
    {
     "data": {
      "text/plain": [
       "Year                           0\n",
       "Country                        0\n",
       "Region                         1\n",
       "Happiness_Rank                 0\n",
       "Happiness                      1\n",
       "Explained_by_Trust             2\n",
       "Explained_by_GDP               1\n",
       "Explained_by_Freedom           1\n",
       "Explained_by_Generosity        1\n",
       "Explained_by_Health            2\n",
       "Explained_by_Social_support    1\n",
       "Dystopia_Residual              3\n",
       "dtype: int64"
      ]
     },
     "execution_count": 78,
     "metadata": {},
     "output_type": "execute_result"
    }
   ],
   "source": [
    "df.isna().sum()"
   ]
  },
  {
   "cell_type": "code",
   "execution_count": 79,
   "id": "4e21a414",
   "metadata": {},
   "outputs": [
    {
     "data": {
      "text/html": [
       "<div>\n",
       "<style scoped>\n",
       "    .dataframe tbody tr th:only-of-type {\n",
       "        vertical-align: middle;\n",
       "    }\n",
       "\n",
       "    .dataframe tbody tr th {\n",
       "        vertical-align: top;\n",
       "    }\n",
       "\n",
       "    .dataframe thead th {\n",
       "        text-align: right;\n",
       "    }\n",
       "</style>\n",
       "<table border=\"1\" class=\"dataframe\">\n",
       "  <thead>\n",
       "    <tr style=\"text-align: right;\">\n",
       "      <th></th>\n",
       "      <th>Year</th>\n",
       "      <th>Country</th>\n",
       "      <th>Region</th>\n",
       "      <th>Happiness_Rank</th>\n",
       "      <th>Happiness</th>\n",
       "      <th>Explained_by_Trust</th>\n",
       "      <th>Explained_by_GDP</th>\n",
       "      <th>Explained_by_Freedom</th>\n",
       "      <th>Explained_by_Generosity</th>\n",
       "      <th>Explained_by_Health</th>\n",
       "      <th>Explained_by_Social_support</th>\n",
       "      <th>Dystopia_Residual</th>\n",
       "    </tr>\n",
       "  </thead>\n",
       "  <tbody>\n",
       "    <tr>\n",
       "      <th>98</th>\n",
       "      <td>2023</td>\n",
       "      <td>State of Palestine</td>\n",
       "      <td>Asia</td>\n",
       "      <td>99</td>\n",
       "      <td>4.908</td>\n",
       "      <td>0.067</td>\n",
       "      <td>1.144</td>\n",
       "      <td>0.416</td>\n",
       "      <td>0.065</td>\n",
       "      <td>NaN</td>\n",
       "      <td>1.309</td>\n",
       "      <td>NaN</td>\n",
       "    </tr>\n",
       "    <tr>\n",
       "      <th>761</th>\n",
       "      <td>2018</td>\n",
       "      <td>United Arab Emirates</td>\n",
       "      <td>Asia</td>\n",
       "      <td>20</td>\n",
       "      <td>6.774</td>\n",
       "      <td>NaN</td>\n",
       "      <td>2.096</td>\n",
       "      <td>0.284</td>\n",
       "      <td>0.186</td>\n",
       "      <td>0.67</td>\n",
       "      <td>0.776</td>\n",
       "      <td>NaN</td>\n",
       "    </tr>\n",
       "  </tbody>\n",
       "</table>\n",
       "</div>"
      ],
      "text/plain": [
       "     Year               Country Region  Happiness_Rank  Happiness  \\\n",
       "98   2023    State of Palestine   Asia              99      4.908   \n",
       "761  2018  United Arab Emirates   Asia              20      6.774   \n",
       "\n",
       "     Explained_by_Trust  Explained_by_GDP  Explained_by_Freedom  \\\n",
       "98                0.067             1.144                 0.416   \n",
       "761                 NaN             2.096                 0.284   \n",
       "\n",
       "     Explained_by_Generosity  Explained_by_Health  \\\n",
       "98                     0.065                  NaN   \n",
       "761                    0.186                 0.67   \n",
       "\n",
       "     Explained_by_Social_support  Dystopia_Residual  \n",
       "98                         1.309                NaN  \n",
       "761                        0.776                NaN  "
      ]
     },
     "execution_count": 79,
     "metadata": {},
     "output_type": "execute_result"
    }
   ],
   "source": [
    "## checking for missing values\n",
    "\n",
    "df = df.drop(df[df['Country'] == 'xx'].index)\n",
    "df[df.isnull().any(axis=1)]"
   ]
  },
  {
   "cell_type": "code",
   "execution_count": 80,
   "id": "b5c55b15",
   "metadata": {},
   "outputs": [],
   "source": [
    "# 2023: palestine: explained by health missing -> estimate:\n",
    "happiness_value = 4.908\n",
    "rest_value = 0.067 + 1.144 + 0.416 + 0.065 + 1.309\n",
    "residual_plus_health = happiness_value - rest_value\n",
    "residual_mean_23 = 1.7778382352941176\n",
    "health = residual_plus_health - residual_mean_23\n",
    "spalten_index = df.columns.get_loc('Explained_by_Health')\n",
    "\n",
    "df.iloc[98, 9] = health\n",
    "df.iloc[98, 11] = residual_mean_23"
   ]
  },
  {
   "cell_type": "code",
   "execution_count": 81,
   "id": "6b0ec84f",
   "metadata": {},
   "outputs": [
    {
     "data": {
      "text/plain": [
       "Year                                         2023\n",
       "Country                        State of Palestine\n",
       "Region                                       Asia\n",
       "Happiness_Rank                                 99\n",
       "Happiness                                   4.908\n",
       "Explained_by_Trust                          0.067\n",
       "Explained_by_GDP                            1.144\n",
       "Explained_by_Freedom                        0.416\n",
       "Explained_by_Generosity                     0.065\n",
       "Explained_by_Health                      0.129162\n",
       "Explained_by_Social_support                 1.309\n",
       "Dystopia_Residual                        1.777838\n",
       "Name: 98, dtype: object"
      ]
     },
     "execution_count": 81,
     "metadata": {},
     "output_type": "execute_result"
    }
   ],
   "source": [
    "df.iloc[98,:]"
   ]
  },
  {
   "cell_type": "code",
   "execution_count": 82,
   "id": "c0483b4c",
   "metadata": {},
   "outputs": [],
   "source": [
    "# 2018: arab emirates: explained by trust -> estimate:\n",
    "happiness_value = 6.774\n",
    "rest_value = 2.096 + 0.284 + 0.186 + 0.67 + 0.776\n",
    "residual_plus_trust = happiness_value - rest_value\n",
    "residual_mean_18 = 1.879871794871795\n",
    "trust = residual_plus_trust - residual_mean_18\n",
    "\n",
    "\n",
    "df.iloc[760, 5] = trust\n",
    "df.iloc[760, 11] = residual_mean_18"
   ]
  },
  {
   "cell_type": "code",
   "execution_count": 83,
   "id": "feb0cb18",
   "metadata": {},
   "outputs": [
    {
     "data": {
      "text/plain": [
       "Year                                           2018\n",
       "Country                        United Arab Emirates\n",
       "Region                                         Asia\n",
       "Happiness_Rank                                   20\n",
       "Happiness                                     6.774\n",
       "Explained_by_Trust                         0.882128\n",
       "Explained_by_GDP                              2.096\n",
       "Explained_by_Freedom                          0.284\n",
       "Explained_by_Generosity                       0.186\n",
       "Explained_by_Health                            0.67\n",
       "Explained_by_Social_support                   0.776\n",
       "Dystopia_Residual                          1.879872\n",
       "Name: 761, dtype: object"
      ]
     },
     "execution_count": 83,
     "metadata": {},
     "output_type": "execute_result"
    }
   ],
   "source": [
    "df.iloc[760,:]"
   ]
  },
  {
   "cell_type": "code",
   "execution_count": 84,
   "id": "ff8e1ae4",
   "metadata": {},
   "outputs": [
    {
     "data": {
      "text/html": [
       "<div>\n",
       "<style scoped>\n",
       "    .dataframe tbody tr th:only-of-type {\n",
       "        vertical-align: middle;\n",
       "    }\n",
       "\n",
       "    .dataframe tbody tr th {\n",
       "        vertical-align: top;\n",
       "    }\n",
       "\n",
       "    .dataframe thead th {\n",
       "        text-align: right;\n",
       "    }\n",
       "</style>\n",
       "<table border=\"1\" class=\"dataframe\">\n",
       "  <thead>\n",
       "    <tr style=\"text-align: right;\">\n",
       "      <th></th>\n",
       "      <th>Year</th>\n",
       "      <th>Country</th>\n",
       "      <th>Region</th>\n",
       "      <th>Happiness_Rank</th>\n",
       "      <th>Happiness</th>\n",
       "      <th>Explained_by_Trust</th>\n",
       "      <th>Explained_by_GDP</th>\n",
       "      <th>Explained_by_Freedom</th>\n",
       "      <th>Explained_by_Generosity</th>\n",
       "      <th>Explained_by_Health</th>\n",
       "      <th>Explained_by_Social_support</th>\n",
       "      <th>Dystopia_Residual</th>\n",
       "    </tr>\n",
       "  </thead>\n",
       "  <tbody>\n",
       "  </tbody>\n",
       "</table>\n",
       "</div>"
      ],
      "text/plain": [
       "Empty DataFrame\n",
       "Columns: [Year, Country, Region, Happiness_Rank, Happiness, Explained_by_Trust, Explained_by_GDP, Explained_by_Freedom, Explained_by_Generosity, Explained_by_Health, Explained_by_Social_support, Dystopia_Residual]\n",
       "Index: []"
      ]
     },
     "execution_count": 84,
     "metadata": {},
     "output_type": "execute_result"
    }
   ],
   "source": [
    "df.isna().sum()\n",
    "df[df.isnull().any(axis=1)]"
   ]
  },
  {
   "cell_type": "code",
   "execution_count": 85,
   "id": "4ce35f95",
   "metadata": {},
   "outputs": [
    {
     "data": {
      "text/plain": [
       "Year                           0\n",
       "Country                        0\n",
       "Region                         0\n",
       "Happiness_Rank                 0\n",
       "Happiness                      0\n",
       "Explained_by_Trust             0\n",
       "Explained_by_GDP               0\n",
       "Explained_by_Freedom           0\n",
       "Explained_by_Generosity        0\n",
       "Explained_by_Health            0\n",
       "Explained_by_Social_support    0\n",
       "Dystopia_Residual              0\n",
       "dtype: int64"
      ]
     },
     "execution_count": 85,
     "metadata": {},
     "output_type": "execute_result"
    }
   ],
   "source": [
    "df.isna().sum()"
   ]
  },
  {
   "cell_type": "code",
   "execution_count": 86,
   "id": "aab46725",
   "metadata": {},
   "outputs": [],
   "source": [
    "## adding iso codes\n",
    "country_names = df[\"Country\"].unique()\n",
    "\n",
    "# loading pickle with iso3_information\n",
    "with open('iso3_codes.pkl', 'rb') as file:\n",
    "    iso3_codes = pickle.load(file)\n",
    "    \n",
    "df['iso_a3'] = df['Country'].map(iso3_codes)"
   ]
  },
  {
   "cell_type": "code",
   "execution_count": 87,
   "id": "f65917d7",
   "metadata": {},
   "outputs": [],
   "source": [
    "## unifing country names based on iso3\n",
    "with open('country_names.pkl', 'rb') as file:\n",
    "    country_names = pickle.load(file)\n",
    "df['Country'] = df['iso_a3'].map(country_names)"
   ]
  },
  {
   "cell_type": "code",
   "execution_count": 88,
   "id": "c3d0d79d",
   "metadata": {},
   "outputs": [],
   "source": [
    "####adding life expectancy\n",
    "df_life = pd.read_csv(\"life_expectancy.csv\")\n",
    "df_life = df_life.rename(columns= {\"Country or Area\" : \"Country\"})\n",
    "df_life = df_life.rename(columns= {\"Year(s)\" : \"Year\"})\n",
    "\n",
    "df_life['iso_a3'] = df_life['Country'].map(iso3_codes)\n",
    "df_life['Country'] = df_life['iso_a3'].map(country_names)"
   ]
  },
  {
   "cell_type": "code",
   "execution_count": 89,
   "id": "34e264f0",
   "metadata": {},
   "outputs": [],
   "source": [
    "##merge life expectancy data with df\n",
    "df = df.merge(df_life[['Country', 'Year', 'Value']], on=['Country', 'Year'], how='left')\n",
    "# Die Werte aus 'Value' in 'NewValue' speichern\n",
    "df.rename(columns={'Value': 'Life_Expectancy'}, inplace=True)\n"
   ]
  },
  {
   "cell_type": "code",
   "execution_count": 90,
   "id": "475aaead",
   "metadata": {},
   "outputs": [
    {
     "data": {
      "text/html": [
       "<div>\n",
       "<style scoped>\n",
       "    .dataframe tbody tr th:only-of-type {\n",
       "        vertical-align: middle;\n",
       "    }\n",
       "\n",
       "    .dataframe tbody tr th {\n",
       "        vertical-align: top;\n",
       "    }\n",
       "\n",
       "    .dataframe thead th {\n",
       "        text-align: right;\n",
       "    }\n",
       "</style>\n",
       "<table border=\"1\" class=\"dataframe\">\n",
       "  <thead>\n",
       "    <tr style=\"text-align: right;\">\n",
       "      <th></th>\n",
       "      <th>Year</th>\n",
       "      <th>Country</th>\n",
       "      <th>Region</th>\n",
       "      <th>Happiness_Rank</th>\n",
       "      <th>Happiness</th>\n",
       "      <th>Explained_by_Trust</th>\n",
       "      <th>Explained_by_GDP</th>\n",
       "      <th>Explained_by_Freedom</th>\n",
       "      <th>Explained_by_Generosity</th>\n",
       "      <th>Explained_by_Health</th>\n",
       "      <th>Explained_by_Social_support</th>\n",
       "      <th>Dystopia_Residual</th>\n",
       "      <th>iso_a3</th>\n",
       "      <th>Life_Expectancy</th>\n",
       "    </tr>\n",
       "  </thead>\n",
       "  <tbody>\n",
       "    <tr>\n",
       "      <th>0</th>\n",
       "      <td>2023</td>\n",
       "      <td>Finland</td>\n",
       "      <td>Europe</td>\n",
       "      <td>1</td>\n",
       "      <td>7.804</td>\n",
       "      <td>0.535</td>\n",
       "      <td>1.888</td>\n",
       "      <td>0.772</td>\n",
       "      <td>0.126</td>\n",
       "      <td>0.535</td>\n",
       "      <td>1.585</td>\n",
       "      <td>2.363</td>\n",
       "      <td>FIN</td>\n",
       "      <td>82.5148</td>\n",
       "    </tr>\n",
       "    <tr>\n",
       "      <th>1</th>\n",
       "      <td>2023</td>\n",
       "      <td>Denmark</td>\n",
       "      <td>Europe</td>\n",
       "      <td>2</td>\n",
       "      <td>7.586</td>\n",
       "      <td>0.525</td>\n",
       "      <td>1.949</td>\n",
       "      <td>0.734</td>\n",
       "      <td>0.208</td>\n",
       "      <td>0.537</td>\n",
       "      <td>1.548</td>\n",
       "      <td>2.084</td>\n",
       "      <td>DNK</td>\n",
       "      <td>82.0326</td>\n",
       "    </tr>\n",
       "    <tr>\n",
       "      <th>2</th>\n",
       "      <td>2023</td>\n",
       "      <td>Iceland</td>\n",
       "      <td>Europe</td>\n",
       "      <td>3</td>\n",
       "      <td>7.530</td>\n",
       "      <td>0.187</td>\n",
       "      <td>1.926</td>\n",
       "      <td>0.738</td>\n",
       "      <td>0.250</td>\n",
       "      <td>0.559</td>\n",
       "      <td>1.620</td>\n",
       "      <td>2.250</td>\n",
       "      <td>ISL</td>\n",
       "      <td>82.9578</td>\n",
       "    </tr>\n",
       "    <tr>\n",
       "      <th>3</th>\n",
       "      <td>2023</td>\n",
       "      <td>Israel</td>\n",
       "      <td>Asia</td>\n",
       "      <td>4</td>\n",
       "      <td>7.473</td>\n",
       "      <td>0.158</td>\n",
       "      <td>1.833</td>\n",
       "      <td>0.569</td>\n",
       "      <td>0.124</td>\n",
       "      <td>0.577</td>\n",
       "      <td>1.521</td>\n",
       "      <td>2.691</td>\n",
       "      <td>ISR</td>\n",
       "      <td>83.3861</td>\n",
       "    </tr>\n",
       "    <tr>\n",
       "      <th>4</th>\n",
       "      <td>2023</td>\n",
       "      <td>Netherlands</td>\n",
       "      <td>Europe</td>\n",
       "      <td>5</td>\n",
       "      <td>7.403</td>\n",
       "      <td>0.394</td>\n",
       "      <td>1.942</td>\n",
       "      <td>0.672</td>\n",
       "      <td>0.251</td>\n",
       "      <td>0.545</td>\n",
       "      <td>1.488</td>\n",
       "      <td>2.110</td>\n",
       "      <td>NLD</td>\n",
       "      <td>82.5802</td>\n",
       "    </tr>\n",
       "  </tbody>\n",
       "</table>\n",
       "</div>"
      ],
      "text/plain": [
       "   Year      Country  Region  Happiness_Rank  Happiness  Explained_by_Trust  \\\n",
       "0  2023      Finland  Europe               1      7.804               0.535   \n",
       "1  2023      Denmark  Europe               2      7.586               0.525   \n",
       "2  2023      Iceland  Europe               3      7.530               0.187   \n",
       "3  2023       Israel    Asia               4      7.473               0.158   \n",
       "4  2023  Netherlands  Europe               5      7.403               0.394   \n",
       "\n",
       "   Explained_by_GDP  Explained_by_Freedom  Explained_by_Generosity  \\\n",
       "0             1.888                 0.772                    0.126   \n",
       "1             1.949                 0.734                    0.208   \n",
       "2             1.926                 0.738                    0.250   \n",
       "3             1.833                 0.569                    0.124   \n",
       "4             1.942                 0.672                    0.251   \n",
       "\n",
       "   Explained_by_Health  Explained_by_Social_support  Dystopia_Residual iso_a3  \\\n",
       "0                0.535                        1.585              2.363    FIN   \n",
       "1                0.537                        1.548              2.084    DNK   \n",
       "2                0.559                        1.620              2.250    ISL   \n",
       "3                0.577                        1.521              2.691    ISR   \n",
       "4                0.545                        1.488              2.110    NLD   \n",
       "\n",
       "   Life_Expectancy  \n",
       "0          82.5148  \n",
       "1          82.0326  \n",
       "2          82.9578  \n",
       "3          83.3861  \n",
       "4          82.5802  "
      ]
     },
     "execution_count": 90,
     "metadata": {},
     "output_type": "execute_result"
    }
   ],
   "source": [
    "df.head()"
   ]
  },
  {
   "cell_type": "code",
   "execution_count": 91,
   "id": "216a4461",
   "metadata": {},
   "outputs": [
    {
     "data": {
      "text/html": [
       "<div>\n",
       "<style scoped>\n",
       "    .dataframe tbody tr th:only-of-type {\n",
       "        vertical-align: middle;\n",
       "    }\n",
       "\n",
       "    .dataframe tbody tr th {\n",
       "        vertical-align: top;\n",
       "    }\n",
       "\n",
       "    .dataframe thead th {\n",
       "        text-align: right;\n",
       "    }\n",
       "</style>\n",
       "<table border=\"1\" class=\"dataframe\">\n",
       "  <thead>\n",
       "    <tr style=\"text-align: right;\">\n",
       "      <th></th>\n",
       "      <th>Year</th>\n",
       "      <th>Country</th>\n",
       "      <th>Region</th>\n",
       "      <th>Happiness_Rank</th>\n",
       "      <th>Happiness</th>\n",
       "      <th>Explained_by_Trust</th>\n",
       "      <th>Explained_by_GDP</th>\n",
       "      <th>Explained_by_Freedom</th>\n",
       "      <th>Explained_by_Generosity</th>\n",
       "      <th>Explained_by_Health</th>\n",
       "      <th>Explained_by_Social_support</th>\n",
       "      <th>Dystopia_Residual</th>\n",
       "      <th>iso_a3</th>\n",
       "      <th>Life_Expectancy</th>\n",
       "    </tr>\n",
       "  </thead>\n",
       "  <tbody>\n",
       "    <tr>\n",
       "      <th>0</th>\n",
       "      <td>2023</td>\n",
       "      <td>Finland</td>\n",
       "      <td>Europe</td>\n",
       "      <td>1</td>\n",
       "      <td>7.804</td>\n",
       "      <td>0.535</td>\n",
       "      <td>1.888</td>\n",
       "      <td>0.772</td>\n",
       "      <td>0.126</td>\n",
       "      <td>0.535</td>\n",
       "      <td>1.585</td>\n",
       "      <td>2.363</td>\n",
       "      <td>FIN</td>\n",
       "      <td>82.5148</td>\n",
       "    </tr>\n",
       "    <tr>\n",
       "      <th>1</th>\n",
       "      <td>2023</td>\n",
       "      <td>Denmark</td>\n",
       "      <td>Europe</td>\n",
       "      <td>2</td>\n",
       "      <td>7.586</td>\n",
       "      <td>0.525</td>\n",
       "      <td>1.949</td>\n",
       "      <td>0.734</td>\n",
       "      <td>0.208</td>\n",
       "      <td>0.537</td>\n",
       "      <td>1.548</td>\n",
       "      <td>2.084</td>\n",
       "      <td>DNK</td>\n",
       "      <td>82.0326</td>\n",
       "    </tr>\n",
       "    <tr>\n",
       "      <th>2</th>\n",
       "      <td>2023</td>\n",
       "      <td>Iceland</td>\n",
       "      <td>Europe</td>\n",
       "      <td>3</td>\n",
       "      <td>7.530</td>\n",
       "      <td>0.187</td>\n",
       "      <td>1.926</td>\n",
       "      <td>0.738</td>\n",
       "      <td>0.250</td>\n",
       "      <td>0.559</td>\n",
       "      <td>1.620</td>\n",
       "      <td>2.250</td>\n",
       "      <td>ISL</td>\n",
       "      <td>82.9578</td>\n",
       "    </tr>\n",
       "    <tr>\n",
       "      <th>3</th>\n",
       "      <td>2023</td>\n",
       "      <td>Israel</td>\n",
       "      <td>Asia</td>\n",
       "      <td>4</td>\n",
       "      <td>7.473</td>\n",
       "      <td>0.158</td>\n",
       "      <td>1.833</td>\n",
       "      <td>0.569</td>\n",
       "      <td>0.124</td>\n",
       "      <td>0.577</td>\n",
       "      <td>1.521</td>\n",
       "      <td>2.691</td>\n",
       "      <td>ISR</td>\n",
       "      <td>83.3861</td>\n",
       "    </tr>\n",
       "    <tr>\n",
       "      <th>4</th>\n",
       "      <td>2023</td>\n",
       "      <td>Netherlands</td>\n",
       "      <td>Europe</td>\n",
       "      <td>5</td>\n",
       "      <td>7.403</td>\n",
       "      <td>0.394</td>\n",
       "      <td>1.942</td>\n",
       "      <td>0.672</td>\n",
       "      <td>0.251</td>\n",
       "      <td>0.545</td>\n",
       "      <td>1.488</td>\n",
       "      <td>2.110</td>\n",
       "      <td>NLD</td>\n",
       "      <td>82.5802</td>\n",
       "    </tr>\n",
       "  </tbody>\n",
       "</table>\n",
       "</div>"
      ],
      "text/plain": [
       "   Year      Country  Region  Happiness_Rank  Happiness  Explained_by_Trust  \\\n",
       "0  2023      Finland  Europe               1      7.804               0.535   \n",
       "1  2023      Denmark  Europe               2      7.586               0.525   \n",
       "2  2023      Iceland  Europe               3      7.530               0.187   \n",
       "3  2023       Israel    Asia               4      7.473               0.158   \n",
       "4  2023  Netherlands  Europe               5      7.403               0.394   \n",
       "\n",
       "   Explained_by_GDP  Explained_by_Freedom  Explained_by_Generosity  \\\n",
       "0             1.888                 0.772                    0.126   \n",
       "1             1.949                 0.734                    0.208   \n",
       "2             1.926                 0.738                    0.250   \n",
       "3             1.833                 0.569                    0.124   \n",
       "4             1.942                 0.672                    0.251   \n",
       "\n",
       "   Explained_by_Health  Explained_by_Social_support  Dystopia_Residual iso_a3  \\\n",
       "0                0.535                        1.585              2.363    FIN   \n",
       "1                0.537                        1.548              2.084    DNK   \n",
       "2                0.559                        1.620              2.250    ISL   \n",
       "3                0.577                        1.521              2.691    ISR   \n",
       "4                0.545                        1.488              2.110    NLD   \n",
       "\n",
       "   Life_Expectancy  \n",
       "0          82.5148  \n",
       "1          82.0326  \n",
       "2          82.9578  \n",
       "3          83.3861  \n",
       "4          82.5802  "
      ]
     },
     "execution_count": 91,
     "metadata": {},
     "output_type": "execute_result"
    }
   ],
   "source": [
    "df.head()"
   ]
  },
  {
   "cell_type": "code",
   "execution_count": 92,
   "id": "9195f790",
   "metadata": {},
   "outputs": [
    {
     "data": {
      "text/plain": [
       "Year                             0\n",
       "Country                          0\n",
       "Region                           0\n",
       "Happiness_Rank                   0\n",
       "Happiness                        0\n",
       "Explained_by_Trust               0\n",
       "Explained_by_GDP                 0\n",
       "Explained_by_Freedom             0\n",
       "Explained_by_Generosity          0\n",
       "Explained_by_Health              0\n",
       "Explained_by_Social_support      0\n",
       "Dystopia_Residual                0\n",
       "iso_a3                           0\n",
       "Life_Expectancy                151\n",
       "dtype: int64"
      ]
     },
     "execution_count": 92,
     "metadata": {},
     "output_type": "execute_result"
    }
   ],
   "source": [
    "df.isna().sum()"
   ]
  },
  {
   "cell_type": "code",
   "execution_count": 53,
   "id": "8d2fade6",
   "metadata": {},
   "outputs": [
    {
     "name": "stdout",
     "output_type": "stream",
     "text": [
      "Country\n",
      "Bolivia                      9\n",
      "Hong Kong S.A.R. of China    9\n",
      "Iran                         9\n",
      "Ivory Coast                  9\n",
      "Kosovo                       9\n",
      "Moldova                      9\n",
      "Russia                       9\n",
      "South Korea                  9\n",
      "Taiwan Province of China     9\n",
      "Tanzania                     9\n",
      "Turkiye                      9\n",
      "United States                9\n",
      "Venezuela                    9\n",
      "Vietnam                      9\n",
      "Name: Life_Expectancy, dtype: int64\n"
     ]
    }
   ],
   "source": [
    "missing_values_by_country = df.groupby('Country')['Life_Expectancy'].apply(lambda x: x.isna().sum())\n",
    "\n",
    "# Wähle die Länder aus, für die es in allen Jahren keine 'Life_Expectancy'-Werte gibt\n",
    "countries_with_all_missing_values = missing_values_by_country[missing_values_by_country == len(years)]\n",
    "\n",
    "# Gib die betroffenen Länder aus\n",
    "print(countries_with_all_missing_values)"
   ]
  },
  {
   "cell_type": "code",
   "execution_count": 49,
   "id": "fe9bd745",
   "metadata": {},
   "outputs": [
    {
     "data": {
      "text/plain": [
       "Year                              0\n",
       "Country                           0\n",
       "Region                            0\n",
       "Happiness_Rank                    0\n",
       "Happiness                         0\n",
       "Explained_by_Trust                0\n",
       "Explained_by_GDP                  0\n",
       "Explained_by_Freedom              0\n",
       "Explained_by_Generosity           0\n",
       "Explained_by_Health               0\n",
       "Explained_by_Social_support       0\n",
       "Dystopia_Residual                 0\n",
       "iso_a3                            0\n",
       "Life_Expectancy                 151\n",
       "Total_Population                 41\n",
       "Interpolated_Life_Expectancy    151\n",
       "dtype: int64"
      ]
     },
     "execution_count": 49,
     "metadata": {},
     "output_type": "execute_result"
    }
   ],
   "source": [
    "df.isna().sum()"
   ]
  },
  {
   "cell_type": "code",
   "execution_count": 93,
   "id": "80d7dbbc",
   "metadata": {},
   "outputs": [],
   "source": [
    "## adding population\n",
    "df_pop = pd.read_csv('New_source1_databank_worldbank_org.csv')\n",
    "# Extract the columns with population data\n",
    "df_pop = df_pop[['Country Name', '2015 [YR2015]', '2016 [YR2016]', '2017 [YR2017]', '2018 [YR2018]', '2019 [YR2019]', '2020 [YR2020]', '2021 [YR2021]', '2022 [YR2022]', '2023 [YR2023]']]\n",
    "\n",
    "# Melt the DataFrame to reshape it\n",
    "df_pop = df_pop.melt(id_vars=['Country Name'], var_name='Year', value_name='Total_Population')\n",
    "# Rename 'Country Name' to match the column in the merged_data_life DataFrame\n",
    "df_pop = df_pop.rename(columns={'Country Name': 'Country'})\n",
    "\n",
    "# Convert the 'Year' column to integers\n",
    "df_pop['Year'] = df_pop['Year'].str.extract('(\\d+)').astype(int)\n",
    "\n",
    "# unifing country names\n",
    "df_pop['iso_a3'] = df_pop['Country'].map(iso3_codes)\n",
    "df_pop['Country'] = df_pop['iso_a3'].map(country_names)\n",
    "df_pop.drop(columns=['iso_a3'], inplace=True)\n",
    "#merge data\n",
    "df = df.merge(df_pop, on=['Country', 'Year'], how='left')"
   ]
  },
  {
   "cell_type": "code",
   "execution_count": 94,
   "id": "f9816245",
   "metadata": {},
   "outputs": [],
   "source": [
    "## filling in missing population \n",
    "population_data = pd.read_csv('New_source1_databank_worldbank_org.csv')\n",
    "# List of countries and their corresponding names in the population_data DataFrame\n",
    "countries = {\n",
    "    'Czech Republic': 'Czechia',\n",
    "    'Egypt': 'Egypt, Arab Rep.',\n",
    "    'Slovakia': 'Slovak Republic',\n",
    "    'Kyrgyzstan': 'Kyrgyz Republic',\n",
    "    'Russia': 'Russian Federation',\n",
    "    'Hong Kong': 'Hong Kong SAR, China',\n",
    "    'Congo (Kinshasa)': 'Congo, Dem. Rep.',\n",
    "    'Congo': 'Congo, Rep.',\n",
    "    'Venezuela': 'Venezuela, RB',\n",
    "    'Laos': 'Lao PDR',\n",
    "    'Ivory Coast': \"Cote d'Ivoire\",\n",
    "    'Iran': 'Iran, Islamic Rep.',\n",
    "    'Eswatini, Kingdom of*': 'Eswatini',\n",
    "    'Yemen': 'Yemen, Rep.',\n",
    "    'Turkey': 'Turkiye',\n",
    "    'Syria': 'Syrian Arab Republic',\n",
    "    'Trinidad & Tobago': 'Trinidad and Tobago',\n",
    "    'Gambia': 'Gambia, The',\n",
    "    'South Korea': 'Korea, Rep.',\n",
    "    'Somaliland Region': 'Somalia',\n",
    "    'Macedonia': 'North Macedonia'\n",
    "}\n",
    "\n",
    "# Define the list of years to iterate through\n",
    "years = [str(year) + ' [YR' + str(year) + ']' for year in range(2015, 2024)]\n",
    "\n",
    "# Iterate through each country and update Total_Population values in df\n",
    "for country, population_name in countries.items():\n",
    "    country_population = population_data[population_data['Country Name'] == population_name]\n",
    "    for year in years:\n",
    "        condition = (df['Country'] == country) & df['Total_Population'].isna()\n",
    "        df.loc[condition, 'Total_Population'] = country_population[year].values[0]"
   ]
  },
  {
   "cell_type": "code",
   "execution_count": 95,
   "id": "d4e9fdab",
   "metadata": {},
   "outputs": [
    {
     "data": {
      "text/plain": [
       "Year                             0\n",
       "Country                          0\n",
       "Region                           0\n",
       "Happiness_Rank                   0\n",
       "Happiness                        0\n",
       "Explained_by_Trust               0\n",
       "Explained_by_GDP                 0\n",
       "Explained_by_Freedom             0\n",
       "Explained_by_Generosity          0\n",
       "Explained_by_Health              0\n",
       "Explained_by_Social_support      0\n",
       "Dystopia_Residual                0\n",
       "iso_a3                           0\n",
       "Life_Expectancy                151\n",
       "Total_Population                41\n",
       "dtype: int64"
      ]
     },
     "execution_count": 95,
     "metadata": {},
     "output_type": "execute_result"
    }
   ],
   "source": [
    "df.isna().sum()"
   ]
  },
  {
   "cell_type": "code",
   "execution_count": 97,
   "id": "3a2fc50d",
   "metadata": {},
   "outputs": [],
   "source": [
    "##save new dataframe\n",
    "df.to_csv('merged_data.csv', index=False) "
   ]
  }
 ],
 "metadata": {
  "kernelspec": {
   "display_name": "Python 3 (ipykernel)",
   "language": "python",
   "name": "python3"
  },
  "language_info": {
   "codemirror_mode": {
    "name": "ipython",
    "version": 3
   },
   "file_extension": ".py",
   "mimetype": "text/x-python",
   "name": "python",
   "nbconvert_exporter": "python",
   "pygments_lexer": "ipython3",
   "version": "3.11.5"
  }
 },
 "nbformat": 4,
 "nbformat_minor": 5
}
