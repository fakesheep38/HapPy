{
 "cells": [
  {
   "cell_type": "code",
   "execution_count": 55,
   "id": "34607900",
   "metadata": {},
   "outputs": [],
   "source": [
    "########### Merge Data from the World Happiness Report 2015 to 2023"
   ]
  },
  {
   "cell_type": "code",
   "execution_count": 56,
   "id": "6bcc5365",
   "metadata": {},
   "outputs": [],
   "source": [
    "## import packages\n",
    "import pandas as pd\n",
    "import plotly.graph_objects as go\n",
    "import plotly.graph_objects as go\n",
    "import pickle"
   ]
  },
  {
   "cell_type": "code",
   "execution_count": 57,
   "id": "50cac131",
   "metadata": {},
   "outputs": [],
   "source": [
    "## import data\n",
    "df_15 = pd.read_csv(\"2015.csv\")\n",
    "df_16 = pd.read_csv(\"2016.csv\")\n",
    "df_17 = pd.read_csv(\"2017.csv\")\n",
    "df_18 = pd.read_csv(\"2018.csv\")\n",
    "df_19 = pd.read_csv(\"2019.csv\")\n",
    "df_20 = pd.read_csv(\"2020.csv\")\n",
    "df_21 = pd.read_csv(\"2021.csv\")\n",
    "df_22 = pd.read_csv(\"2022.csv\")\n",
    "df_23 = pd.read_csv(\"2023.csv\")"
   ]
  },
  {
   "cell_type": "code",
   "execution_count": 58,
   "id": "805de9d8",
   "metadata": {},
   "outputs": [],
   "source": [
    "## naming the dataframes\n",
    "df_23.name = 2023\n",
    "df_22.name = 2022\n",
    "df_21.name = 2021\n",
    "df_20.name = 2020\n",
    "df_19.name = 2019\n",
    "df_18.name = 2018\n",
    "df_17.name = 2017\n",
    "df_16.name = 2016\n",
    "df_15.name = 2015"
   ]
  },
  {
   "cell_type": "code",
   "execution_count": 59,
   "id": "8d37ddaa",
   "metadata": {},
   "outputs": [],
   "source": [
    "## creating two sets of dataframes\n",
    "dataframes = [df_23, df_22,df_21, df_20, df_19, df_18,df_17, df_16, df_15 ]\n",
    "dataframes_1 =[df_23, df_21, df_20]\n",
    "dataframes_2 =[df_23, df_22, df_21, df_20]\n",
    "dataframes_3 = [df_19, df_18 ]\n",
    "dataframes_4 =[df_16, df_15]"
   ]
  },
  {
   "cell_type": "code",
   "execution_count": 60,
   "id": "89c57662",
   "metadata": {},
   "outputs": [],
   "source": [
    "##deleting unwanted columns\n",
    "columns_to_delete= ['Perceptions of corruption','Freedom to make life choices','Social support','Generosity','Healthy life expectancy']\n",
    "for df in dataframes_1:\n",
    "    df.drop(columns=columns_to_delete, inplace=True)"
   ]
  },
  {
   "cell_type": "code",
   "execution_count": 61,
   "id": "d894c04c",
   "metadata": {},
   "outputs": [
    {
     "name": "stdout",
     "output_type": "stream",
     "text": [
      "Column 'Year' was successfully created in all DataFrames.\n"
     ]
    }
   ],
   "source": [
    "##adding column year and insert name of the dataframe\n",
    "for df in dataframes:\n",
    "    df['Year'] = df.name\n",
    "\n",
    "column_to_check = 'Year'\n",
    "\n",
    "if all(column_to_check in df.columns for df in dataframes):\n",
    "    print(f\"Column '{column_to_check}' was successfully created in all DataFrames.\")\n",
    "else:\n",
    "    print(f\"Column '{column_to_check}' was not successfully created in all DataFrames.\")"
   ]
  },
  {
   "cell_type": "code",
   "execution_count": 62,
   "id": "d6a2bb46",
   "metadata": {},
   "outputs": [],
   "source": [
    "## renaming Country\n",
    "df_18 = df_18.rename(columns= {\"Country or region\" : \"Country\"})\n",
    "df_19 = df_19.rename(columns= {\"Country or region\" : \"Country\"})\n",
    "df_20 = df_20.rename(columns= {\"Country name\" : \"Country\"})\n",
    "df_21 = df_21.rename(columns= {\"Country name\" : \"Country\"})\n",
    "df_23 = df_23.rename(columns= {\"Country name\" : \"Country\"})"
   ]
  },
  {
   "cell_type": "code",
   "execution_count": 63,
   "id": "78bdb6c3",
   "metadata": {},
   "outputs": [
    {
     "name": "stdout",
     "output_type": "stream",
     "text": [
      "Column 'Dystopia_Residual' was successfully created in all DataFrames.\n"
     ]
    }
   ],
   "source": [
    "# creating Dystopia_Residual for 2018 and 2019\n",
    "for df in dataframes_3:\n",
    "    df.loc[:, 'Dystopia_Residual'] = df.loc[:, 'Score'] - df.loc[:, 'GDP per capita'] - df.loc[:, 'Social support'] - df.loc[:, 'Healthy life expectancy'] - df.loc[:, 'Freedom to make life choices'] - df.loc[:, 'Generosity'] - df.loc[:, 'Perceptions of corruption']\n",
    "## renaming Dystopia Residual to Dystopia_Residual\n",
    "new_column_name = 'Dystopia_Residual'\n",
    "\n",
    "columns_to_rename = ['Dystopia Residual', 'Dystopia.Residual', 'Dystopia + residual', 'Dystopia (1.83) + residual']\n",
    "# Loop to rename columns\n",
    "for idx, dataframe in enumerate(dataframes):\n",
    "    for old_column_name in columns_to_rename:\n",
    "        if old_column_name in dataframe.columns:\n",
    "            dataframe.rename(columns={old_column_name: new_column_name}, inplace=True)\n",
    "\n",
    "# Loop through the DataFrames and check if the column exists\n",
    "column_to_check = 'Dystopia_Residual'\n",
    "if all(column_to_check in df.columns for df in dataframes):\n",
    "    print(f\"Column '{column_to_check}' was successfully created in all DataFrames.\")\n",
    "else:\n",
    "    print(f\"Column '{column_to_check}' was not successfully created in all DataFrames.\")"
   ]
  },
  {
   "cell_type": "code",
   "execution_count": 64,
   "id": "2c422808",
   "metadata": {},
   "outputs": [
    {
     "name": "stdout",
     "output_type": "stream",
     "text": [
      "Column 'Country' was successfully created in all DataFrames.\n"
     ]
    }
   ],
   "source": [
    "## renaming Country Column Names\n",
    "string_to_replace = 'Country'\n",
    "\n",
    "# Loop to check and replace column names\n",
    "for idx, dataframe in enumerate(dataframes):\n",
    "    for col in dataframe.columns:\n",
    "        if string_to_replace in col:\n",
    "            new_col_name = 'Country'\n",
    "            dataframe.rename(columns={col: new_col_name}, inplace=True)\n",
    "\n",
    "\n",
    "\n",
    "# Loop through the DataFrames and check if the column exists\n",
    "column_to_check = 'Country'\n",
    "if all(column_to_check in df.columns for df in dataframes):\n",
    "    print(f\"Column '{column_to_check}' was successfully created in all DataFrames.\")\n",
    "else:\n",
    "    print(f\"Column '{column_to_check}' was not successfully created in all DataFrames.\")\n"
   ]
  },
  {
   "cell_type": "code",
   "execution_count": 65,
   "id": "c9035b33",
   "metadata": {},
   "outputs": [
    {
     "name": "stdout",
     "output_type": "stream",
     "text": [
      "Column 'Happiness' was successfully created in all DataFrames.\n"
     ]
    }
   ],
   "source": [
    "###### renaming Ladder Score and  Happiness Score in Happiness\n",
    "columns_to_rename = ['Ladder score', 'Happiness Score', 'Happiness.Score', 'Score', 'Happiness score']\n",
    "\n",
    "# New column name\n",
    "new_column_name = 'Happiness'\n",
    "\n",
    "# Loop to rename columns\n",
    "for idx, dataframe in enumerate(dataframes):\n",
    "    for old_column_name in columns_to_rename:\n",
    "        if old_column_name in dataframe.columns:\n",
    "            dataframe.rename(columns={old_column_name: new_column_name}, inplace=True)\n",
    "\n",
    "\n",
    "\n",
    "# Loop through the DataFrames and check if the column exists\n",
    "column_to_check = 'Happiness'\n",
    "if all(column_to_check in df.columns for df in dataframes):\n",
    "    print(f\"Column '{column_to_check}' was successfully created in all DataFrames.\")\n",
    "else:\n",
    "    print(f\"Column '{column_to_check}' was not successfully created in all DataFrames.\")"
   ]
  },
  {
   "cell_type": "code",
   "execution_count": 66,
   "id": "6771a2a7",
   "metadata": {},
   "outputs": [],
   "source": [
    "## creating the Happiness_Rank column\n",
    "columns_to_rename = ['RANK', 'Happiness.Rank', 'Overall rank', 'Happiness Rank']\n",
    "\n",
    "# New column name\n",
    "new_column_name = 'Happiness_Rank'\n",
    "\n",
    "# Loop to rename columns\n",
    "for idx, dataframe in enumerate(dataframes):\n",
    "    for old_column_name in columns_to_rename:\n",
    "        if old_column_name in dataframe.columns:\n",
    "            dataframe.rename(columns={old_column_name: new_column_name}, inplace=True)"
   ]
  },
  {
   "cell_type": "code",
   "execution_count": 67,
   "id": "99efee36",
   "metadata": {},
   "outputs": [
    {
     "name": "stdout",
     "output_type": "stream",
     "text": [
      "Column 'Happiness_Rank' was successfully created in all DataFrames.\n"
     ]
    }
   ],
   "source": [
    "new_column_name = 'Happiness_Rank'\n",
    "for idx, dataframe in enumerate(dataframes):\n",
    "    if 'Happiness_Rank' not in dataframe.columns:\n",
    "        dataframe[new_column_name] = dataframe.apply(lambda row: row.name + 1, axis=1)\n",
    "\n",
    "# Loop through the DataFrames and check if the column exists\n",
    "column_to_check = 'Happiness_Rank'\n",
    "if all(column_to_check in df.columns for df in dataframes):\n",
    "    print(f\"Column '{column_to_check}' was successfully created in all DataFrames.\")\n",
    "else:\n",
    "    print(f\"Column '{column_to_check}' was not successfully created in all DataFrames.\")"
   ]
  },
  {
   "cell_type": "code",
   "execution_count": 68,
   "id": "5716ed3c",
   "metadata": {},
   "outputs": [
    {
     "name": "stdout",
     "output_type": "stream",
     "text": [
      "Column 'Explained_by_Social_support' was successfully created in all DataFrames.\n"
     ]
    }
   ],
   "source": [
    "## creating Explained_by_Social_support\n",
    "new_column_name = 'Explained_by_Social_support'\n",
    "\n",
    "columns_to_rename = ['Social support', 'Explained by: Social support', 'Family']\n",
    "\n",
    "# Loop to rename columns\n",
    "for idx, dataframe in enumerate(dataframes):\n",
    "    for old_column_name in columns_to_rename:\n",
    "        if old_column_name in dataframe.columns:\n",
    "            dataframe.rename(columns={old_column_name: new_column_name}, inplace=True)\n",
    "\n",
    "\n",
    "\n",
    "# Loop through the DataFrames and check if the column exists\n",
    "column_to_check = 'Explained_by_Social_support'\n",
    "if all(column_to_check in df.columns for df in dataframes):\n",
    "    print(f\"Column '{column_to_check}' was successfully created in all DataFrames.\")\n",
    "else:\n",
    "    print(f\"Column '{column_to_check}' was not successfully created in all DataFrames.\")\n"
   ]
  },
  {
   "cell_type": "code",
   "execution_count": 69,
   "id": "eed63b35",
   "metadata": {},
   "outputs": [
    {
     "name": "stdout",
     "output_type": "stream",
     "text": [
      "Column 'Explained_by_Health' was successfully created in all DataFrames.\n"
     ]
    }
   ],
   "source": [
    "## creating Social support column\n",
    "new_column_name = 'Explained_by_Health'\n",
    "\n",
    "columns_to_rename = ['Health (Life Expectancy)', 'Health..Life.Expectancy.', 'Healthy life expectancy', 'Explained by: Healthy life expectancy']\n",
    "\n",
    "# Loop to rename columns\n",
    "for idx, dataframe in enumerate(dataframes):\n",
    "    for old_column_name in columns_to_rename:\n",
    "        if old_column_name in dataframe.columns:\n",
    "            dataframe.rename(columns={old_column_name: new_column_name}, inplace=True)\n",
    "\n",
    "# Loop through the DataFrames and check if the column exists\n",
    "column_to_check = 'Explained_by_Health'\n",
    "\n",
    "if all(column_to_check in df.columns for df in dataframes):\n",
    "    print(f\"Column '{column_to_check}' was successfully created in all DataFrames.\")\n",
    "else:\n",
    "    print(f\"Column '{column_to_check}' was not successfully created in all DataFrames.\")"
   ]
  },
  {
   "cell_type": "code",
   "execution_count": 70,
   "id": "0626841c",
   "metadata": {},
   "outputs": [
    {
     "name": "stdout",
     "output_type": "stream",
     "text": [
      "Column 'Explained_by_Generosity' was successfully created in all DataFrames.\n"
     ]
    }
   ],
   "source": [
    "## creating Explained_by_Generosity column\n",
    "neuer_spaltenname = 'Explained_by_Generosity'\n",
    "\n",
    "spalten_zu_umbenennen = ['Generosity', 'Explained by: Generosity']\n",
    "\n",
    "# Schleife zum Umbenennen der Spalten\n",
    "for idx, dataframe in enumerate(dataframes):\n",
    "    for alter_spaltenname in spalten_zu_umbenennen:\n",
    "        if alter_spaltenname in dataframe.columns:\n",
    "            dataframe.rename(columns={alter_spaltenname: neuer_spaltenname}, inplace=True)\n",
    "\n",
    "# Schleife durch die DataFrames und überprüfe, ob die Spalte vorhanden ist\n",
    "column_to_check = 'Explained_by_Generosity'  \n",
    "\n",
    "if all(column_to_check in df.columns for df in dataframes):\n",
    "    print(f\"Column '{column_to_check}' was successfully created in all DataFrames.\")\n",
    "else:\n",
    "    print(f\"Column '{column_to_check}' was not successfully created in all DataFrames.\")"
   ]
  },
  {
   "cell_type": "code",
   "execution_count": 71,
   "id": "1eee0109",
   "metadata": {},
   "outputs": [
    {
     "name": "stdout",
     "output_type": "stream",
     "text": [
      "Column 'Explained_by_Freedom' was successfully created in all DataFrames.\n"
     ]
    }
   ],
   "source": [
    "## creating Explained_by_Freedom column\n",
    "new_column_name = 'Explained_by_Freedom'\n",
    "\n",
    "columns_to_rename = ['Explained by: Freedom to make life choices', 'Freedom', 'Freedom to make life choices', 'Explained by: Freedom to make life choices']\n",
    "\n",
    "# Loop to rename columns\n",
    "for idx, dataframe in enumerate(dataframes):\n",
    "    for old_column_name in columns_to_rename:\n",
    "        if old_column_name in dataframe.columns:\n",
    "            dataframe.rename(columns={old_column_name: new_column_name}, inplace=True)\n",
    "\n",
    "             \n",
    "\n",
    "# Loop through the DataFrames and check if the column exists\n",
    "column_to_check = 'Explained_by_Freedom' \n",
    "if all(column_to_check in df.columns for df in dataframes):\n",
    "    print(f\"Column '{column_to_check}' was successfully created in all DataFrames.\")\n",
    "else:\n",
    "    print(f\"Column '{column_to_check}' was not successfully created in all DataFrames.\")\n"
   ]
  },
  {
   "cell_type": "code",
   "execution_count": 72,
   "id": "b08d7ef2",
   "metadata": {},
   "outputs": [
    {
     "name": "stdout",
     "output_type": "stream",
     "text": [
      "Column 'Explained_by_GDP' was successfully created in all DataFrames.\n"
     ]
    }
   ],
   "source": [
    "## creating Explained_by_GDP column\n",
    "new_column_name = 'Explained_by_GDP'\n",
    "\n",
    "columns_to_rename = ['Explained by: GDP per capita', 'Economy (GDP per Capita)', 'Freedom', 'Economy..GDP.per.Capita.', 'GDP per capita', 'Explained by: Log GDP per capita']\n",
    "\n",
    "# Loop to rename columns\n",
    "for idx, dataframe in enumerate(dataframes):\n",
    "    for old_column_name in columns_to_rename:\n",
    "        if old_column_name in dataframe.columns:\n",
    "            dataframe.rename(columns={old_column_name: new_column_name}, inplace=True)\n",
    "          \n",
    "# Loop through the DataFrames and check if the column exists\n",
    "\n",
    "column_to_check = 'Explained_by_GDP'  \n",
    "if all(column_to_check in df.columns for df in dataframes):\n",
    "    print(f\"Column '{column_to_check}' was successfully created in all DataFrames.\")\n",
    "else:\n",
    "    print(f\"Column '{column_to_check}' was not successfully created in all DataFrames.\")\n"
   ]
  },
  {
   "cell_type": "code",
   "execution_count": 73,
   "id": "c9469ebb",
   "metadata": {},
   "outputs": [
    {
     "name": "stdout",
     "output_type": "stream",
     "text": [
      "Column 'Explained_by_Trust' was successfully created in all DataFrames.\n"
     ]
    }
   ],
   "source": [
    "## renaming Explained_by_Trust\n",
    "\n",
    "for df in dataframes_2:\n",
    "    new_column_name = 'Explained_by_Trust'\n",
    "    df.rename(columns={'Explained by: Perceptions of corruption': new_column_name}, inplace=True)\n",
    "for df in dataframes_3:\n",
    "    new_column_name = 'Explained_by_Trust'\n",
    "    df.rename(columns={'Perceptions of corruption': new_column_name}, inplace=True)\n",
    "for df in dataframes_4:\n",
    "    new_column_name = 'Explained_by_Trust'\n",
    "    df.rename(columns={'Trust (Government Corruption)': new_column_name}, inplace=True)\n",
    "new_column_name = 'Explained_by_Trust'\n",
    "df_17.rename(columns={'Trust..Government.Corruption.': new_column_name}, inplace=True)\n",
    "\n",
    "# Loop through the DataFrames and check if the column exists\n",
    "\n",
    "column_to_check = 'Explained_by_Trust'    \n",
    "if all(column_to_check in df.columns for df in dataframes):\n",
    "    print(f\"Column '{column_to_check}' was successfully created in all DataFrames.\")\n",
    "else:\n",
    "    print(f\"Column '{column_to_check}' was not successfully created in all DataFrames.\")\n"
   ]
  },
  {
   "cell_type": "code",
   "execution_count": 74,
   "id": "5e92cca4",
   "metadata": {},
   "outputs": [
    {
     "name": "stdout",
     "output_type": "stream",
     "text": [
      "Column 'Region' was successfully created in all DataFrames.\n"
     ]
    }
   ],
   "source": [
    "## Get regions for all Countries\n",
    "\n",
    "#get regions from dictionary\n",
    "with open(\"regions.pkl\", 'rb') as data:\n",
    "    regions = pickle.load(data)  \n",
    "for df in dataframes:\n",
    "    # Use the \"map\" function to update the \"Region\" column\n",
    "    df['Region'] = df['Country'].map(regions)    \n",
    "\n",
    "for df in dataframes:\n",
    "    # Check if \"Region\" is in the DataFrame's columns\n",
    "    if \"Region\" not in df.columns:\n",
    "        # If not, add \"Region\" and fill it with values from the dictionary\n",
    "        df[\"Region\"] = df[\"Country\"].map(region_dict)\n",
    "        \n",
    "# Loop through the DataFrames and check if the column exists\n",
    "\n",
    "column_to_check = \"Region\"    \n",
    "if all(column_to_check in df.columns for df in dataframes):\n",
    "    print(f\"Column '{column_to_check}' was successfully created in all DataFrames.\")\n",
    "else:\n",
    "    print(f\"Column '{column_to_check}' was not successfully created in all DataFrames.\")"
   ]
  },
  {
   "cell_type": "code",
   "execution_count": 78,
   "id": "508b4f35",
   "metadata": {},
   "outputs": [
    {
     "name": "stdout",
     "output_type": "stream",
     "text": [
      "There are no duplicated column names in the dataframes.\n"
     ]
    }
   ],
   "source": [
    "# Find duplicate column names\n",
    "def find_duplicate_columns(df):\n",
    "    duplicated_columns = df.columns[df.columns.duplicated()].tolist()\n",
    "    return duplicated_columns\n",
    "\n",
    "duplicated = any(find_duplicate_columns(df) for df in dataframes)\n",
    "\n",
    "if duplicated:\n",
    "    print(\"There are duplicated column names in the dataframes.\")\n",
    "else:\n",
    "    print(\"There are no duplicated column names in the dataframes.\")"
   ]
  },
  {
   "cell_type": "code",
   "execution_count": 76,
   "id": "5bd46201",
   "metadata": {},
   "outputs": [],
   "source": [
    "#unify decimal seperators\n",
    "def unify_decimal_separator(df, column):\n",
    "    # Check if the column is not of string type (e.g., float)\n",
    "    if df[column].dtype != 'string':\n",
    "        # Convert the column to string type\n",
    "        df[column] = df[column].astype(str)\n",
    "    \n",
    "    # Replace ',' with '.' and convert to float\n",
    "    df[column] = df[column].str.replace(',', '.', regex=True).astype(float)\n",
    "\n",
    "columns_to_process = ['Happiness', 'Explained_by_Trust', 'Explained_by_GDP', 'Explained_by_Freedom', 'Explained_by_Generosity', 'Explained_by_Health', 'Explained_by_Social_support', 'Dystopia_Residual']\n",
    "\n",
    "for column in columns_to_process:\n",
    "    unify_decimal_separator(df_22, column)"
   ]
  },
  {
   "cell_type": "code",
   "execution_count": 79,
   "id": "a802e55f",
   "metadata": {},
   "outputs": [],
   "source": [
    "## unified column to merge dataframe\n",
    "selected_columns = ['Year', 'Country', 'Region', 'Happiness_Rank', 'Happiness',\n",
    "                    'Explained_by_Trust', 'Explained_by_GDP', 'Explained_by_Freedom',\n",
    "                    'Explained_by_Generosity', 'Explained_by_Health', 'Explained_by_Social_support', \n",
    "                    'Dystopia_Residual']\n",
    "selected_dataframes = []\n",
    "\n",
    "# Loop through the DataFrames and select the desired columns\n",
    "for df in dataframes:\n",
    "    df = df[selected_columns]  # Select the columns\n",
    "    selected_dataframes.append(df)\n",
    "\n",
    "# Reset the index of the DataFrames\n",
    "for df in selected_dataframes:\n",
    "    df.reset_index(drop=True, inplace=True)\n",
    "\n",
    "# Use pd.concat() to combine the DataFrames row-wise\n",
    "merged_df = pd.concat(selected_dataframes, axis=0, ignore_index=True)"
   ]
  },
  {
   "cell_type": "code",
   "execution_count": 80,
   "id": "3a2fc50d",
   "metadata": {},
   "outputs": [],
   "source": [
    "##save new dataframe\n",
    "merged_df.to_csv('merged_data.csv', index=False) "
   ]
  }
 ],
 "metadata": {
  "kernelspec": {
   "display_name": "Python 3 (ipykernel)",
   "language": "python",
   "name": "python3"
  },
  "language_info": {
   "codemirror_mode": {
    "name": "ipython",
    "version": 3
   },
   "file_extension": ".py",
   "mimetype": "text/x-python",
   "name": "python",
   "nbconvert_exporter": "python",
   "pygments_lexer": "ipython3",
   "version": "3.11.5"
  }
 },
 "nbformat": 4,
 "nbformat_minor": 5
}
