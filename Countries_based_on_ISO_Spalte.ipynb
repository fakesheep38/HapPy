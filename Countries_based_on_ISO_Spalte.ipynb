{
 "cells": [
  {
   "cell_type": "code",
   "execution_count": 1,
   "id": "d204ea0a-eadf-49ed-880f-76ee69195324",
   "metadata": {},
   "outputs": [],
   "source": [
    "import pandas as pd\n",
    "import numpy as np\n",
    "import pycountry\n"
   ]
  },
  {
   "cell_type": "code",
   "execution_count": 2,
   "id": "7f54085c-4dd7-49ce-bdc1-ec45168b8ea2",
   "metadata": {
    "tags": []
   },
   "outputs": [
    {
     "data": {
      "text/html": [
       "<div>\n",
       "<style scoped>\n",
       "    .dataframe tbody tr th:only-of-type {\n",
       "        vertical-align: middle;\n",
       "    }\n",
       "\n",
       "    .dataframe tbody tr th {\n",
       "        vertical-align: top;\n",
       "    }\n",
       "\n",
       "    .dataframe thead th {\n",
       "        text-align: right;\n",
       "    }\n",
       "</style>\n",
       "<table border=\"1\" class=\"dataframe\">\n",
       "  <thead>\n",
       "    <tr style=\"text-align: right;\">\n",
       "      <th></th>\n",
       "      <th>Year</th>\n",
       "      <th>Country</th>\n",
       "      <th>Region</th>\n",
       "      <th>Happiness_Rank</th>\n",
       "      <th>Happiness</th>\n",
       "      <th>Explained_by_Trust</th>\n",
       "      <th>Explained_by_GDP</th>\n",
       "      <th>Explained_by_Freedom</th>\n",
       "      <th>Explained_by_Generosity</th>\n",
       "      <th>Explained_by_Health</th>\n",
       "      <th>Explained_by_Social_support</th>\n",
       "      <th>Dystopia_Residual</th>\n",
       "      <th>ISO_Code</th>\n",
       "      <th>Region_Code</th>\n",
       "    </tr>\n",
       "  </thead>\n",
       "  <tbody>\n",
       "    <tr>\n",
       "      <th>0</th>\n",
       "      <td>2023</td>\n",
       "      <td>Finland</td>\n",
       "      <td>Western Europe</td>\n",
       "      <td>1</td>\n",
       "      <td>7.804</td>\n",
       "      <td>0.535</td>\n",
       "      <td>1.888</td>\n",
       "      <td>0.772</td>\n",
       "      <td>0.126</td>\n",
       "      <td>0.535</td>\n",
       "      <td>1.585</td>\n",
       "      <td>2.363</td>\n",
       "      <td>FI</td>\n",
       "      <td>WE</td>\n",
       "    </tr>\n",
       "    <tr>\n",
       "      <th>1</th>\n",
       "      <td>2023</td>\n",
       "      <td>Denmark</td>\n",
       "      <td>Western Europe</td>\n",
       "      <td>2</td>\n",
       "      <td>7.586</td>\n",
       "      <td>0.525</td>\n",
       "      <td>1.949</td>\n",
       "      <td>0.734</td>\n",
       "      <td>0.208</td>\n",
       "      <td>0.537</td>\n",
       "      <td>1.548</td>\n",
       "      <td>2.084</td>\n",
       "      <td>DK</td>\n",
       "      <td>WE</td>\n",
       "    </tr>\n",
       "    <tr>\n",
       "      <th>2</th>\n",
       "      <td>2023</td>\n",
       "      <td>Iceland</td>\n",
       "      <td>Western Europe</td>\n",
       "      <td>3</td>\n",
       "      <td>7.530</td>\n",
       "      <td>0.187</td>\n",
       "      <td>1.926</td>\n",
       "      <td>0.738</td>\n",
       "      <td>0.250</td>\n",
       "      <td>0.559</td>\n",
       "      <td>1.620</td>\n",
       "      <td>2.250</td>\n",
       "      <td>IS</td>\n",
       "      <td>WE</td>\n",
       "    </tr>\n",
       "    <tr>\n",
       "      <th>3</th>\n",
       "      <td>2023</td>\n",
       "      <td>Israel</td>\n",
       "      <td>Middle East and Northern Africa</td>\n",
       "      <td>4</td>\n",
       "      <td>7.473</td>\n",
       "      <td>0.158</td>\n",
       "      <td>1.833</td>\n",
       "      <td>0.569</td>\n",
       "      <td>0.124</td>\n",
       "      <td>0.577</td>\n",
       "      <td>1.521</td>\n",
       "      <td>2.691</td>\n",
       "      <td>IL</td>\n",
       "      <td>MENAF</td>\n",
       "    </tr>\n",
       "    <tr>\n",
       "      <th>4</th>\n",
       "      <td>2023</td>\n",
       "      <td>Netherlands</td>\n",
       "      <td>Western Europe</td>\n",
       "      <td>5</td>\n",
       "      <td>7.403</td>\n",
       "      <td>0.394</td>\n",
       "      <td>1.942</td>\n",
       "      <td>0.672</td>\n",
       "      <td>0.251</td>\n",
       "      <td>0.545</td>\n",
       "      <td>1.488</td>\n",
       "      <td>2.110</td>\n",
       "      <td>NL</td>\n",
       "      <td>WE</td>\n",
       "    </tr>\n",
       "  </tbody>\n",
       "</table>\n",
       "</div>"
      ],
      "text/plain": [
       "   Year      Country                           Region  Happiness_Rank  \\\n",
       "0  2023      Finland                   Western Europe               1   \n",
       "1  2023      Denmark                   Western Europe               2   \n",
       "2  2023      Iceland                   Western Europe               3   \n",
       "3  2023       Israel  Middle East and Northern Africa               4   \n",
       "4  2023  Netherlands                   Western Europe               5   \n",
       "\n",
       "   Happiness  Explained_by_Trust  Explained_by_GDP  Explained_by_Freedom  \\\n",
       "0      7.804               0.535             1.888                 0.772   \n",
       "1      7.586               0.525             1.949                 0.734   \n",
       "2      7.530               0.187             1.926                 0.738   \n",
       "3      7.473               0.158             1.833                 0.569   \n",
       "4      7.403               0.394             1.942                 0.672   \n",
       "\n",
       "   Explained_by_Generosity  Explained_by_Health  Explained_by_Social_support  \\\n",
       "0                    0.126                0.535                        1.585   \n",
       "1                    0.208                0.537                        1.548   \n",
       "2                    0.250                0.559                        1.620   \n",
       "3                    0.124                0.577                        1.521   \n",
       "4                    0.251                0.545                        1.488   \n",
       "\n",
       "   Dystopia_Residual ISO_Code Region_Code  \n",
       "0              2.363       FI          WE  \n",
       "1              2.084       DK          WE  \n",
       "2              2.250       IS          WE  \n",
       "3              2.691       IL       MENAF  \n",
       "4              2.110       NL          WE  "
      ]
     },
     "execution_count": 2,
     "metadata": {},
     "output_type": "execute_result"
    }
   ],
   "source": [
    "df=pd.read_csv('merged_data_6.csv')\n",
    "df.head()"
   ]
  },
  {
   "cell_type": "code",
   "execution_count": 3,
   "id": "4238ad32-34a6-4396-932d-c1a5ee06f8b1",
   "metadata": {
    "tags": []
   },
   "outputs": [
    {
     "name": "stdout",
     "output_type": "stream",
     "text": [
      "Number of unique country entries: 198\n"
     ]
    }
   ],
   "source": [
    "unique_country_count = df['Country'].nunique()\n",
    "print(\"Number of unique country entries:\", unique_country_count)"
   ]
  },
  {
   "cell_type": "code",
   "execution_count": 4,
   "id": "5ad8ce90-56cc-428f-b45d-5d5f3d2297da",
   "metadata": {
    "tags": []
   },
   "outputs": [
    {
     "name": "stdout",
     "output_type": "stream",
     "text": [
      "Number of unique ISO entries: 163\n"
     ]
    }
   ],
   "source": [
    "unique_ISO_count=df['ISO_Code'].nunique()\n",
    "print(\"Number of unique ISO entries:\", unique_ISO_count)"
   ]
  },
  {
   "cell_type": "code",
   "execution_count": 5,
   "id": "a849414b-1478-4847-8c24-c6251c84ccb1",
   "metadata": {
    "tags": []
   },
   "outputs": [
    {
     "name": "stdout",
     "output_type": "stream",
     "text": [
      "     ISO_Code Simplified_Country\n",
      "0          FI            Finland\n",
      "1          DK            Denmark\n",
      "2          IS            Iceland\n",
      "3          IL             Israel\n",
      "4          NL        Netherlands\n",
      "...       ...                ...\n",
      "1363       RW             Rwanda\n",
      "1364       BJ              Benin\n",
      "1365       SY              Syria\n",
      "1366       BI            Burundi\n",
      "1367       TG               Togo\n",
      "\n",
      "[1368 rows x 2 columns]\n"
     ]
    }
   ],
   "source": [
    "# create mapping of ISO codes to simplest country names\n",
    "iso_to_simplified_country = df.groupby('ISO_Code')['Country'].min().to_dict()\n",
    "\n",
    "df['Simplified_Country'] = df['ISO_Code'].map(iso_to_simplified_country)\n",
    "\n",
    "# double checking myself / verify the new column\n",
    "print(df[['ISO_Code', 'Simplified_Country']])"
   ]
  },
  {
   "cell_type": "code",
   "execution_count": 6,
   "id": "1089a807-7ed1-452d-816a-320929eb8888",
   "metadata": {
    "tags": []
   },
   "outputs": [
    {
     "name": "stdout",
     "output_type": "stream",
     "text": [
      "Number of unique simplified country entries: 163\n"
     ]
    }
   ],
   "source": [
    "unique_scountry_count = df['Simplified_Country'].nunique()\n",
    "print(\"Number of unique simplified country entries:\", unique_scountry_count)"
   ]
  },
  {
   "cell_type": "code",
   "execution_count": 7,
   "id": "5a377f23-33fb-40f1-a76e-b6b181d2bf20",
   "metadata": {
    "tags": []
   },
   "outputs": [
    {
     "name": "stdout",
     "output_type": "stream",
     "text": [
      "Number of unique ISO entries: 163\n"
     ]
    }
   ],
   "source": [
    "unique_ISO_count=df['ISO_Code'].nunique()\n",
    "print(\"Number of unique ISO entries:\", unique_ISO_count)"
   ]
  },
  {
   "cell_type": "code",
   "execution_count": 8,
   "id": "b63557d5-0c50-45c6-acf1-13886d6c57df",
   "metadata": {
    "tags": []
   },
   "outputs": [],
   "source": [
    "# Replacing the original 'Country' column with the new 'Simplified_Country' column after verifiction und double check\n",
    "df['Country'] = df['Simplified_Country']"
   ]
  },
  {
   "cell_type": "code",
   "execution_count": 9,
   "id": "1ed8f3fa-29fc-4dfa-82ed-51ff9968c636",
   "metadata": {
    "tags": []
   },
   "outputs": [],
   "source": [
    "# Drop the 'Simplified_Country' column as we no longer need it\n",
    "df.drop(columns=['Simplified_Country'], inplace=True)"
   ]
  },
  {
   "cell_type": "code",
   "execution_count": 10,
   "id": "18fbf1c1-50bc-4555-bbe3-1718b1ac7819",
   "metadata": {
    "tags": []
   },
   "outputs": [
    {
     "data": {
      "text/html": [
       "<div>\n",
       "<style scoped>\n",
       "    .dataframe tbody tr th:only-of-type {\n",
       "        vertical-align: middle;\n",
       "    }\n",
       "\n",
       "    .dataframe tbody tr th {\n",
       "        vertical-align: top;\n",
       "    }\n",
       "\n",
       "    .dataframe thead th {\n",
       "        text-align: right;\n",
       "    }\n",
       "</style>\n",
       "<table border=\"1\" class=\"dataframe\">\n",
       "  <thead>\n",
       "    <tr style=\"text-align: right;\">\n",
       "      <th></th>\n",
       "      <th>Year</th>\n",
       "      <th>Country</th>\n",
       "      <th>Region</th>\n",
       "      <th>Happiness_Rank</th>\n",
       "      <th>Happiness</th>\n",
       "      <th>Explained_by_Trust</th>\n",
       "      <th>Explained_by_GDP</th>\n",
       "      <th>Explained_by_Freedom</th>\n",
       "      <th>Explained_by_Generosity</th>\n",
       "      <th>Explained_by_Health</th>\n",
       "      <th>Explained_by_Social_support</th>\n",
       "      <th>Dystopia_Residual</th>\n",
       "      <th>ISO_Code</th>\n",
       "      <th>Region_Code</th>\n",
       "    </tr>\n",
       "  </thead>\n",
       "  <tbody>\n",
       "    <tr>\n",
       "      <th>0</th>\n",
       "      <td>2023</td>\n",
       "      <td>Finland</td>\n",
       "      <td>Western Europe</td>\n",
       "      <td>1</td>\n",
       "      <td>7.804</td>\n",
       "      <td>0.535</td>\n",
       "      <td>1.888</td>\n",
       "      <td>0.772</td>\n",
       "      <td>0.126</td>\n",
       "      <td>0.535</td>\n",
       "      <td>1.585</td>\n",
       "      <td>2.363</td>\n",
       "      <td>FI</td>\n",
       "      <td>WE</td>\n",
       "    </tr>\n",
       "    <tr>\n",
       "      <th>1</th>\n",
       "      <td>2023</td>\n",
       "      <td>Denmark</td>\n",
       "      <td>Western Europe</td>\n",
       "      <td>2</td>\n",
       "      <td>7.586</td>\n",
       "      <td>0.525</td>\n",
       "      <td>1.949</td>\n",
       "      <td>0.734</td>\n",
       "      <td>0.208</td>\n",
       "      <td>0.537</td>\n",
       "      <td>1.548</td>\n",
       "      <td>2.084</td>\n",
       "      <td>DK</td>\n",
       "      <td>WE</td>\n",
       "    </tr>\n",
       "    <tr>\n",
       "      <th>2</th>\n",
       "      <td>2023</td>\n",
       "      <td>Iceland</td>\n",
       "      <td>Western Europe</td>\n",
       "      <td>3</td>\n",
       "      <td>7.530</td>\n",
       "      <td>0.187</td>\n",
       "      <td>1.926</td>\n",
       "      <td>0.738</td>\n",
       "      <td>0.250</td>\n",
       "      <td>0.559</td>\n",
       "      <td>1.620</td>\n",
       "      <td>2.250</td>\n",
       "      <td>IS</td>\n",
       "      <td>WE</td>\n",
       "    </tr>\n",
       "    <tr>\n",
       "      <th>3</th>\n",
       "      <td>2023</td>\n",
       "      <td>Israel</td>\n",
       "      <td>Middle East and Northern Africa</td>\n",
       "      <td>4</td>\n",
       "      <td>7.473</td>\n",
       "      <td>0.158</td>\n",
       "      <td>1.833</td>\n",
       "      <td>0.569</td>\n",
       "      <td>0.124</td>\n",
       "      <td>0.577</td>\n",
       "      <td>1.521</td>\n",
       "      <td>2.691</td>\n",
       "      <td>IL</td>\n",
       "      <td>MENAF</td>\n",
       "    </tr>\n",
       "    <tr>\n",
       "      <th>4</th>\n",
       "      <td>2023</td>\n",
       "      <td>Netherlands</td>\n",
       "      <td>Western Europe</td>\n",
       "      <td>5</td>\n",
       "      <td>7.403</td>\n",
       "      <td>0.394</td>\n",
       "      <td>1.942</td>\n",
       "      <td>0.672</td>\n",
       "      <td>0.251</td>\n",
       "      <td>0.545</td>\n",
       "      <td>1.488</td>\n",
       "      <td>2.110</td>\n",
       "      <td>NL</td>\n",
       "      <td>WE</td>\n",
       "    </tr>\n",
       "  </tbody>\n",
       "</table>\n",
       "</div>"
      ],
      "text/plain": [
       "   Year      Country                           Region  Happiness_Rank  \\\n",
       "0  2023      Finland                   Western Europe               1   \n",
       "1  2023      Denmark                   Western Europe               2   \n",
       "2  2023      Iceland                   Western Europe               3   \n",
       "3  2023       Israel  Middle East and Northern Africa               4   \n",
       "4  2023  Netherlands                   Western Europe               5   \n",
       "\n",
       "   Happiness  Explained_by_Trust  Explained_by_GDP  Explained_by_Freedom  \\\n",
       "0      7.804               0.535             1.888                 0.772   \n",
       "1      7.586               0.525             1.949                 0.734   \n",
       "2      7.530               0.187             1.926                 0.738   \n",
       "3      7.473               0.158             1.833                 0.569   \n",
       "4      7.403               0.394             1.942                 0.672   \n",
       "\n",
       "   Explained_by_Generosity  Explained_by_Health  Explained_by_Social_support  \\\n",
       "0                    0.126                0.535                        1.585   \n",
       "1                    0.208                0.537                        1.548   \n",
       "2                    0.250                0.559                        1.620   \n",
       "3                    0.124                0.577                        1.521   \n",
       "4                    0.251                0.545                        1.488   \n",
       "\n",
       "   Dystopia_Residual ISO_Code Region_Code  \n",
       "0              2.363       FI          WE  \n",
       "1              2.084       DK          WE  \n",
       "2              2.250       IS          WE  \n",
       "3              2.691       IL       MENAF  \n",
       "4              2.110       NL          WE  "
      ]
     },
     "execution_count": 10,
     "metadata": {},
     "output_type": "execute_result"
    }
   ],
   "source": [
    "df.head()"
   ]
  },
  {
   "cell_type": "code",
   "execution_count": 11,
   "id": "440dea5d-8cbf-4f0b-b13c-c3228d27e277",
   "metadata": {
    "tags": []
   },
   "outputs": [],
   "source": [
    "df.to_csv('merged_data_unified_country_names.csv', index=False)"
   ]
  },
  {
   "cell_type": "code",
   "execution_count": null,
   "id": "db2e14d1-6a02-404c-a6a6-8c16db8f2dc5",
   "metadata": {},
   "outputs": [],
   "source": []
  }
 ],
 "metadata": {
  "kernelspec": {
   "display_name": "Python 3 (ipykernel)",
   "language": "python",
   "name": "python3"
  },
  "language_info": {
   "codemirror_mode": {
    "name": "ipython",
    "version": 3
   },
   "file_extension": ".py",
   "mimetype": "text/x-python",
   "name": "python",
   "nbconvert_exporter": "python",
   "pygments_lexer": "ipython3",
   "version": "3.11.5"
  }
 },
 "nbformat": 4,
 "nbformat_minor": 5
}
