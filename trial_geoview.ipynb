{
 "cells": [
  {
   "cell_type": "code",
   "execution_count": 1,
   "id": "c9923707",
   "metadata": {
    "tags": []
   },
   "outputs": [],
   "source": [
    "############World Map\n",
    "import pandas as pd"
   ]
  },
  {
   "cell_type": "code",
   "execution_count": null,
   "id": "241cffda",
   "metadata": {},
   "outputs": [],
   "source": []
  },
  {
   "cell_type": "code",
   "execution_count": 3,
   "id": "4aec756e-1235-4ace-acbb-60ae0fe1e08d",
   "metadata": {
    "tags": []
   },
   "outputs": [
    {
     "name": "stderr",
     "output_type": "stream",
     "text": [
      "C:\\Users\\User\\anaconda3\\Lib\\site-packages\\paramiko\\transport.py:219: CryptographyDeprecationWarning: Blowfish has been deprecated\n",
      "  \"class\": algorithms.Blowfish,\n",
      "C:\\Users\\User\\anaconda3\\Lib\\site-packages\\geoviews\\operation\\__init__.py:14: HoloviewsDeprecationWarning: 'ResamplingOperation' is deprecated and will be removed in version 1.18, use 'ResampleOperation2D' instead.\n",
      "  from holoviews.operation.datashader import (\n"
     ]
    }
   ],
   "source": [
    "import geoviews as gv"
   ]
  },
  {
   "cell_type": "code",
   "execution_count": 4,
   "id": "388b9203-8626-4d15-bf97-d41fc54075e4",
   "metadata": {
    "tags": []
   },
   "outputs": [],
   "source": [
    "from bokeh.plotting import show"
   ]
  },
  {
   "cell_type": "code",
   "execution_count": 5,
   "id": "0c756cfa-34da-45c0-9943-b6da04d00447",
   "metadata": {
    "tags": []
   },
   "outputs": [],
   "source": [
    "from bokeh.models import PrintfTickFormatter"
   ]
  },
  {
   "cell_type": "code",
   "execution_count": 6,
   "id": "140b17ee-bf8f-4626-8525-d8d8b1a0a500",
   "metadata": {
    "tags": []
   },
   "outputs": [
    {
     "ename": "ModuleNotFoundError",
     "evalue": "No module named 'census_read_data'",
     "output_type": "error",
     "traceback": [
      "\u001b[1;31m---------------------------------------------------------------------------\u001b[0m",
      "\u001b[1;31mModuleNotFoundError\u001b[0m                       Traceback (most recent call last)",
      "Cell \u001b[1;32mIn[6], line 1\u001b[0m\n\u001b[1;32m----> 1\u001b[0m \u001b[38;5;28;01mimport\u001b[39;00m \u001b[38;5;21;01mcensus_read_data\u001b[39;00m \u001b[38;5;28;01mas\u001b[39;00m \u001b[38;5;21;01mcrd\u001b[39;00m\n",
      "\u001b[1;31mModuleNotFoundError\u001b[0m: No module named 'census_read_data'"
     ]
    }
   ],
   "source": [
    "import census_read_data as crd"
   ]
  },
  {
   "cell_type": "code",
   "execution_count": null,
   "id": "0ec632f0-0db4-4629-af1a-c6aa80b7ed6c",
   "metadata": {},
   "outputs": [],
   "source": [
    "# Get Census Merged Ward and Local Authority Data\n",
    "geography = crd.read_geography()\n",
    "locationcol = \"GeographyCode\"\n",
    "namecol = \"Name\"\n",
    "\n",
    "# Get LAD GeoPandas DataFrame\n",
    "london_lads_gdf = crg.read_london_lad_geopandas()"
   ]
  },
  {
   "cell_type": "code",
   "execution_count": null,
   "id": "7823cd3a",
   "metadata": {},
   "outputs": [],
   "source": [
    "# Get Census data index and its table_names\n",
    "index = crd.read_index()\n",
    "table_names = crd.get_table_names(index)\n",
    "\n",
    "# Get first data table\n",
    "table_name = table_names[0][0]\n",
    "tdf = crd.read_table(table_name)"
   ]
  },
  {
   "cell_type": "code",
   "execution_count": null,
   "id": "fa5311d6-9419-4be0-8468-8b951b3fef14",
   "metadata": {},
   "outputs": [],
   "source": [
    "# Get first row data item (all categories All)\n",
    "datacol = table_name + tdf.iloc[0, -1]\n",
    "\n",
    "# Read the data table (all data items) and merge with the geography names\n",
    "df = crd.read_data(table_name)\n",
    "# Add names to data\n",
    "df = pd.merge(df, geography, on=locationcol)"
   ]
  },
  {
   "cell_type": "code",
   "execution_count": null,
   "id": "0aa0ac2b-c21d-4f3d-85c9-6d164d71e9a9",
   "metadata": {},
   "outputs": [],
   "source": [
    "# Merge the data table (all data items) with the LAD geo data\n",
    "gdf = london_lads_gdf.merge(df, left_on='lad11cd', right_on=locationcol)\n",
    "\n",
    "# Map data by LAD\n",
    "# Geoviews\n",
    "\n",
    "title = datacol + \" by Local Authority\""
   ]
  },
  {
   "cell_type": "code",
   "execution_count": null,
   "id": "7886789f-a156-4f7b-bf41-e6b226196f6a",
   "metadata": {},
   "outputs": [],
   "source": [
    "\n",
    "map = gv.Polygons(gdf, vdims=[locationcol, namecol, datacol])\n",
    "map.opts(title=title,\n",
    "         width=900, height=600,\n",
    "         toolbar=None,\n",
    "         tools=['hover'],\n",
    "         aspect='equal',\n",
    "         color=gv.dim(datacol),\n",
    "         colorbar=True,\n",
    "         cmap='Viridis',\n",
    "         colorbar_opts={'formatter': PrintfTickFormatter(format='%f')},\n",
    "         line_color='black', line_width=0.25, fill_alpha=1,\n",
    "         xaxis=None,\n",
    "         yaxis=None)\n",
    "\n",
    "show(gv.render(map))"
   ]
  }
 ],
 "metadata": {
  "kernelspec": {
   "display_name": "Python 3 (ipykernel)",
   "language": "python",
   "name": "python3"
  },
  "language_info": {
   "codemirror_mode": {
    "name": "ipython",
    "version": 3
   },
   "file_extension": ".py",
   "mimetype": "text/x-python",
   "name": "python",
   "nbconvert_exporter": "python",
   "pygments_lexer": "ipython3",
   "version": "3.11.5"
  }
 },
 "nbformat": 4,
 "nbformat_minor": 5
}
