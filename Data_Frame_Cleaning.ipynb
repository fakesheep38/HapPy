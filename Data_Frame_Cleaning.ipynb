{
 "cells": [
  {
   "cell_type": "code",
   "execution_count": 2,
   "id": "35d5c8e0",
   "metadata": {},
   "outputs": [],
   "source": [
    "import pandas as pd\n",
    "import plotly.graph_objects as go\n",
    "import pickle"
   ]
  },
  {
   "cell_type": "code",
   "execution_count": 3,
   "id": "aa93f92c",
   "metadata": {},
   "outputs": [
    {
     "data": {
      "text/html": [
       "<div>\n",
       "<style scoped>\n",
       "    .dataframe tbody tr th:only-of-type {\n",
       "        vertical-align: middle;\n",
       "    }\n",
       "\n",
       "    .dataframe tbody tr th {\n",
       "        vertical-align: top;\n",
       "    }\n",
       "\n",
       "    .dataframe thead th {\n",
       "        text-align: right;\n",
       "    }\n",
       "</style>\n",
       "<table border=\"1\" class=\"dataframe\">\n",
       "  <thead>\n",
       "    <tr style=\"text-align: right;\">\n",
       "      <th></th>\n",
       "      <th>Long</th>\n",
       "      <th>Lat</th>\n",
       "      <th>Country</th>\n",
       "    </tr>\n",
       "  </thead>\n",
       "  <tbody>\n",
       "    <tr>\n",
       "      <th>0</th>\n",
       "      <td>67.709953</td>\n",
       "      <td>33.93911</td>\n",
       "      <td>Afghanistan</td>\n",
       "    </tr>\n",
       "    <tr>\n",
       "      <th>1</th>\n",
       "      <td>20.168300</td>\n",
       "      <td>41.15330</td>\n",
       "      <td>Albania</td>\n",
       "    </tr>\n",
       "    <tr>\n",
       "      <th>2</th>\n",
       "      <td>1.659600</td>\n",
       "      <td>28.03390</td>\n",
       "      <td>Algeria</td>\n",
       "    </tr>\n",
       "    <tr>\n",
       "      <th>3</th>\n",
       "      <td>1.521800</td>\n",
       "      <td>42.50630</td>\n",
       "      <td>Andorra</td>\n",
       "    </tr>\n",
       "    <tr>\n",
       "      <th>4</th>\n",
       "      <td>17.873900</td>\n",
       "      <td>-11.20270</td>\n",
       "      <td>Angola</td>\n",
       "    </tr>\n",
       "  </tbody>\n",
       "</table>\n",
       "</div>"
      ],
      "text/plain": [
       "        Long       Lat      Country\n",
       "0  67.709953  33.93911  Afghanistan\n",
       "1  20.168300  41.15330      Albania\n",
       "2   1.659600  28.03390      Algeria\n",
       "3   1.521800  42.50630      Andorra\n",
       "4  17.873900 -11.20270       Angola"
      ]
     },
     "execution_count": 3,
     "metadata": {},
     "output_type": "execute_result"
    }
   ],
   "source": [
    "df = pd.read_csv(\"Lage_Länder.csv\")\n",
    "df.head()"
   ]
  },
  {
   "cell_type": "code",
   "execution_count": 4,
   "id": "6fb8707f",
   "metadata": {},
   "outputs": [],
   "source": [
    "df_23 = pd.read_csv(\"2023.csv\")\n",
    "df_22 = pd.read_csv(\"2022.csv\")\n",
    "df_21 = pd.read_csv(\"2021.csv\")\n",
    "df_20 = pd.read_csv(\"2020.csv\")\n",
    "df_19 = pd.read_csv(\"2019.csv\")\n",
    "df_18 = pd.read_csv(\"2018.csv\")\n",
    "df_17 = pd.read_csv(\"2017.csv\")\n",
    "df_16 = pd.read_csv(\"2016.csv\")\n",
    "df_15 = pd.read_csv(\"2015.csv\")"
   ]
  },
  {
   "cell_type": "code",
   "execution_count": 5,
   "id": "26f2cd02",
   "metadata": {},
   "outputs": [],
   "source": [
    "df_23.name = 2023\n",
    "df_22.name = 2022\n",
    "df_21.name = 2021\n",
    "df_20.name = 2020\n",
    "df_19.name = 2019\n",
    "df_18.name = 2018\n",
    "df_17.name = 2017\n",
    "df_16.name = 2016\n",
    "df_15.name = 2015"
   ]
  },
  {
   "cell_type": "code",
   "execution_count": 6,
   "id": "7d30a995",
   "metadata": {},
   "outputs": [],
   "source": [
    "region_dict = df_15.set_index(\"Country\")[\"Region\"].to_dict()"
   ]
  },
  {
   "cell_type": "code",
   "execution_count": 7,
   "id": "fc09d2d1",
   "metadata": {},
   "outputs": [
    {
     "name": "stdout",
     "output_type": "stream",
     "text": [
      "Das Dictionary wurde in mein_dictionary.pkl gespeichert.\n"
     ]
    }
   ],
   "source": [
    "# Dein Dictionary\n",
    "\n",
    "# Dateiname, in den das Dictionary gespeichert werden soll\n",
    "dateiname = \"mein_dictionary.pkl\"\n",
    "\n",
    "# Öffne die Datei im Schreibmodus und speichere das Dictionary mit Pickle\n",
    "with open(dateiname, \"wb\") as datei:\n",
    "    pickle.dump(region_dict, datei)\n",
    "\n",
    "print(f\"Das Dictionary wurde in {dateiname} gespeichert.\")"
   ]
  },
  {
   "cell_type": "code",
   "execution_count": 8,
   "id": "69fde984",
   "metadata": {},
   "outputs": [],
   "source": [
    "dataframes = [df_23, df_22,df_21, df_20, df_19, df_18,df_17, df_16, df_15 ]\n",
    "dataframes_1 =[df_23, df_21, df_20]\n"
   ]
  },
  {
   "cell_type": "code",
   "execution_count": 9,
   "id": "499a2588",
   "metadata": {},
   "outputs": [],
   "source": [
    "columns_to_delete= ['Perceptions of corruption','Freedom to make life choices','Social support','Generosity','Healthy life expectancy']\n",
    "for df in dataframes_1:\n",
    "    df.drop(columns=columns_to_delete, inplace=True)"
   ]
  },
  {
   "cell_type": "code",
   "execution_count": 10,
   "id": "1cb07d40",
   "metadata": {},
   "outputs": [],
   "source": [
    "for df in dataframes:\n",
    "    # Erstelle eine neue Spalte \"Year\" und fülle sie mit dem Namen des DataFrames\n",
    "    df['Year'] = df.name"
   ]
  },
  {
   "cell_type": "code",
   "execution_count": 11,
   "id": "58fd89f5",
   "metadata": {},
   "outputs": [
    {
     "name": "stdout",
     "output_type": "stream",
     "text": [
      "Die Spalte 'Year' ist in 2023 vorhanden.\n",
      "Die Spalte 'Year' ist in 2022 vorhanden.\n",
      "Die Spalte 'Year' ist in 2021 vorhanden.\n",
      "Die Spalte 'Year' ist in 2020 vorhanden.\n",
      "Die Spalte 'Year' ist in 2019 vorhanden.\n",
      "Die Spalte 'Year' ist in 2018 vorhanden.\n",
      "Die Spalte 'Year' ist in 2017 vorhanden.\n",
      "Die Spalte 'Year' ist in 2016 vorhanden.\n",
      "Die Spalte 'Year' ist in 2015 vorhanden.\n"
     ]
    }
   ],
   "source": [
    "column_to_check = 'Year'\n",
    "\n",
    "# Schleife durch die DataFrames und überprüfe, ob die Spalte vorhanden ist\n",
    "for df in dataframes:\n",
    "    if column_to_check in df.columns:\n",
    "        print(f\"Die Spalte '{column_to_check}' ist in {df.name} vorhanden.\")\n",
    "    else:\n",
    "        print(f\"Die Spalte '{column_to_check}' ist in {df.name} nicht vorhanden.\")"
   ]
  },
  {
   "cell_type": "code",
   "execution_count": 12,
   "id": "e0909a1b",
   "metadata": {},
   "outputs": [],
   "source": [
    "df_18.loc[:, 'Dystopia_Residual'] = df_18.loc[:, 'Score'] -df_18.loc[:, 'GDP per capita']- df_18.loc[:, 'Social support'] - df_18.loc[:, 'Healthy life expectancy'] -df_18.loc[:, 'Freedom to make life choices']-df_18.loc[:, 'Generosity'] -df_18.loc[:,  'Perceptions of corruption']\n",
    "df_19.loc[:, 'Dystopia_Residual'] = df_19.loc[:, 'Score'] -df_19.loc[:, 'GDP per capita']- df_19.loc[:, 'Social support'] - df_19.loc[:, 'Healthy life expectancy'] -df_19.loc[:, 'Freedom to make life choices']-df_19.loc[:, 'Generosity'] -df_19.loc[:,  'Perceptions of corruption']\n"
   ]
  },
  {
   "cell_type": "code",
   "execution_count": 13,
   "id": "54445e19",
   "metadata": {},
   "outputs": [
    {
     "name": "stdout",
     "output_type": "stream",
     "text": [
      "Die Spalte 'Dystopia_Residual' ist in 2023 vorhanden.\n",
      "Die Spalte 'Dystopia_Residual' ist in 2022 vorhanden.\n",
      "Die Spalte 'Dystopia_Residual' ist in 2021 vorhanden.\n",
      "Die Spalte 'Dystopia_Residual' ist in 2020 vorhanden.\n",
      "Die Spalte 'Dystopia_Residual' ist in 2019 vorhanden.\n",
      "Die Spalte 'Dystopia_Residual' ist in 2018 vorhanden.\n",
      "Die Spalte 'Dystopia_Residual' ist in 2017 vorhanden.\n",
      "Die Spalte 'Dystopia_Residual' ist in 2016 vorhanden.\n",
      "Die Spalte 'Dystopia_Residual' ist in 2015 vorhanden.\n"
     ]
    }
   ],
   "source": [
    "######Dystopia Residual = Dystopia_Residual\n",
    "spalten_zu_umbenennen = ['Dystopia Residual', 'Dystopia.Residual', 'Dystopia + residual', 'Dystopia (1.83) + residual']\n",
    "\n",
    "# Neuer Spaltenname\n",
    "neuer_spaltenname = 'Dystopia_Residual'\n",
    "\n",
    "# Schleife zum Umbenennen der Spalten\n",
    "for idx, dataframe in enumerate(dataframes):\n",
    "    for alter_spaltenname in spalten_zu_umbenennen:\n",
    "        if alter_spaltenname in dataframe.columns:\n",
    "            dataframe.rename(columns={alter_spaltenname: neuer_spaltenname}, inplace=True)\n",
    "\n",
    "column_to_check = 'Dystopia_Residual'\n",
    "\n",
    "# Schleife durch die DataFrames und überprüfe, ob die Spalte vorhanden ist\n",
    "for df in dataframes:\n",
    "    if column_to_check in df.columns:\n",
    "        print(f\"Die Spalte '{column_to_check}' ist in {df.name} vorhanden.\")\n",
    "    else:\n",
    "        print(f\"Die Spalte '{column_to_check}' ist in {df.name} nicht vorhanden.\")"
   ]
  },
  {
   "cell_type": "code",
   "execution_count": 14,
   "id": "399d5026",
   "metadata": {},
   "outputs": [
    {
     "name": "stdout",
     "output_type": "stream",
     "text": [
      "Die Spalte 'Country' ist in 2023 vorhanden.\n",
      "Die Spalte 'Country' ist in 2022 vorhanden.\n",
      "Die Spalte 'Country' ist in 2021 vorhanden.\n",
      "Die Spalte 'Country' ist in 2020 vorhanden.\n",
      "Die Spalte 'Country' ist in 2019 vorhanden.\n",
      "Die Spalte 'Country' ist in 2018 vorhanden.\n",
      "Die Spalte 'Country' ist in 2017 vorhanden.\n",
      "Die Spalte 'Country' ist in 2016 vorhanden.\n",
      "Die Spalte 'Country' ist in 2015 vorhanden.\n"
     ]
    }
   ],
   "source": [
    "###Spaltennamen Country angleichen\n",
    "string_to_replace = 'Country'\n",
    "\n",
    "# Schleife zum Überprüfen und Ersetzen der Spaltennamen\n",
    "for idx, dataframe in enumerate(dataframes):\n",
    "    for col in dataframe.columns:\n",
    "        if string_to_replace in col:\n",
    "            new_col_name = 'Country'\n",
    "            dataframe.rename(columns={col: new_col_name}, inplace=True)\n",
    "\n",
    "column_to_check = 'Country'            \n",
    "            \n",
    "# Schleife durch die DataFrames und überprüfe, ob die Spalte vorhanden ist\n",
    "for df in dataframes:\n",
    "    if column_to_check in df.columns:\n",
    "        print(f\"Die Spalte '{column_to_check}' ist in {df.name} vorhanden.\")\n",
    "    else:\n",
    "        print(f\"Die Spalte '{column_to_check}' ist in {df.name} nicht vorhanden.\")"
   ]
  },
  {
   "cell_type": "code",
   "execution_count": 15,
   "id": "2f9e7e21",
   "metadata": {},
   "outputs": [
    {
     "name": "stdout",
     "output_type": "stream",
     "text": [
      "Die Spalte 'Happiness' ist in 2023 vorhanden.\n",
      "Die Spalte 'Happiness' ist in 2022 vorhanden.\n",
      "Die Spalte 'Happiness' ist in 2021 vorhanden.\n",
      "Die Spalte 'Happiness' ist in 2020 vorhanden.\n",
      "Die Spalte 'Happiness' ist in 2019 vorhanden.\n",
      "Die Spalte 'Happiness' ist in 2018 vorhanden.\n",
      "Die Spalte 'Happiness' ist in 2017 vorhanden.\n",
      "Die Spalte 'Happiness' ist in 2016 vorhanden.\n",
      "Die Spalte 'Happiness' ist in 2015 vorhanden.\n"
     ]
    }
   ],
   "source": [
    "######Ladder Score = Happiness Score\n",
    "spalten_zu_umbenennen = ['Ladder score', 'Happiness Score', 'Happiness.Score', 'Score', 'Happiness score']\n",
    "\n",
    "# Neuer Spaltenname\n",
    "neuer_spaltenname = 'Happiness'\n",
    "\n",
    "# Schleife zum Umbenennen der Spalten\n",
    "for idx, dataframe in enumerate(dataframes):\n",
    "    for alter_spaltenname in spalten_zu_umbenennen:\n",
    "        if alter_spaltenname in dataframe.columns:\n",
    "            dataframe.rename(columns={alter_spaltenname: neuer_spaltenname}, inplace=True)\n",
    "\n",
    "column_to_check = 'Happiness'            \n",
    "            \n",
    "# Schleife durch die DataFrames und überprüfe, ob die Spalte vorhanden ist\n",
    "for df in dataframes:\n",
    "    if column_to_check in df.columns:\n",
    "        print(f\"Die Spalte '{column_to_check}' ist in {df.name} vorhanden.\")\n",
    "    else:\n",
    "        print(f\"Die Spalte '{column_to_check}' ist in {df.name} nicht vorhanden.\")"
   ]
  },
  {
   "cell_type": "code",
   "execution_count": 16,
   "id": "b99642ca",
   "metadata": {},
   "outputs": [],
   "source": [
    "######Rank\n",
    "spalten_zu_umbenennen = ['RANK', 'Happiness.Rank', 'Overall rank', 'Happiness Rank']\n",
    "\n",
    "# Neuer Spaltenname\n",
    "neuer_spaltenname = 'Happiness_Rank'\n",
    "\n",
    "# Schleife zum Umbenennen der Spalten\n",
    "for idx, dataframe in enumerate(dataframes):\n",
    "    for alter_spaltenname in spalten_zu_umbenennen:\n",
    "        if alter_spaltenname in dataframe.columns:\n",
    "            dataframe.rename(columns={alter_spaltenname: neuer_spaltenname}, inplace=True)\n",
    "            \n",
    "column_to_check = 'Happiness_Rank'              \n"
   ]
  },
  {
   "cell_type": "code",
   "execution_count": 17,
   "id": "3ae744e3",
   "metadata": {},
   "outputs": [
    {
     "name": "stdout",
     "output_type": "stream",
     "text": [
      "Die Spalte 'Happiness_Rank' ist in 2023 vorhanden.\n",
      "Die Spalte 'Happiness_Rank' ist in 2022 vorhanden.\n",
      "Die Spalte 'Happiness_Rank' ist in 2021 vorhanden.\n",
      "Die Spalte 'Happiness_Rank' ist in 2020 vorhanden.\n",
      "Die Spalte 'Happiness_Rank' ist in 2019 vorhanden.\n",
      "Die Spalte 'Happiness_Rank' ist in 2018 vorhanden.\n",
      "Die Spalte 'Happiness_Rank' ist in 2017 vorhanden.\n",
      "Die Spalte 'Happiness_Rank' ist in 2016 vorhanden.\n",
      "Die Spalte 'Happiness_Rank' ist in 2015 vorhanden.\n"
     ]
    }
   ],
   "source": [
    "neuer_spaltenname = 'Happiness_Rank'\n",
    "for idx, dataframe in enumerate(dataframes):\n",
    "    if 'Happiness_Rank' not in dataframe.columns:\n",
    "        dataframe[neuer_spaltenname] = dataframe.apply(lambda row: row.name + 1, axis=1)\n",
    "\n",
    "column_to_check = 'Happiness_Rank'              \n",
    "\n",
    "# Schleife durch die DataFrames und überprüfe, ob die Spalte vorhanden ist\n",
    "for df in dataframes:\n",
    "    if column_to_check in df.columns:\n",
    "        print(f\"Die Spalte '{column_to_check}' ist in {df.name} vorhanden.\")\n",
    "    else:\n",
    "        print(f\"Die Spalte '{column_to_check}' ist in {df.name} nicht vorhanden.\")"
   ]
  },
  {
   "cell_type": "code",
   "execution_count": null,
   "id": "e9647acb",
   "metadata": {},
   "outputs": [],
   "source": []
  },
  {
   "cell_type": "code",
   "execution_count": 18,
   "id": "8de01d7e",
   "metadata": {},
   "outputs": [
    {
     "name": "stdout",
     "output_type": "stream",
     "text": [
      "Die Spalte 'Explained_by_Social_support' ist in 2023 vorhanden.\n",
      "Die Spalte 'Explained_by_Social_support' ist in 2022 vorhanden.\n",
      "Die Spalte 'Explained_by_Social_support' ist in 2021 vorhanden.\n",
      "Die Spalte 'Explained_by_Social_support' ist in 2020 vorhanden.\n",
      "Die Spalte 'Explained_by_Social_support' ist in 2019 vorhanden.\n",
      "Die Spalte 'Explained_by_Social_support' ist in 2018 vorhanden.\n",
      "Die Spalte 'Explained_by_Social_support' ist in 2017 vorhanden.\n",
      "Die Spalte 'Explained_by_Social_support' ist in 2016 vorhanden.\n",
      "Die Spalte 'Explained_by_Social_support' ist in 2015 vorhanden.\n"
     ]
    }
   ],
   "source": [
    "#####Social support\n",
    "neuer_spaltenname = 'Explained_by_Social_support'\n",
    "\n",
    "spalten_zu_umbenennen = ['Social support', 'Explained by: Social support', 'Family']\n",
    "\n",
    "# Schleife zum Umbenennen der Spalten\n",
    "for idx, dataframe in enumerate(dataframes):\n",
    "    for alter_spaltenname in spalten_zu_umbenennen:\n",
    "        if alter_spaltenname in dataframe.columns:\n",
    "            dataframe.rename(columns={alter_spaltenname: neuer_spaltenname}, inplace=True)\n",
    "\n",
    "column_to_check = 'Explained_by_Social_support'              \n",
    "\n",
    "# Schleife durch die DataFrames und überprüfe, ob die Spalte vorhanden ist\n",
    "for df in dataframes:\n",
    "    if column_to_check in df.columns:\n",
    "        print(f\"Die Spalte '{column_to_check}' ist in {df.name} vorhanden.\")\n",
    "    else:\n",
    "        print(f\"Die Spalte '{column_to_check}' ist in {df.name} nicht vorhanden.\")"
   ]
  },
  {
   "cell_type": "code",
   "execution_count": 19,
   "id": "53c778a5",
   "metadata": {},
   "outputs": [
    {
     "name": "stdout",
     "output_type": "stream",
     "text": [
      "Die Spalte 'Explained_by_Health' ist in 2023 vorhanden.\n",
      "Die Spalte 'Explained_by_Health' ist in 2022 vorhanden.\n",
      "Die Spalte 'Explained_by_Health' ist in 2021 vorhanden.\n",
      "Die Spalte 'Explained_by_Health' ist in 2020 vorhanden.\n",
      "Die Spalte 'Explained_by_Health' ist in 2019 vorhanden.\n",
      "Die Spalte 'Explained_by_Health' ist in 2018 vorhanden.\n",
      "Die Spalte 'Explained_by_Health' ist in 2017 vorhanden.\n",
      "Die Spalte 'Explained_by_Health' ist in 2016 vorhanden.\n",
      "Die Spalte 'Explained_by_Health' ist in 2015 vorhanden.\n"
     ]
    }
   ],
   "source": [
    "#####Social support\n",
    "neuer_spaltenname = 'Explained_by_Health'\n",
    "\n",
    "spalten_zu_umbenennen = ['Health (Life Expectancy)', 'Health..Life.Expectancy.', 'Healthy life expectancy','Explained by: Healthy life expectancy' ]\n",
    "\n",
    "# Schleife zum Umbenennen der Spalten\n",
    "for idx, dataframe in enumerate(dataframes):\n",
    "    for alter_spaltenname in spalten_zu_umbenennen:\n",
    "        if alter_spaltenname in dataframe.columns:\n",
    "            dataframe.rename(columns={alter_spaltenname: neuer_spaltenname}, inplace=True)\n",
    "\n",
    "column_to_check = 'Explained_by_Health'              \n",
    "\n",
    "# Schleife durch die DataFrames und überprüfe, ob die Spalte vorhanden ist\n",
    "for df in dataframes:\n",
    "    if column_to_check in df.columns:\n",
    "        print(f\"Die Spalte '{column_to_check}' ist in {df.name} vorhanden.\")\n",
    "    else:\n",
    "        print(f\"Die Spalte '{column_to_check}' ist in {df.name} nicht vorhanden.\")"
   ]
  },
  {
   "cell_type": "code",
   "execution_count": 20,
   "id": "52cc0542",
   "metadata": {},
   "outputs": [
    {
     "name": "stdout",
     "output_type": "stream",
     "text": [
      "Die Spalte 'Explained_by_Generosity' ist in 2023 vorhanden.\n",
      "Die Spalte 'Explained_by_Generosity' ist in 2022 vorhanden.\n",
      "Die Spalte 'Explained_by_Generosity' ist in 2021 vorhanden.\n",
      "Die Spalte 'Explained_by_Generosity' ist in 2020 vorhanden.\n",
      "Die Spalte 'Explained_by_Generosity' ist in 2019 vorhanden.\n",
      "Die Spalte 'Explained_by_Generosity' ist in 2018 vorhanden.\n",
      "Die Spalte 'Explained_by_Generosity' ist in 2017 vorhanden.\n",
      "Die Spalte 'Explained_by_Generosity' ist in 2016 vorhanden.\n",
      "Die Spalte 'Explained_by_Generosity' ist in 2015 vorhanden.\n"
     ]
    }
   ],
   "source": [
    "#########Generosity\n",
    "neuer_spaltenname = 'Explained_by_Generosity'\n",
    "\n",
    "spalten_zu_umbenennen = ['Generosity', 'Explained by: Generosity']\n",
    "\n",
    "# Schleife zum Umbenennen der Spalten\n",
    "for idx, dataframe in enumerate(dataframes):\n",
    "    for alter_spaltenname in spalten_zu_umbenennen:\n",
    "        if alter_spaltenname in dataframe.columns:\n",
    "            dataframe.rename(columns={alter_spaltenname: neuer_spaltenname}, inplace=True)\n",
    "\n",
    "column_to_check = 'Explained_by_Generosity'              \n",
    "\n",
    "# Schleife durch die DataFrames und überprüfe, ob die Spalte vorhanden ist\n",
    "for df in dataframes:\n",
    "    if column_to_check in df.columns:\n",
    "        print(f\"Die Spalte '{column_to_check}' ist in {df.name} vorhanden.\")\n",
    "    else:\n",
    "        print(f\"Die Spalte '{column_to_check}' ist in {df.name} nicht vorhanden.\")"
   ]
  },
  {
   "cell_type": "code",
   "execution_count": 21,
   "id": "41533a45",
   "metadata": {},
   "outputs": [
    {
     "name": "stdout",
     "output_type": "stream",
     "text": [
      "Die Spalte 'Explained_by_Freedom' ist in 2023 vorhanden.\n",
      "Die Spalte 'Explained_by_Freedom' ist in 2022 vorhanden.\n",
      "Die Spalte 'Explained_by_Freedom' ist in 2021 vorhanden.\n",
      "Die Spalte 'Explained_by_Freedom' ist in 2020 vorhanden.\n",
      "Die Spalte 'Explained_by_Freedom' ist in 2019 vorhanden.\n",
      "Die Spalte 'Explained_by_Freedom' ist in 2018 vorhanden.\n",
      "Die Spalte 'Explained_by_Freedom' ist in 2017 vorhanden.\n",
      "Die Spalte 'Explained_by_Freedom' ist in 2016 vorhanden.\n",
      "Die Spalte 'Explained_by_Freedom' ist in 2015 vorhanden.\n"
     ]
    }
   ],
   "source": [
    "#########Freedom\n",
    "neuer_spaltenname = 'Explained_by_Freedom'\n",
    "\n",
    "spalten_zu_umbenennen = ['Explained by: Freedom to make life choices', 'Freedom', 'Freedom to make life choices', 'Explained by: Freedom to make life choices' ]\n",
    "\n",
    "# Schleife zum Umbenennen der Spalten\n",
    "for idx, dataframe in enumerate(dataframes):\n",
    "    for alter_spaltenname in spalten_zu_umbenennen:\n",
    "        if alter_spaltenname in dataframe.columns:\n",
    "            dataframe.rename(columns={alter_spaltenname: neuer_spaltenname}, inplace=True)\n",
    "\n",
    "column_to_check = 'Explained_by_Freedom'              \n",
    "\n",
    "# Schleife durch die DataFrames und überprüfe, ob die Spalte vorhanden ist\n",
    "for df in dataframes:\n",
    "    if column_to_check in df.columns:\n",
    "        print(f\"Die Spalte '{column_to_check}' ist in {df.name} vorhanden.\")\n",
    "    else:\n",
    "        print(f\"Die Spalte '{column_to_check}' ist in {df.name} nicht vorhanden.\")"
   ]
  },
  {
   "cell_type": "code",
   "execution_count": 22,
   "id": "cfab0ca3",
   "metadata": {},
   "outputs": [
    {
     "name": "stdout",
     "output_type": "stream",
     "text": [
      "Die Spalte 'Explained_by_GDP' ist in 2023 vorhanden.\n",
      "Die Spalte 'Explained_by_GDP' ist in 2022 vorhanden.\n",
      "Die Spalte 'Explained_by_GDP' ist in 2021 vorhanden.\n",
      "Die Spalte 'Explained_by_GDP' ist in 2020 vorhanden.\n",
      "Die Spalte 'Explained_by_GDP' ist in 2019 vorhanden.\n",
      "Die Spalte 'Explained_by_GDP' ist in 2018 vorhanden.\n",
      "Die Spalte 'Explained_by_GDP' ist in 2017 vorhanden.\n",
      "Die Spalte 'Explained_by_GDP' ist in 2016 vorhanden.\n",
      "Die Spalte 'Explained_by_GDP' ist in 2015 vorhanden.\n"
     ]
    }
   ],
   "source": [
    "#########GDP\n",
    "neuer_spaltenname = 'Explained_by_GDP'\n",
    "\n",
    "spalten_zu_umbenennen = ['Explained by: GDP per capita','Economy (GDP per Capita)', 'Freedom', 'Economy..GDP.per.Capita.', 'GDP per capita', 'Explained by: Log GDP per capita' ]\n",
    "\n",
    "# Schleife zum Umbenennen der Spalten\n",
    "for idx, dataframe in enumerate(dataframes):\n",
    "    for alter_spaltenname in spalten_zu_umbenennen:\n",
    "        if alter_spaltenname in dataframe.columns:\n",
    "            dataframe.rename(columns={alter_spaltenname: neuer_spaltenname}, inplace=True)\n",
    "\n",
    "column_to_check = 'Explained_by_GDP'              \n",
    "\n",
    "# Schleife durch die DataFrames und überprüfe, ob die Spalte vorhanden ist\n",
    "for df in dataframes:\n",
    "    if column_to_check in df.columns:\n",
    "        print(f\"Die Spalte '{column_to_check}' ist in {df.name} vorhanden.\")\n",
    "    else:\n",
    "        print(f\"Die Spalte '{column_to_check}' ist in {df.name} nicht vorhanden.\")"
   ]
  },
  {
   "cell_type": "code",
   "execution_count": 23,
   "id": "8aa00c8d",
   "metadata": {},
   "outputs": [
    {
     "data": {
      "text/plain": [
       "Index(['Country', 'Happiness', 'Standard error of ladder score',\n",
       "       'upperwhisker', 'lowerwhisker', 'Logged GDP per capita',\n",
       "       'Ladder score in Dystopia', 'Explained_by_GDP',\n",
       "       'Explained_by_Social_support', 'Explained_by_Health',\n",
       "       'Explained_by_Freedom', 'Explained_by_Generosity', 'Explained_by_Trust',\n",
       "       'Dystopia_Residual', 'Year', 'Happiness_Rank'],\n",
       "      dtype='object')"
      ]
     },
     "execution_count": 23,
     "metadata": {},
     "output_type": "execute_result"
    }
   ],
   "source": [
    "#########Trust 1\n",
    "neuer_spaltenname = 'Explained_by_Trust'\n",
    "df_23.rename(columns={'Explained by: Perceptions of corruption': 'Explained_by_Trust'}, inplace=True)\n",
    "df_23.columns"
   ]
  },
  {
   "cell_type": "code",
   "execution_count": 24,
   "id": "e22292a1",
   "metadata": {},
   "outputs": [
    {
     "data": {
      "text/plain": [
       "Index(['Country', 'Regional indicator', 'Happiness',\n",
       "       'Standard error of ladder score', 'upperwhisker', 'lowerwhisker',\n",
       "       'Logged GDP per capita', 'Ladder score in Dystopia', 'Explained_by_GDP',\n",
       "       'Explained_by_Social_support', 'Explained_by_Health',\n",
       "       'Explained_by_Freedom', 'Explained_by_Generosity', 'Explained_by_Trust',\n",
       "       'Dystopia_Residual', 'Year', 'Happiness_Rank'],\n",
       "      dtype='object')"
      ]
     },
     "execution_count": 24,
     "metadata": {},
     "output_type": "execute_result"
    }
   ],
   "source": [
    "neuer_spaltenname = 'Explained_by_Trust'\n",
    "df_21.rename(columns={'Explained by: Perceptions of corruption': 'Explained_by_Trust'}, inplace=True)\n",
    "df_21.columns"
   ]
  },
  {
   "cell_type": "code",
   "execution_count": 25,
   "id": "6eb56116",
   "metadata": {},
   "outputs": [
    {
     "data": {
      "text/plain": [
       "Index(['Country', 'Regional indicator', 'Happiness',\n",
       "       'Standard error of ladder score', 'upperwhisker', 'lowerwhisker',\n",
       "       'Logged GDP per capita', 'Ladder score in Dystopia', 'Explained_by_GDP',\n",
       "       'Explained_by_Social_support', 'Explained_by_Health',\n",
       "       'Explained_by_Freedom', 'Explained_by_Generosity', 'Explained_by_Trust',\n",
       "       'Dystopia_Residual', 'Year', 'Happiness_Rank'],\n",
       "      dtype='object')"
      ]
     },
     "execution_count": 25,
     "metadata": {},
     "output_type": "execute_result"
    }
   ],
   "source": [
    "neuer_spaltenname = 'Explained_by_Trust'\n",
    "df_20.rename(columns={'Explained by: Perceptions of corruption': 'Explained_by_Trust'}, inplace=True)\n",
    "df_20.columns"
   ]
  },
  {
   "cell_type": "code",
   "execution_count": 26,
   "id": "f233da90",
   "metadata": {},
   "outputs": [
    {
     "data": {
      "text/plain": [
       "Index(['Happiness_Rank', 'Country', 'Happiness', 'Whisker-high', 'Whisker-low',\n",
       "       'Dystopia_Residual', 'Explained_by_GDP', 'Explained_by_Social_support',\n",
       "       'Explained_by_Health', 'Explained_by_Freedom',\n",
       "       'Explained_by_Generosity', 'Explained_by_Trust', 'Year'],\n",
       "      dtype='object')"
      ]
     },
     "execution_count": 26,
     "metadata": {},
     "output_type": "execute_result"
    }
   ],
   "source": [
    "neuer_spaltenname = 'Explained_by_Trust'\n",
    "df_22.rename(columns={'Explained by: Perceptions of corruption': 'Explained_by_Trust'}, inplace=True)\n",
    "df_22.columns"
   ]
  },
  {
   "cell_type": "code",
   "execution_count": 27,
   "id": "5096e4eb",
   "metadata": {},
   "outputs": [
    {
     "data": {
      "text/plain": [
       "Index(['Happiness_Rank', 'Country', 'Happiness', 'Explained_by_GDP',\n",
       "       'Explained_by_Social_support', 'Explained_by_Health',\n",
       "       'Explained_by_Freedom', 'Explained_by_Generosity', 'Explained_by_Trust',\n",
       "       'Year', 'Dystopia_Residual'],\n",
       "      dtype='object')"
      ]
     },
     "execution_count": 27,
     "metadata": {},
     "output_type": "execute_result"
    }
   ],
   "source": [
    "neuer_spaltenname = 'Explained_by_Trust'\n",
    "df_19.rename(columns={'Perceptions of corruption': 'Explained_by_Trust'}, inplace=True)\n",
    "df_19.columns"
   ]
  },
  {
   "cell_type": "code",
   "execution_count": 28,
   "id": "efda6d0a",
   "metadata": {},
   "outputs": [
    {
     "data": {
      "text/plain": [
       "Index(['Happiness_Rank', 'Country', 'Happiness', 'Explained_by_GDP',\n",
       "       'Explained_by_Social_support', 'Explained_by_Health',\n",
       "       'Explained_by_Freedom', 'Explained_by_Generosity', 'Explained_by_Trust',\n",
       "       'Year', 'Dystopia_Residual'],\n",
       "      dtype='object')"
      ]
     },
     "execution_count": 28,
     "metadata": {},
     "output_type": "execute_result"
    }
   ],
   "source": [
    "neuer_spaltenname = 'Explained_by_Trust'\n",
    "df_18.rename(columns={'Perceptions of corruption': 'Explained_by_Trust'}, inplace=True)\n",
    "df_18.columns"
   ]
  },
  {
   "cell_type": "code",
   "execution_count": 29,
   "id": "8833ed9f",
   "metadata": {},
   "outputs": [
    {
     "data": {
      "text/plain": [
       "Index(['Country', 'Happiness_Rank', 'Happiness', 'Whisker.high', 'Whisker.low',\n",
       "       'Explained_by_GDP', 'Explained_by_Social_support',\n",
       "       'Explained_by_Health', 'Explained_by_Freedom',\n",
       "       'Explained_by_Generosity', 'Explained_by_Trust', 'Dystopia_Residual',\n",
       "       'Year'],\n",
       "      dtype='object')"
      ]
     },
     "execution_count": 29,
     "metadata": {},
     "output_type": "execute_result"
    }
   ],
   "source": [
    "neuer_spaltenname = 'Explained_by_Trust'\n",
    "df_17.rename(columns={'Trust..Government.Corruption.': 'Explained_by_Trust'}, inplace=True)\n",
    "df_17.columns"
   ]
  },
  {
   "cell_type": "code",
   "execution_count": 30,
   "id": "023fee64",
   "metadata": {},
   "outputs": [
    {
     "data": {
      "text/plain": [
       "Index(['Country', 'Region', 'Happiness_Rank', 'Happiness',\n",
       "       'Lower Confidence Interval', 'Upper Confidence Interval',\n",
       "       'Explained_by_GDP', 'Explained_by_Social_support',\n",
       "       'Explained_by_Health', 'Explained_by_Freedom', 'Explained_by_Trust',\n",
       "       'Explained_by_Generosity', 'Dystopia_Residual', 'Year'],\n",
       "      dtype='object')"
      ]
     },
     "execution_count": 30,
     "metadata": {},
     "output_type": "execute_result"
    }
   ],
   "source": [
    "neuer_spaltenname = 'Explained_by_Trust'\n",
    "df_16.rename(columns={'Trust (Government Corruption)': 'Explained_by_Trust'}, inplace=True)\n",
    "df_16.columns"
   ]
  },
  {
   "cell_type": "code",
   "execution_count": 31,
   "id": "6162a8cd",
   "metadata": {},
   "outputs": [
    {
     "data": {
      "text/plain": [
       "Index(['Country', 'Region', 'Happiness_Rank', 'Happiness', 'Standard Error',\n",
       "       'Explained_by_GDP', 'Explained_by_Social_support',\n",
       "       'Explained_by_Health', 'Explained_by_Freedom', 'Explained_by_Trust',\n",
       "       'Explained_by_Generosity', 'Dystopia_Residual', 'Year'],\n",
       "      dtype='object')"
      ]
     },
     "execution_count": 31,
     "metadata": {},
     "output_type": "execute_result"
    }
   ],
   "source": [
    "neuer_spaltenname = 'Explained_by_Trust'\n",
    "df_15.rename(columns={'Trust (Government Corruption)': 'Explained_by_Trust'}, inplace=True)\n",
    "df_15.columns"
   ]
  },
  {
   "cell_type": "code",
   "execution_count": 32,
   "id": "6ee3951a",
   "metadata": {},
   "outputs": [
    {
     "name": "stdout",
     "output_type": "stream",
     "text": [
      "Die Spalte 'Explained_by_GDP' ist in 2023 vorhanden.\n",
      "Die Spalte 'Explained_by_GDP' ist in 2022 vorhanden.\n",
      "Die Spalte 'Explained_by_GDP' ist in 2021 vorhanden.\n",
      "Die Spalte 'Explained_by_GDP' ist in 2020 vorhanden.\n",
      "Die Spalte 'Explained_by_GDP' ist in 2019 vorhanden.\n",
      "Die Spalte 'Explained_by_GDP' ist in 2018 vorhanden.\n",
      "Die Spalte 'Explained_by_GDP' ist in 2017 vorhanden.\n",
      "Die Spalte 'Explained_by_GDP' ist in 2016 vorhanden.\n",
      "Die Spalte 'Explained_by_GDP' ist in 2015 vorhanden.\n"
     ]
    }
   ],
   "source": [
    "# Schleife durch die DataFrames und überprüfe, ob die Spalte vorhanden ist\n",
    "for df in dataframes:\n",
    "    if column_to_check in df.columns:\n",
    "        print(f\"Die Spalte '{column_to_check}' ist in {df.name} vorhanden.\")\n",
    "    else:\n",
    "        print(f\"Die Spalte '{column_to_check}' ist in {df.name} nicht vorhanden.\")"
   ]
  },
  {
   "cell_type": "code",
   "execution_count": 33,
   "id": "ee9810e7",
   "metadata": {},
   "outputs": [
    {
     "name": "stdout",
     "output_type": "stream",
     "text": [
      "Im DataFrame 2023 gibt es keine doppelten Spaltennamen.\n",
      "Im DataFrame 2022 gibt es keine doppelten Spaltennamen.\n",
      "Im DataFrame 2021 gibt es keine doppelten Spaltennamen.\n",
      "Im DataFrame 2020 gibt es keine doppelten Spaltennamen.\n",
      "Im DataFrame 2019 gibt es keine doppelten Spaltennamen.\n",
      "Im DataFrame 2018 gibt es keine doppelten Spaltennamen.\n",
      "Im DataFrame 2017 gibt es keine doppelten Spaltennamen.\n",
      "Im DataFrame 2016 gibt es keine doppelten Spaltennamen.\n",
      "Im DataFrame 2015 gibt es keine doppelten Spaltennamen.\n"
     ]
    }
   ],
   "source": [
    "def find_duplicate_columns(df):\n",
    "    # Finde doppelte Spaltennamen\n",
    "    duplicated_columns = df.columns[df.columns.duplicated()].tolist()\n",
    "    return duplicated_columns\n",
    "\n",
    "# Annahme: dataframes ist eine Liste von DataFrames\n",
    "\n",
    "for df in dataframes:\n",
    "    duplicated_columns = find_duplicate_columns(df)\n",
    "    if duplicated_columns:\n",
    "        print(f\"Im DataFrame {df.name} gibt es doppelte Spaltennamen: {', '.join(duplicated_columns)}\")\n",
    "    else:\n",
    "        print(f\"Im DataFrame {df.name} gibt es keine doppelten Spaltennamen.\")\n"
   ]
  },
  {
   "cell_type": "code",
   "execution_count": 34,
   "id": "b82397ec",
   "metadata": {},
   "outputs": [],
   "source": [
    "for df in dataframes:\n",
    "    # Überprüfe, ob \"Region\" in den Spalten des DataFrames ist\n",
    "    if \"Region\" not in df.columns:\n",
    "        # Wenn nicht, füge \"Region\" hinzu und fülle sie mit Werten aus dem Dictionary\n",
    "        df[\"Region\"] = df[\"Country\"].map(region_dict)\n",
    "        #print(f\"DataFrame {dataframe.name} nach der Umbenennung:\")\n",
    "        #print(dataframe.columns)\n"
   ]
  },
  {
   "cell_type": "code",
   "execution_count": 35,
   "id": "f696e35b",
   "metadata": {},
   "outputs": [
    {
     "name": "stdout",
     "output_type": "stream",
     "text": [
      "DataFrame:\n",
      "Index(['Year', 'Country', 'Region', 'Happiness_Rank', 'Happiness',\n",
      "       'Explained_by_Trust', 'Explained_by_GDP', 'Explained_by_Freedom',\n",
      "       'Explained_by_Generosity', 'Explained_by_Health',\n",
      "       'Explained_by_Social_support', 'Dystopia_Residual'],\n",
      "      dtype='object')\n",
      "DataFrame:\n",
      "Index(['Year', 'Country', 'Region', 'Happiness_Rank', 'Happiness',\n",
      "       'Explained_by_Trust', 'Explained_by_GDP', 'Explained_by_Freedom',\n",
      "       'Explained_by_Generosity', 'Explained_by_Health',\n",
      "       'Explained_by_Social_support', 'Dystopia_Residual'],\n",
      "      dtype='object')\n",
      "DataFrame:\n",
      "Index(['Year', 'Country', 'Region', 'Happiness_Rank', 'Happiness',\n",
      "       'Explained_by_Trust', 'Explained_by_GDP', 'Explained_by_Freedom',\n",
      "       'Explained_by_Generosity', 'Explained_by_Health',\n",
      "       'Explained_by_Social_support', 'Dystopia_Residual'],\n",
      "      dtype='object')\n",
      "DataFrame:\n",
      "Index(['Year', 'Country', 'Region', 'Happiness_Rank', 'Happiness',\n",
      "       'Explained_by_Trust', 'Explained_by_GDP', 'Explained_by_Freedom',\n",
      "       'Explained_by_Generosity', 'Explained_by_Health',\n",
      "       'Explained_by_Social_support', 'Dystopia_Residual'],\n",
      "      dtype='object')\n",
      "DataFrame:\n",
      "Index(['Year', 'Country', 'Region', 'Happiness_Rank', 'Happiness',\n",
      "       'Explained_by_Trust', 'Explained_by_GDP', 'Explained_by_Freedom',\n",
      "       'Explained_by_Generosity', 'Explained_by_Health',\n",
      "       'Explained_by_Social_support', 'Dystopia_Residual'],\n",
      "      dtype='object')\n",
      "DataFrame:\n",
      "Index(['Year', 'Country', 'Region', 'Happiness_Rank', 'Happiness',\n",
      "       'Explained_by_Trust', 'Explained_by_GDP', 'Explained_by_Freedom',\n",
      "       'Explained_by_Generosity', 'Explained_by_Health',\n",
      "       'Explained_by_Social_support', 'Dystopia_Residual'],\n",
      "      dtype='object')\n",
      "DataFrame:\n",
      "Index(['Year', 'Country', 'Region', 'Happiness_Rank', 'Happiness',\n",
      "       'Explained_by_Trust', 'Explained_by_GDP', 'Explained_by_Freedom',\n",
      "       'Explained_by_Generosity', 'Explained_by_Health',\n",
      "       'Explained_by_Social_support', 'Dystopia_Residual'],\n",
      "      dtype='object')\n",
      "DataFrame:\n",
      "Index(['Year', 'Country', 'Region', 'Happiness_Rank', 'Happiness',\n",
      "       'Explained_by_Trust', 'Explained_by_GDP', 'Explained_by_Freedom',\n",
      "       'Explained_by_Generosity', 'Explained_by_Health',\n",
      "       'Explained_by_Social_support', 'Dystopia_Residual'],\n",
      "      dtype='object')\n",
      "DataFrame:\n",
      "Index(['Year', 'Country', 'Region', 'Happiness_Rank', 'Happiness',\n",
      "       'Explained_by_Trust', 'Explained_by_GDP', 'Explained_by_Freedom',\n",
      "       'Explained_by_Generosity', 'Explained_by_Health',\n",
      "       'Explained_by_Social_support', 'Dystopia_Residual'],\n",
      "      dtype='object')\n"
     ]
    }
   ],
   "source": [
    "# Schleife durch die DataFrames und wähle die gewünschten Spalten aus\n",
    "selected_columns = ['Year', 'Country', 'Region', 'Happiness_Rank', 'Happiness',\n",
    "                    'Explained_by_Trust', 'Explained_by_GDP', 'Explained_by_Freedom',\n",
    "                    'Explained_by_Generosity', 'Explained_by_Health', 'Explained_by_Social_support', \n",
    "                    'Dystopia_Residual']\n",
    "for df in dataframes:\n",
    "    df = df[selected_columns]\n",
    "    print(f\"DataFrame:\")\n",
    "    print(df.columns)\n",
    "\n"
   ]
  },
  {
   "cell_type": "code",
   "execution_count": 36,
   "id": "bc63e6c3",
   "metadata": {},
   "outputs": [
    {
     "name": "stdout",
     "output_type": "stream",
     "text": [
      "Die Spalten in 2022 stimmen nicht mit dem ersten DataFrame überein.\n",
      "Die Spalten in 2021 stimmen nicht mit dem ersten DataFrame überein.\n",
      "Die Spalten in 2020 stimmen nicht mit dem ersten DataFrame überein.\n",
      "Die Spalten in 2019 stimmen nicht mit dem ersten DataFrame überein.\n",
      "Die Spalten in 2018 stimmen nicht mit dem ersten DataFrame überein.\n",
      "Die Spalten in 2017 stimmen nicht mit dem ersten DataFrame überein.\n",
      "Die Spalten in 2016 stimmen nicht mit dem ersten DataFrame überein.\n",
      "Die Spalten in 2015 stimmen nicht mit dem ersten DataFrame überein.\n"
     ]
    }
   ],
   "source": [
    "first_dataframe_columns = set(dataframes[0].columns)\n",
    "\n",
    "# Schleife durch die restlichen DataFrames und vergleiche ihre Spaltennamen mit dem ersten DataFrame\n",
    "for df in dataframes[1:]:\n",
    "    if set(df.columns) != first_dataframe_columns:\n",
    "        print(f\"Die Spalten in {df.name} stimmen nicht mit dem ersten DataFrame überein.\")\n",
    "    else:\n",
    "        print(f\"Die Spalten in {df.name} stimmen mit dem ersten DataFrame überein.\")\n"
   ]
  },
  {
   "cell_type": "code",
   "execution_count": 37,
   "id": "a64433f7",
   "metadata": {},
   "outputs": [],
   "source": [
    "def vereinheitliche_dezimaltrennzeichen(df, spalte):\n",
    "    df[spalte] = df[spalte].str.replace(',', '.', regex=True).astype(float)"
   ]
  },
  {
   "cell_type": "code",
   "execution_count": 38,
   "id": "ea336553",
   "metadata": {},
   "outputs": [],
   "source": [
    "vereinheitliche_dezimaltrennzeichen(df_22, 'Happiness')\n",
    "vereinheitliche_dezimaltrennzeichen(df_22, 'Explained_by_Trust')\n",
    "vereinheitliche_dezimaltrennzeichen(df_22, 'Explained_by_GDP')\n",
    "vereinheitliche_dezimaltrennzeichen(df_22,  'Explained_by_Freedom')\n",
    "vereinheitliche_dezimaltrennzeichen(df_22, 'Explained_by_Generosity')\n",
    "vereinheitliche_dezimaltrennzeichen(df_22, 'Explained_by_Health')\n",
    "vereinheitliche_dezimaltrennzeichen(df_22, 'Explained_by_Social_support')\n",
    "vereinheitliche_dezimaltrennzeichen(df_22, 'Dystopia_Residual')"
   ]
  },
  {
   "cell_type": "code",
   "execution_count": 39,
   "id": "3b110e49",
   "metadata": {},
   "outputs": [
    {
     "name": "stdout",
     "output_type": "stream",
     "text": [
      "      Year      Country                           Region  Happiness_Rank  \\\n",
      "0     2023      Finland                   Western Europe               1   \n",
      "1     2023      Denmark                   Western Europe               2   \n",
      "2     2023      Iceland                   Western Europe               3   \n",
      "3     2023       Israel  Middle East and Northern Africa               4   \n",
      "4     2023  Netherlands                   Western Europe               5   \n",
      "...    ...          ...                              ...             ...   \n",
      "1363  2015       Rwanda               Sub-Saharan Africa             154   \n",
      "1364  2015        Benin               Sub-Saharan Africa             155   \n",
      "1365  2015        Syria  Middle East and Northern Africa             156   \n",
      "1366  2015      Burundi               Sub-Saharan Africa             157   \n",
      "1367  2015         Togo               Sub-Saharan Africa             158   \n",
      "\n",
      "      Happiness  Explained_by_Trust  Explained_by_GDP  Explained_by_Freedom  \\\n",
      "0         7.804             0.53500           1.88800               0.77200   \n",
      "1         7.586             0.52500           1.94900               0.73400   \n",
      "2         7.530             0.18700           1.92600               0.73800   \n",
      "3         7.473             0.15800           1.83300               0.56900   \n",
      "4         7.403             0.39400           1.94200               0.67200   \n",
      "...         ...                 ...               ...                   ...   \n",
      "1363      3.465             0.55191           0.22208               0.59201   \n",
      "1364      3.340             0.08010           0.28665               0.48450   \n",
      "1365      3.006             0.18906           0.66320               0.15684   \n",
      "1366      2.905             0.10062           0.01530               0.11850   \n",
      "1367      2.839             0.10731           0.20868               0.36453   \n",
      "\n",
      "      Explained_by_Generosity  Explained_by_Health  \\\n",
      "0                     0.12600              0.53500   \n",
      "1                     0.20800              0.53700   \n",
      "2                     0.25000              0.55900   \n",
      "3                     0.12400              0.57700   \n",
      "4                     0.25100              0.54500   \n",
      "...                       ...                  ...   \n",
      "1363                  0.22628              0.42864   \n",
      "1364                  0.18260              0.31910   \n",
      "1365                  0.47179              0.72193   \n",
      "1366                  0.19727              0.22396   \n",
      "1367                  0.16681              0.28443   \n",
      "\n",
      "      Explained_by_Social_support  Dystopia_Residual  \n",
      "0                         1.58500            2.36300  \n",
      "1                         1.54800            2.08400  \n",
      "2                         1.62000            2.25000  \n",
      "3                         1.52100            2.69100  \n",
      "4                         1.48800            2.11000  \n",
      "...                           ...                ...  \n",
      "1363                      0.77370            0.67042  \n",
      "1364                      0.35386            1.63328  \n",
      "1365                      0.47489            0.32858  \n",
      "1366                      0.41587            1.83302  \n",
      "1367                      0.13995            1.56726  \n",
      "\n",
      "[1368 rows x 12 columns]\n"
     ]
    }
   ],
   "source": [
    "selected_dataframes = []\n",
    "\n",
    "# Schleife durch die DataFrames und wähle die gewünschten Spalten aus\n",
    "for df in dataframes:\n",
    "    df = df[selected_columns]  # Auswahl der Spalten\n",
    "    selected_dataframes.append(df)\n",
    "\n",
    "# Setze den Index der DataFrames zurück\n",
    "for df in selected_dataframes:\n",
    "    df.reset_index(drop=True, inplace=True)\n",
    "\n",
    "# Verwende pd.concat(), um die DataFrames reihenweise zu kombinieren\n",
    "merged_df = pd.concat(selected_dataframes, axis=0, ignore_index=True)\n",
    "\n",
    "# Das merged_df enthält die ausgewählten Spalten in gleicher Reihenfolge für alle Jahre\n",
    "print(merged_df)"
   ]
  },
  {
   "cell_type": "code",
   "execution_count": 40,
   "id": "f76c2330",
   "metadata": {},
   "outputs": [],
   "source": [
    "capital_coordinates =  {\n",
    "    'Azerbaijan*': {'Country': 'Azerbaijan*', 'Capital': 'Baku', 'Long': 49.8932, 'Lat': 40.3834},\n",
    "    'Belarus*': {'Country': 'Belarus*', 'Capital': 'Minsk', 'Long': 27.5661, 'Lat': 53.9045},\n",
    "    'Belize': {'Country': 'Belize', 'Capital': 'Belmopan', 'Long': -88.7737, 'Lat': 17.2510},\n",
    "    'Botswana*': {'Country': 'Botswana*', 'Capital': 'Gaborone', 'Long': 25.9201, 'Lat': -24.6541},\n",
    "    'Chad*': {'Country': 'Chad*', 'Capital': 'NDjamena', 'Long': 15.0498, 'Lat': 12.6392},\n",
    "    'Comoros*': {'Country': 'Comoros*', 'Capital': 'Moroni', 'Long': 43.2551, 'Lat': -11.7042},\n",
    "    'Congo': {'Country': 'Congo', 'Capital': 'Brazzaville', 'Long': 15.2663, 'Lat': -4.2767},\n",
    "    'Czechia': {'Country': 'Czechia', 'Capital': 'Prague', 'Long': 14.4212, 'Lat': 50.0878},\n",
    "    'Eswatini, Kingdom of*': {'Country': 'Eswatini, Kingdom of*', 'Capital': 'Mbabane', 'Long': 31.1332, 'Lat': -26.3054},\n",
    "    'Gambia': {'Country': 'Gambia', 'Capital': 'Banjul', 'Long': -16.6149, 'Lat': 13.4549},\n",
    "    'Gambia*': {'Country': 'Gambia*', 'Capital': 'Banjul', 'Long': -16.6149, 'Lat': 13.4549},\n",
    "    'Guatemala*': {'Country': 'Guatemala*', 'Capital': 'Guatemala City', 'Long': -90.5069, 'Lat': 14.6349},\n",
    "    'Hong Kong S.A.R. of China': {'Country': 'Hong Kong S.A.R. of China', 'Capital': 'Hong Kong', 'Long': 114.1694, 'Lat': 22.3193},\n",
    "    'Hong Kong S.A.R., China': {'Country': 'Hong Kong S.A.R., China', 'Capital': 'Hong Kong', 'Long': 114.1694, 'Lat': 22.3193},\n",
    "    'Kuwait*': {'Country': 'Kuwait*', 'Capital': 'Kuwait City', 'Long': 47.9774, 'Lat': 29.3759},\n",
    "    'Lesotho*': {'Country': 'Lesotho*', 'Capital': 'Maseru', 'Long': 27.5130, 'Lat': -29.2977},\n",
    "    'Liberia*': {'Country': 'Liberia*', 'Capital': 'Monrovia', 'Long': -10.7876, 'Lat': 6.3110},\n",
    "    'Libya*': {'Country': 'Libya*', 'Capital': 'Tripoli', 'Long': 13.1879, 'Lat': 32.8830},\n",
    "    'Luxembourg*': {'Country': 'Luxembourg*', 'Capital': 'Luxembourg', 'Long': 6.1237, 'Lat': 49.6117},\n",
    "    'Madagascar*': {'Country': 'Madagascar*', 'Capital': 'Antananarivo', 'Long': 47.5079, 'Lat': -18.8792},\n",
    "    'Maldives': {'Country': 'Maldives', 'Capital': 'Malé', 'Long': 73.5093, 'Lat': 4.1755},\n",
    "    'Mauritania*': {'Country': 'Mauritania*', 'Capital': 'Nouakchott', 'Long': -15.9666, 'Lat': 18.0735},\n",
    "    'Namibia': {'Country': 'Namibia', 'Capital': 'Windhoek', 'Long': 17.0658, 'Lat': -22.5597},\n",
    "    'Niger*': {'Country': 'Niger*', 'Capital': 'Niamey', 'Long': 2.1128, 'Lat': 13.5128},\n",
    "    'North Cyprus*': {'Country': 'North Cyprus*', 'Capital': 'North Nicosia', 'Long': 33.5138, 'Lat': 35.1823},\n",
    "    'North Macedonia': {'Country': 'North Macedonia', 'Capital': 'Skopje', 'Long': 21.4335, 'Lat': 42.0022},\n",
    "    'Northern Cyprus': {'Country': 'Northern Cyprus', 'Capital': 'North Nicosia', 'Long': 33.5138, 'Lat': 35.1823},\n",
    "    'Palestinian Territories*': {'Country': 'Palestinian Territories*', 'Capital': 'Ramallah', 'Long': 35.2032, 'Lat': 31.8994},\n",
    "    'Puerto Rico': {'Country': 'Puerto Rico', 'Capital': 'San Juan', 'Long': -66.1057, 'Lat': 18.4655},\n",
    "    'Rwanda*': {'Country': 'Rwanda*', 'Capital': 'Kigali', 'Long': 30.0615, 'Lat': -1.9499},\n",
    "    'Somalia': {'Country': 'Somalia', 'Capital': 'Mogadishu', 'Long': 45.3438, 'Lat': 2.0469},\n",
    "    'Somaliland Region': {'Country': 'Somaliland Region', 'Capital': 'Hargeisa', 'Long': 44.0521, 'Lat': 9.5581},\n",
    "    'South Sudan': {'Country': 'South Sudan', 'Capital': 'Juba', 'Long': 31.5760, 'Lat': 4.8594},\n",
    "    'State of Palestine': {'Country': 'State of Palestine', 'Capital': 'Ramallah', 'Long': 35.2032, 'Lat': 31.8994},\n",
    "    'Taiwan Province of China': {'Country': 'Taiwan Province of China', 'Capital': 'Taipei', 'Long': 121.5654, 'Lat': 25.0320},\n",
    "    'Trinidad & Tobago': {'Country': 'Trinidad & Tobago', 'Capital': 'Port of Spain', 'Long': -61.5240, 'Lat': 10.6596},\n",
    "    'Turkiye': {'Country': 'Turkiye', 'Capital': 'Ankara', 'Long': 32.8641, 'Lat': 39.9334},\n",
    "    'Turkmenistan*': {'Country': 'Turkmenistan*', 'Capital': 'Ashgabat', 'Long': 58.3839, 'Lat': 37.9887},\n",
    "    'Yemen*': {'Country': 'Yemen*', 'Capital': \"Sana'a\", 'Long': 44.2075, 'Lat': 15.3694}\n",
    "}\n",
    "\n"
   ]
  },
  {
   "cell_type": "code",
   "execution_count": 41,
   "id": "9b508e44",
   "metadata": {},
   "outputs": [
    {
     "ename": "AttributeError",
     "evalue": "'DataFrame' object has no attribute 'append'",
     "output_type": "error",
     "traceback": [
      "\u001b[1;31m---------------------------------------------------------------------------\u001b[0m",
      "\u001b[1;31mAttributeError\u001b[0m                            Traceback (most recent call last)",
      "\u001b[1;32m~\\AppData\\Local\\Temp\\ipykernel_17844\\1236430844.py\u001b[0m in \u001b[0;36m?\u001b[1;34m()\u001b[0m\n\u001b[0;32m      1\u001b[0m \u001b[1;32mfor\u001b[0m \u001b[0mcountry\u001b[0m\u001b[1;33m,\u001b[0m \u001b[0mcoordinates\u001b[0m \u001b[1;32min\u001b[0m \u001b[0mcapital_coordinates\u001b[0m\u001b[1;33m.\u001b[0m\u001b[0mitems\u001b[0m\u001b[1;33m(\u001b[0m\u001b[1;33m)\u001b[0m\u001b[1;33m:\u001b[0m\u001b[1;33m\u001b[0m\u001b[1;33m\u001b[0m\u001b[0m\n\u001b[0;32m      2\u001b[0m     \u001b[1;32mif\u001b[0m \u001b[0mcountry\u001b[0m \u001b[1;32mnot\u001b[0m \u001b[1;32min\u001b[0m \u001b[0mdf\u001b[0m\u001b[1;33m[\u001b[0m\u001b[1;34m'Country'\u001b[0m\u001b[1;33m]\u001b[0m\u001b[1;33m.\u001b[0m\u001b[0mvalues\u001b[0m\u001b[1;33m:\u001b[0m\u001b[1;33m\u001b[0m\u001b[1;33m\u001b[0m\u001b[0m\n\u001b[1;32m----> 3\u001b[1;33m         \u001b[0mdf\u001b[0m\u001b[1;33m=\u001b[0m\u001b[0mdf\u001b[0m\u001b[1;33m.\u001b[0m\u001b[0mappend\u001b[0m\u001b[1;33m(\u001b[0m\u001b[1;33m{\u001b[0m\u001b[1;34m'Country'\u001b[0m\u001b[1;33m:\u001b[0m \u001b[0mcountry\u001b[0m\u001b[1;33m,\u001b[0m \u001b[1;34m'Lat'\u001b[0m\u001b[1;33m:\u001b[0m \u001b[0mcoordinates\u001b[0m\u001b[1;33m[\u001b[0m\u001b[1;34m'Lat'\u001b[0m\u001b[1;33m]\u001b[0m\u001b[1;33m,\u001b[0m \u001b[1;34m'Long'\u001b[0m\u001b[1;33m:\u001b[0m \u001b[0mcoordinates\u001b[0m\u001b[1;33m[\u001b[0m\u001b[1;34m'Long'\u001b[0m\u001b[1;33m]\u001b[0m\u001b[1;33m}\u001b[0m\u001b[1;33m,\u001b[0m \u001b[0mignore_index\u001b[0m\u001b[1;33m=\u001b[0m\u001b[1;32mTrue\u001b[0m\u001b[1;33m)\u001b[0m\u001b[1;33m\u001b[0m\u001b[1;33m\u001b[0m\u001b[0m\n\u001b[0m",
      "\u001b[1;32mC:\\ProgramData\\anaconda3\\Lib\\site-packages\\pandas\\core\\generic.py\u001b[0m in \u001b[0;36m?\u001b[1;34m(self, name)\u001b[0m\n\u001b[0;32m   5985\u001b[0m             \u001b[1;32mand\u001b[0m \u001b[0mname\u001b[0m \u001b[1;32mnot\u001b[0m \u001b[1;32min\u001b[0m \u001b[0mself\u001b[0m\u001b[1;33m.\u001b[0m\u001b[0m_accessors\u001b[0m\u001b[1;33m\u001b[0m\u001b[1;33m\u001b[0m\u001b[0m\n\u001b[0;32m   5986\u001b[0m             \u001b[1;32mand\u001b[0m \u001b[0mself\u001b[0m\u001b[1;33m.\u001b[0m\u001b[0m_info_axis\u001b[0m\u001b[1;33m.\u001b[0m\u001b[0m_can_hold_identifiers_and_holds_name\u001b[0m\u001b[1;33m(\u001b[0m\u001b[0mname\u001b[0m\u001b[1;33m)\u001b[0m\u001b[1;33m\u001b[0m\u001b[1;33m\u001b[0m\u001b[0m\n\u001b[0;32m   5987\u001b[0m         ):\n\u001b[0;32m   5988\u001b[0m             \u001b[1;32mreturn\u001b[0m \u001b[0mself\u001b[0m\u001b[1;33m[\u001b[0m\u001b[0mname\u001b[0m\u001b[1;33m]\u001b[0m\u001b[1;33m\u001b[0m\u001b[1;33m\u001b[0m\u001b[0m\n\u001b[1;32m-> 5989\u001b[1;33m         \u001b[1;32mreturn\u001b[0m \u001b[0mobject\u001b[0m\u001b[1;33m.\u001b[0m\u001b[0m__getattribute__\u001b[0m\u001b[1;33m(\u001b[0m\u001b[0mself\u001b[0m\u001b[1;33m,\u001b[0m \u001b[0mname\u001b[0m\u001b[1;33m)\u001b[0m\u001b[1;33m\u001b[0m\u001b[1;33m\u001b[0m\u001b[0m\n\u001b[0m",
      "\u001b[1;31mAttributeError\u001b[0m: 'DataFrame' object has no attribute 'append'"
     ]
    }
   ],
   "source": [
    "for country, coordinates in capital_coordinates.items():\n",
    "    if country not in df['Country'].values:\n",
    "        df=df.append({'Country': country, 'Lat': coordinates['Lat'], 'Long': coordinates['Long']}, ignore_index=True)"
   ]
  },
  {
   "cell_type": "code",
   "execution_count": 42,
   "id": "0c9c19f6",
   "metadata": {},
   "outputs": [],
   "source": [
    "country_to_region = {\n",
    "    'Finland': 'Europe',\n",
    "    'Denmark': 'Europe',\n",
    "    'Iceland': 'Europe',\n",
    "    'Israel': 'Asia',\n",
    "    'Netherlands': 'Europe',\n",
    "    'Sweden': 'Europe',\n",
    "    'Norway': 'Europe',\n",
    "    'Switzerland': 'Europe',\n",
    "    'Luxembourg': 'Europe',\n",
    "    'New Zealand': 'Oceania',\n",
    "    'Austria': 'Europe',\n",
    "    'Australia': 'Oceania',\n",
    "    'Canada': 'North America',\n",
    "    'Ireland': 'Europe',\n",
    "    'United States': 'North America',\n",
    "    'Germany': 'Europe',\n",
    "    'Belgium': 'Europe',\n",
    "    'Czechia': 'Europe',\n",
    "    'United Kingdom': 'Europe',\n",
    "    'Lithuania': 'Europe',\n",
    "    'France': 'Europe',\n",
    "    'Slovenia': 'Europe',\n",
    "    'Costa Rica': 'North America',\n",
    "    'Romania': 'Europe',\n",
    "    'Singapore': 'Asia',\n",
    "    'United Arab Emirates': 'Asia',\n",
    "    'Taiwan Province of China': 'Asia',\n",
    "    'Uruguay': 'South America',\n",
    "    'Slovakia': 'Europe',\n",
    "    'Saudi Arabia': 'Asia',\n",
    "    'Estonia': 'Europe',\n",
    "    'Spain': 'Europe',\n",
    "    'Italy': 'Europe',\n",
    "    'Kosovo': 'Europe',\n",
    "    'Chile': 'South America',\n",
    "    'Mexico': 'North America',\n",
    "    'Malta': 'Europe',\n",
    "    'Panama': 'North America',\n",
    "    'Poland': 'Europe',\n",
    "    'Nicaragua': 'North America',\n",
    "    'Latvia': 'Europe',\n",
    "    'Bahrain': 'Asia',\n",
    "    'Guatemala': 'North America',\n",
    "    'Kazakhstan': 'Asia',\n",
    "    'Serbia': 'Europe',\n",
    "    'Cyprus': 'Europe',\n",
    "    'Japan': 'Asia',\n",
    "    'Croatia': 'Europe',\n",
    "    'Brazil': 'South America',\n",
    "    'El Salvador': 'North America',\n",
    "    'Hungary': 'Europe',\n",
    "    'Argentina': 'South America',\n",
    "    'Honduras': 'North America',\n",
    "    'Uzbekistan': 'Asia',\n",
    "    'Malaysia': 'Asia',\n",
    "    'Portugal': 'Europe',\n",
    "    'South Korea': 'Asia',\n",
    "    'Greece': 'Europe',\n",
    "    'Mauritius': 'Africa',\n",
    "    'Thailand': 'Asia',\n",
    "    'Mongolia': 'Asia',\n",
    "    'Kyrgyzstan': 'Asia',\n",
    "    'Moldova': 'Europe',\n",
    "    'China': 'Asia',\n",
    "    'Vietnam': 'Asia',\n",
    "    'Paraguay': 'South America',\n",
    "    'Montenegro': 'Europe',\n",
    "    'Jamaica': 'North America',\n",
    "    'Bolivia': 'South America',\n",
    "    'Russia': 'Europe',\n",
    "    'Bosnia and Herzegovina': 'Europe',\n",
    "    'Colombia': 'South America',\n",
    "    'Dominican Republic': 'North America',\n",
    "    'Ecuador': 'South America',\n",
    "    'Peru': 'South America',\n",
    "    'Philippines': 'Asia',\n",
    "    'Bulgaria': 'Europe',\n",
    "    'Nepal': 'Asia',\n",
    "    'Armenia': 'Asia',\n",
    "    'Tajikistan': 'Asia',\n",
    "    'Algeria': 'Africa',\n",
    "    'Hong Kong S.A.R. of China': 'Asia',\n",
    "    'Albania': 'Europe',\n",
    "    'Indonesia': 'Asia',\n",
    "    'South Africa': 'Africa',\n",
    "    'Congo (Brazzaville)': 'Africa',\n",
    "    'North Macedonia': 'Europe',\n",
    "    'Venezuela': 'South America',\n",
    "    'Laos': 'Asia',\n",
    "    'Georgia': 'Asia',\n",
    "    'Guinea': 'Africa',\n",
    "    'Ukraine': 'Europe',\n",
    "    'Ivory Coast': 'Africa',\n",
    "    'Gabon': 'Africa',\n",
    "    'Nigeria': 'Africa',\n",
    "    'Cameroon': 'Africa',\n",
    "    'Mozambique': 'Africa',\n",
    "    'Iraq': 'Asia',\n",
    "    'State of Palestine': 'Asia',\n",
    "    'Morocco': 'Africa',\n",
    "    'Iran': 'Asia',\n",
    "    'Senegal': 'Africa',\n",
    "    'Mauritania': 'Africa',\n",
    "    'Burkina Faso': 'Africa',\n",
    "    'Namibia': 'Africa',\n",
    "    'Turkiye': 'Asia',\n",
    "    'Ghana': 'Africa',\n",
    "    'Pakistan': 'Asia',\n",
    "    'Niger': 'Africa',\n",
    "    'Tunisia': 'Africa',\n",
    "    'Kenya': 'Africa',\n",
    "    'Sri Lanka': 'Asia',\n",
    "    'Uganda': 'Africa',\n",
    "    'Chad': 'Africa',\n",
    "    'Cambodia': 'Asia',\n",
    "    'Benin': 'Africa',\n",
    "    'Myanmar': 'Asia',\n",
    "    'Bangladesh': 'Asia',\n",
    "    'Gambia': 'Africa',\n",
    "    'Mali': 'Africa',\n",
    "    'Egypt': 'Africa',\n",
    "    'Togo': 'Africa',\n",
    "    'Jordan': 'Asia',\n",
    "    'Ethiopia': 'Africa',\n",
    "    'Liberia': 'Africa',\n",
    "    'India': 'Asia',\n",
    "    'Madagascar': 'Africa',\n",
    "    'Zambia': 'Africa',\n",
    "    'Tanzania': 'Africa',\n",
    "    'Comoros': 'Africa',\n",
    "    'Malawi': 'Africa',\n",
    "    'Botswana': 'Africa',\n",
    "    'Congo (Kinshasa)': 'Africa',\n",
    "    'Zimbabwe': 'Africa',\n",
    "    'Sierra Leone': 'Africa',\n",
    "    'Lebanon': 'Asia',\n",
    "    'Afghanistan': 'Asia',\n",
    "    'Luxembourg*': 'Europe',\n",
    "    'Guatemala*': 'North America',\n",
    "    'Kuwait*': 'Asia',\n",
    "    'Belarus*': 'Europe',\n",
    "    'Turkmenistan*': 'Asia',\n",
    "    'North Cyprus*': 'Europe',\n",
    "    'Libya*': 'Africa',\n",
    "    'Azerbaijan*': 'Asia',\n",
    "    'Gambia*': 'Africa',\n",
    "    'Liberia*': 'Africa',\n",
    "    'Congo': 'Africa',\n",
    "    'Niger*': 'Africa',\n",
    "    'Turkey': 'Asia',\n",
    "    'Comoros*': 'Africa',\n",
    "    'Palestinian Territories*': 'Asia',\n",
    "    'Eswatini, Kingdom of*': 'Africa',\n",
    "    'Madagascar*': 'Africa',\n",
    "    'Chad*': 'Africa',\n",
    "    'Yemen*': 'Asia',\n",
    "    'Mauritania*': 'Africa',\n",
    "    'Lesotho*': 'Africa',\n",
    "    'Botswana*': 'Africa',\n",
    "    'Rwanda*': 'Africa',\n",
    "    'Czech Republic': 'Europe',\n",
    "    'Kuwait': 'Asia',\n",
    "    'North Cyprus': 'Europe',\n",
    "    'Belarus': 'Europe',\n",
    "    'Libya': 'Africa',\n",
    "    'Maldives': 'Asia',\n",
    "    'Azerbaijan': 'Asia',\n",
    "    'Turkmenistan': 'Asia',\n",
    "    'Palestinian Territories': 'Asia',\n",
    "    'Swaziland': 'Africa',\n",
    "    'Burundi': 'Africa',\n",
    "    'Yemen': 'Asia',\n",
    "    'Haiti': 'North America',\n",
    "    'Lesotho': 'Africa',\n",
    "    'Rwanda': 'Africa',\n",
    "    'Trinidad and Tobago': 'North America',\n",
    "    'Macedonia': 'Europe',\n",
    "    'Central African Republic': 'Africa',\n",
    "    'South Sudan': 'Africa',\n",
    "    'Taiwan': 'Asia',\n",
    "    'Qatar': 'Asia',\n",
    "    'Trinidad & Tobago': 'North America',\n",
    "    'Northern Cyprus': 'Europe',\n",
    "    'Hong Kong': 'Asia',\n",
    "    'Bhutan': 'Asia',\n",
    "    'Somalia': 'Africa',\n",
    "    'Syria': 'Asia',\n",
    "    'Belize': 'North America',\n",
    "    'Sudan': 'Africa',\n",
    "    'Angola': 'Africa',\n",
    "    'Hong Kong S.A.R., China': 'Asia',\n",
    "    'Puerto Rico': 'North America',\n",
    "    'Suriname': 'South America',\n",
    "    'Somaliland Region': 'Africa',\n",
    "    'Oman': 'Asia',\n",
    "    'Somaliland region': 'Africa',\n",
    "    'Djibouti': 'Africa'\n",
    "}"
   ]
  },
  {
   "cell_type": "code",
   "execution_count": 43,
   "id": "3e91da00",
   "metadata": {},
   "outputs": [
    {
     "name": "stdout",
     "output_type": "stream",
     "text": [
      "Das Dictionary wurde in regions.pkl gespeichert.\n"
     ]
    }
   ],
   "source": [
    "dateiname = \"regions.pkl\"\n",
    "\n",
    "# Öffne die Datei im Schreibmodus und speichere das Dictionary mit Pickle\n",
    "with open(dateiname, \"wb\") as datei:\n",
    "    pickle.dump(country_to_region, datei)\n",
    "\n",
    "print(f\"Das Dictionary wurde in {dateiname} gespeichert.\")"
   ]
  },
  {
   "cell_type": "code",
   "execution_count": 153,
   "id": "9981e2cb",
   "metadata": {},
   "outputs": [
    {
     "data": {
      "text/plain": [
       "Index(['Year', 'Country', 'Region', 'Happiness_Rank', 'Happiness',\n",
       "       'Explained_by_Trust', 'Explained_by_GDP', 'Explained_by_Freedom',\n",
       "       'Explained_by_Generosity', 'Explained_by_Health',\n",
       "       'Explained_by_Social_support', 'Dystopia_Residual'],\n",
       "      dtype='object')"
      ]
     },
     "execution_count": 153,
     "metadata": {},
     "output_type": "execute_result"
    }
   ],
   "source": [
    "merged_df.columns"
   ]
  },
  {
   "cell_type": "code",
   "execution_count": 154,
   "id": "159471f3",
   "metadata": {},
   "outputs": [],
   "source": [
    "merged_df.to_csv('merged_data.csv', index=False)  #speichern"
   ]
  },
  {
   "cell_type": "code",
   "execution_count": 196,
   "id": "ac2d26e6",
   "metadata": {},
   "outputs": [
    {
     "data": {
      "text/html": [
       "<div>\n",
       "<style scoped>\n",
       "    .dataframe tbody tr th:only-of-type {\n",
       "        vertical-align: middle;\n",
       "    }\n",
       "\n",
       "    .dataframe tbody tr th {\n",
       "        vertical-align: top;\n",
       "    }\n",
       "\n",
       "    .dataframe thead th {\n",
       "        text-align: right;\n",
       "    }\n",
       "</style>\n",
       "<table border=\"1\" class=\"dataframe\">\n",
       "  <thead>\n",
       "    <tr style=\"text-align: right;\">\n",
       "      <th></th>\n",
       "      <th>Year</th>\n",
       "      <th>Country</th>\n",
       "      <th>Region</th>\n",
       "      <th>Happiness_Rank</th>\n",
       "      <th>Happiness</th>\n",
       "      <th>Explained_by_Trust</th>\n",
       "      <th>Explained_by_GDP</th>\n",
       "      <th>Explained_by_Freedom</th>\n",
       "      <th>Explained_by_Generosity</th>\n",
       "      <th>Explained_by_Health</th>\n",
       "      <th>Explained_by_Social_support</th>\n",
       "      <th>Dystopia_Residual</th>\n",
       "    </tr>\n",
       "  </thead>\n",
       "  <tbody>\n",
       "    <tr>\n",
       "      <th>0</th>\n",
       "      <td>2023</td>\n",
       "      <td>Finland</td>\n",
       "      <td>Western Europe</td>\n",
       "      <td>1</td>\n",
       "      <td>7.804</td>\n",
       "      <td>0.535</td>\n",
       "      <td>1.888</td>\n",
       "      <td>0.772</td>\n",
       "      <td>0.126</td>\n",
       "      <td>0.535</td>\n",
       "      <td>1.585</td>\n",
       "      <td>2.363</td>\n",
       "    </tr>\n",
       "    <tr>\n",
       "      <th>1</th>\n",
       "      <td>2023</td>\n",
       "      <td>Denmark</td>\n",
       "      <td>Western Europe</td>\n",
       "      <td>2</td>\n",
       "      <td>7.586</td>\n",
       "      <td>0.525</td>\n",
       "      <td>1.949</td>\n",
       "      <td>0.734</td>\n",
       "      <td>0.208</td>\n",
       "      <td>0.537</td>\n",
       "      <td>1.548</td>\n",
       "      <td>2.084</td>\n",
       "    </tr>\n",
       "    <tr>\n",
       "      <th>2</th>\n",
       "      <td>2023</td>\n",
       "      <td>Iceland</td>\n",
       "      <td>Western Europe</td>\n",
       "      <td>3</td>\n",
       "      <td>7.53</td>\n",
       "      <td>0.187</td>\n",
       "      <td>1.926</td>\n",
       "      <td>0.738</td>\n",
       "      <td>0.25</td>\n",
       "      <td>0.559</td>\n",
       "      <td>1.62</td>\n",
       "      <td>2.25</td>\n",
       "    </tr>\n",
       "    <tr>\n",
       "      <th>3</th>\n",
       "      <td>2023</td>\n",
       "      <td>Israel</td>\n",
       "      <td>Middle East and Northern Africa</td>\n",
       "      <td>4</td>\n",
       "      <td>7.473</td>\n",
       "      <td>0.158</td>\n",
       "      <td>1.833</td>\n",
       "      <td>0.569</td>\n",
       "      <td>0.124</td>\n",
       "      <td>0.577</td>\n",
       "      <td>1.521</td>\n",
       "      <td>2.691</td>\n",
       "    </tr>\n",
       "    <tr>\n",
       "      <th>4</th>\n",
       "      <td>2023</td>\n",
       "      <td>Netherlands</td>\n",
       "      <td>Western Europe</td>\n",
       "      <td>5</td>\n",
       "      <td>7.403</td>\n",
       "      <td>0.394</td>\n",
       "      <td>1.942</td>\n",
       "      <td>0.672</td>\n",
       "      <td>0.251</td>\n",
       "      <td>0.545</td>\n",
       "      <td>1.488</td>\n",
       "      <td>2.11</td>\n",
       "    </tr>\n",
       "  </tbody>\n",
       "</table>\n",
       "</div>"
      ],
      "text/plain": [
       "   Year      Country                           Region  Happiness_Rank  \\\n",
       "0  2023      Finland                   Western Europe               1   \n",
       "1  2023      Denmark                   Western Europe               2   \n",
       "2  2023      Iceland                   Western Europe               3   \n",
       "3  2023       Israel  Middle East and Northern Africa               4   \n",
       "4  2023  Netherlands                   Western Europe               5   \n",
       "\n",
       "  Happiness Explained_by_Trust Explained_by_GDP Explained_by_Freedom  \\\n",
       "0     7.804              0.535            1.888                0.772   \n",
       "1     7.586              0.525            1.949                0.734   \n",
       "2      7.53              0.187            1.926                0.738   \n",
       "3     7.473              0.158            1.833                0.569   \n",
       "4     7.403              0.394            1.942                0.672   \n",
       "\n",
       "  Explained_by_Generosity Explained_by_Health Explained_by_Social_support  \\\n",
       "0                   0.126               0.535                       1.585   \n",
       "1                   0.208               0.537                       1.548   \n",
       "2                    0.25               0.559                        1.62   \n",
       "3                   0.124               0.577                       1.521   \n",
       "4                   0.251               0.545                       1.488   \n",
       "\n",
       "  Dystopia_Residual  \n",
       "0             2.363  \n",
       "1             2.084  \n",
       "2              2.25  \n",
       "3             2.691  \n",
       "4              2.11  "
      ]
     },
     "execution_count": 196,
     "metadata": {},
     "output_type": "execute_result"
    }
   ],
   "source": [
    "merged_df.head()"
   ]
  },
  {
   "cell_type": "code",
   "execution_count": 111,
   "id": "e56f5d8f",
   "metadata": {},
   "outputs": [
    {
     "name": "stdout",
     "output_type": "stream",
     "text": [
      "              Country  Regional indicator  Happiness  \\\n",
      "    Year                                               \n",
      "0   2020      Finland      Western Europe     7.8087   \n",
      "1   2020      Denmark      Western Europe     7.6456   \n",
      "2   2020  Switzerland      Western Europe     7.5599   \n",
      "3   2020      Iceland      Western Europe     7.5045   \n",
      "4   2020       Norway      Western Europe     7.4880   \n",
      "...               ...                 ...        ...   \n",
      "144 2021      Lesotho  Sub-Saharan Africa     3.5120   \n",
      "145 2021     Botswana  Sub-Saharan Africa     3.4670   \n",
      "146 2021       Rwanda  Sub-Saharan Africa     3.4150   \n",
      "147 2021     Zimbabwe  Sub-Saharan Africa     3.1450   \n",
      "148 2021  Afghanistan          South Asia     2.5230   \n",
      "\n",
      "          Standard error of ladder score  upperwhisker  lowerwhisker  \\\n",
      "    Year                                                               \n",
      "0   2020                        0.031156      7.869766      7.747634   \n",
      "1   2020                        0.033492      7.711245      7.579955   \n",
      "2   2020                        0.035014      7.628528      7.491272   \n",
      "3   2020                        0.059616      7.621347      7.387653   \n",
      "4   2020                        0.034837      7.556281      7.419719   \n",
      "...                                  ...           ...           ...   \n",
      "144 2021                        0.120000      3.748000      3.276000   \n",
      "145 2021                        0.074000      3.611000      3.322000   \n",
      "146 2021                        0.068000      3.548000      3.282000   \n",
      "147 2021                        0.058000      3.259000      3.030000   \n",
      "148 2021                        0.038000      2.596000      2.449000   \n",
      "\n",
      "          Logged GDP per capita  Ladder score in Dystopia  Explained_by_GDP  \\\n",
      "    Year                                                                      \n",
      "0   2020              10.639267                  1.972317          1.285190   \n",
      "1   2020              10.774001                  1.972317          1.326949   \n",
      "2   2020              10.979933                  1.972317          1.390774   \n",
      "3   2020              10.772559                  1.972317          1.326502   \n",
      "4   2020              11.087804                  1.972317          1.424207   \n",
      "...                         ...                       ...               ...   \n",
      "144 2021               7.926000                  2.430000          0.451000   \n",
      "145 2021               9.782000                  2.430000          1.099000   \n",
      "146 2021               7.676000                  2.430000          0.364000   \n",
      "147 2021               7.943000                  2.430000          0.457000   \n",
      "148 2021               7.695000                  2.430000          0.370000   \n",
      "\n",
      "          Explained_by_Social_support  Explained_by_Health  \\\n",
      "    Year                                                     \n",
      "0   2020                     1.499526             0.961271   \n",
      "1   2020                     1.503449             0.979333   \n",
      "2   2020                     1.472403             1.040533   \n",
      "3   2020                     1.547567             1.000843   \n",
      "4   2020                     1.495173             1.008072   \n",
      "...                               ...                  ...   \n",
      "144 2021                     0.731000             0.007000   \n",
      "145 2021                     0.724000             0.340000   \n",
      "146 2021                     0.202000             0.407000   \n",
      "147 2021                     0.649000             0.243000   \n",
      "148 2021                     0.000000             0.126000   \n",
      "\n",
      "          Explained_by_Freedom  Explained_by_Generosity  Explained_by_Trust  \\\n",
      "    Year                                                                      \n",
      "0   2020              0.662317                 0.159670            0.477857   \n",
      "1   2020              0.665040                 0.242793            0.495260   \n",
      "2   2020              0.628954                 0.269056            0.407946   \n",
      "3   2020              0.661981                 0.362330            0.144541   \n",
      "4   2020              0.670201                 0.287985            0.434101   \n",
      "...                        ...                      ...                 ...   \n",
      "144 2021              0.405000                 0.103000            0.015000   \n",
      "145 2021              0.539000                 0.027000            0.088000   \n",
      "146 2021              0.627000                 0.227000            0.493000   \n",
      "147 2021              0.359000                 0.157000            0.075000   \n",
      "148 2021              0.000000                 0.122000            0.010000   \n",
      "\n",
      "          Dystopia_Residual  Happiness_Rank              Region  \n",
      "    Year                                                         \n",
      "0   2020           2.762835               1      Western Europe  \n",
      "1   2020           2.432741               2      Western Europe  \n",
      "2   2020           2.350267               3      Western Europe  \n",
      "3   2020           2.460688               4      Western Europe  \n",
      "4   2020           2.168266               5      Western Europe  \n",
      "...                     ...             ...                 ...  \n",
      "144 2021           1.800000             145  Sub-Saharan Africa  \n",
      "145 2021           0.648000             146  Sub-Saharan Africa  \n",
      "146 2021           1.095000             147  Sub-Saharan Africa  \n",
      "147 2021           1.205000             148  Sub-Saharan Africa  \n",
      "148 2021           1.895000             149       Southern Asia  \n",
      "\n",
      "[302 rows x 17 columns]\n"
     ]
    }
   ],
   "source": [
    "data_2020 = df_20\n",
    "\n",
    "data_2021 = df_21\n",
    "\n",
    "\n",
    "# Füge das Jahr als Index hinzu\n",
    "df_20.set_index(\"Year\", append=True, inplace=True)\n",
    "df_21.set_index(\"Year\", append=True, inplace=True)\n",
    "\n",
    "# Verwende pd.concat() für das Zusammenführen und Erstellen eines Multi-Index\n",
    "merged_df = pd.concat([df_20, df_21])\n",
    "\n",
    "# Das merged_df hat nun einen Multi-Index mit \"Country\" und \"Year\"\n",
    "print(merged_df)"
   ]
  },
  {
   "cell_type": "code",
   "execution_count": 112,
   "id": "7a5233b1",
   "metadata": {},
   "outputs": [
    {
     "name": "stdout",
     "output_type": "stream",
     "text": [
      "          Country Happiness  Standard error of ladder score  upperwhisker  \\\n",
      "0         Finland     7.804                           0.036         7.875   \n",
      "1         Denmark     7.586                           0.041         7.667   \n",
      "2         Iceland      7.53                           0.049         7.625   \n",
      "3          Israel     7.473                           0.032         7.535   \n",
      "4     Netherlands     7.403                           0.029         7.460   \n",
      "...           ...       ...                             ...           ...   \n",
      "1363       Rwanda     3.465                             NaN           NaN   \n",
      "1364        Benin      3.34                             NaN           NaN   \n",
      "1365        Syria     3.006                             NaN           NaN   \n",
      "1366      Burundi     2.905                             NaN           NaN   \n",
      "1367         Togo     2.839                             NaN           NaN   \n",
      "\n",
      "      lowerwhisker  Logged GDP per capita  Ladder score in Dystopia  \\\n",
      "0            7.733                 10.792                     1.778   \n",
      "1            7.506                 10.962                     1.778   \n",
      "2            7.434                 10.896                     1.778   \n",
      "3            7.411                 10.639                     1.778   \n",
      "4            7.346                 10.942                     1.778   \n",
      "...            ...                    ...                       ...   \n",
      "1363           NaN                    NaN                       NaN   \n",
      "1364           NaN                    NaN                       NaN   \n",
      "1365           NaN                    NaN                       NaN   \n",
      "1366           NaN                    NaN                       NaN   \n",
      "1367           NaN                    NaN                       NaN   \n",
      "\n",
      "     Explained_by_GDP Explained_by_Social_support Explained_by_Health  ...  \\\n",
      "0               1.888                       1.585               0.535  ...   \n",
      "1               1.949                       1.548               0.537  ...   \n",
      "2               1.926                        1.62               0.559  ...   \n",
      "3               1.833                       1.521               0.577  ...   \n",
      "4               1.942                       1.488               0.545  ...   \n",
      "...               ...                         ...                 ...  ...   \n",
      "1363          0.22208                      0.7737             0.42864  ...   \n",
      "1364          0.28665                     0.35386              0.3191  ...   \n",
      "1365           0.6632                     0.47489             0.72193  ...   \n",
      "1366           0.0153                     0.41587             0.22396  ...   \n",
      "1367          0.20868                     0.13995             0.28443  ...   \n",
      "\n",
      "     Happiness_Rank                           Region Whisker-high Whisker-low  \\\n",
      "0                 1                   Western Europe          NaN         NaN   \n",
      "1                 2                   Western Europe          NaN         NaN   \n",
      "2                 3                   Western Europe          NaN         NaN   \n",
      "3                 4  Middle East and Northern Africa          NaN         NaN   \n",
      "4                 5                   Western Europe          NaN         NaN   \n",
      "...             ...                              ...          ...         ...   \n",
      "1363            154               Sub-Saharan Africa          NaN         NaN   \n",
      "1364            155               Sub-Saharan Africa          NaN         NaN   \n",
      "1365            156  Middle East and Northern Africa          NaN         NaN   \n",
      "1366            157               Sub-Saharan Africa          NaN         NaN   \n",
      "1367            158               Sub-Saharan Africa          NaN         NaN   \n",
      "\n",
      "      Regional indicator  Whisker.high Whisker.low Lower Confidence Interval  \\\n",
      "0                    NaN           NaN         NaN                       NaN   \n",
      "1                    NaN           NaN         NaN                       NaN   \n",
      "2                    NaN           NaN         NaN                       NaN   \n",
      "3                    NaN           NaN         NaN                       NaN   \n",
      "4                    NaN           NaN         NaN                       NaN   \n",
      "...                  ...           ...         ...                       ...   \n",
      "1363                 NaN           NaN         NaN                       NaN   \n",
      "1364                 NaN           NaN         NaN                       NaN   \n",
      "1365                 NaN           NaN         NaN                       NaN   \n",
      "1366                 NaN           NaN         NaN                       NaN   \n",
      "1367                 NaN           NaN         NaN                       NaN   \n",
      "\n",
      "     Upper Confidence Interval Standard Error  \n",
      "0                          NaN            NaN  \n",
      "1                          NaN            NaN  \n",
      "2                          NaN            NaN  \n",
      "3                          NaN            NaN  \n",
      "4                          NaN            NaN  \n",
      "...                        ...            ...  \n",
      "1363                       NaN        0.03464  \n",
      "1364                       NaN        0.03656  \n",
      "1365                       NaN        0.05015  \n",
      "1366                       NaN        0.08658  \n",
      "1367                       NaN        0.06727  \n",
      "\n",
      "[1368 rows x 25 columns]\n"
     ]
    }
   ],
   "source": [
    "merged_df = pd.concat(dataframes, ignore_index=True)\n",
    "\n",
    "# Das merged_df enthält alle Zeilen aus den DataFrames\n",
    "print(merged_df)"
   ]
  }
 ],
 "metadata": {
  "kernelspec": {
   "display_name": "Python 3 (ipykernel)",
   "language": "python",
   "name": "python3"
  },
  "language_info": {
   "codemirror_mode": {
    "name": "ipython",
    "version": 3
   },
   "file_extension": ".py",
   "mimetype": "text/x-python",
   "name": "python",
   "nbconvert_exporter": "python",
   "pygments_lexer": "ipython3",
   "version": "3.11.5"
  }
 },
 "nbformat": 4,
 "nbformat_minor": 5
}
